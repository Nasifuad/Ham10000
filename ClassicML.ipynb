{
 "cells": [
  {
   "cell_type": "code",
   "execution_count": 1,
   "metadata": {},
   "outputs": [
    {
     "name": "stderr",
     "output_type": "stream",
     "text": [
      "/home/spyros/miniconda3/lib/python3.11/site-packages/tqdm/auto.py:21: TqdmWarning: IProgress not found. Please update jupyter and ipywidgets. See https://ipywidgets.readthedocs.io/en/stable/user_install.html\n",
      "  from .autonotebook import tqdm as notebook_tqdm\n",
      "/home/spyros/miniconda3/lib/python3.11/site-packages/optuna/distributions.py:524: UserWarning: Choices for a categorical distribution should be a tuple of None, bool, int, float and str for persistent storage but contains (64, 128, 256, 512) which is of type tuple.\n",
      "  warnings.warn(message)\n",
      "/home/spyros/miniconda3/lib/python3.11/site-packages/optuna/distributions.py:524: UserWarning: Choices for a categorical distribution should be a tuple of None, bool, int, float and str for persistent storage but contains (50, 100) which is of type tuple.\n",
      "  warnings.warn(message)\n",
      "/home/spyros/miniconda3/lib/python3.11/site-packages/optuna/distributions.py:524: UserWarning: Choices for a categorical distribution should be a tuple of None, bool, int, float and str for persistent storage but contains (16, 64, 128, 514) which is of type tuple.\n",
      "  warnings.warn(message)\n",
      "/home/spyros/miniconda3/lib/python3.11/site-packages/optuna/distributions.py:524: UserWarning: Choices for a categorical distribution should be a tuple of None, bool, int, float and str for persistent storage but contains (32, 64, 128, 256) which is of type tuple.\n",
      "  warnings.warn(message)\n"
     ]
    }
   ],
   "source": [
    "import os\n",
    "import glob\n",
    "import numpy as np\n",
    "import pandas as pd\n",
    "import seaborn as sns\n",
    "import matplotlib.pyplot as plt\n",
    "import random\n",
    "from tqdm import tqdm\n",
    "\n",
    "from torchvision import transforms\n",
    "\n",
    "# import optuna\n",
    "from functions import classic_ml\n",
    "import time\n",
    "\n",
    "import random\n",
    "from PIL import Image\n",
    "import cv2\n",
    "\n",
    "from sklearn.decomposition import IncrementalPCA\n",
    "\n",
    "from sklearn.ensemble import RandomForestClassifier, GradientBoostingClassifier\n",
    "from sklearn.discriminant_analysis import LinearDiscriminantAnalysis\n",
    "from sklearn.linear_model import LogisticRegression\n",
    "# from xgboost import XGBClassifier\n",
    "from sklearn.naive_bayes import GaussianNB\n",
    "from sklearn.neighbors import KNeighborsClassifier\n",
    "from sklearn.tree import DecisionTreeClassifier\n",
    "from sklearn.svm import SVC\n",
    "# from lightgbm import LGBMClassifier\n",
    "from sklearn.gaussian_process import GaussianProcessClassifier\n",
    "from sklearn.model_selection import train_test_split\n",
    "from sklearn.linear_model import SGDClassifier\n",
    "from sklearn.naive_bayes import MultinomialNB\n",
    "from sklearn.linear_model import Perceptron\n",
    "from sklearn.linear_model import PassiveAggressiveClassifier\n",
    "from sklearn.neural_network import MLPClassifier\n",
    "from sklearn.metrics import classification_report, accuracy_score\n",
    "from sklearn.preprocessing import LabelEncoder\n",
    "from sklearn.metrics import confusion_matrix\n",
    "from sklearn.feature_extraction import image\n",
    "from skimage import transform, exposure, io\n",
    "from sklearn.feature_selection import SelectKBest, f_classif\n",
    "\n",
    "\n",
    "from concurrent.futures import ThreadPoolExecutor, as_completed\n",
    "import time\n",
    "import warnings\n",
    "warnings.filterwarnings(\"ignore\")"
   ]
  },
  {
   "cell_type": "code",
   "execution_count": 2,
   "metadata": {},
   "outputs": [],
   "source": [
    "%load_ext autoreload\n",
    "%autoreload 2"
   ]
  },
  {
   "cell_type": "code",
   "execution_count": 3,
   "metadata": {},
   "outputs": [],
   "source": [
    "data = pd.read_csv('data_enum.csv')\n",
    "data = data.sample(frac=1)"
   ]
  },
  {
   "cell_type": "code",
   "execution_count": 4,
   "metadata": {},
   "outputs": [
    {
     "data": {
      "text/html": [
       "<div>\n",
       "<style scoped>\n",
       "    .dataframe tbody tr th:only-of-type {\n",
       "        vertical-align: middle;\n",
       "    }\n",
       "\n",
       "    .dataframe tbody tr th {\n",
       "        vertical-align: top;\n",
       "    }\n",
       "\n",
       "    .dataframe thead th {\n",
       "        text-align: right;\n",
       "    }\n",
       "</style>\n",
       "<table border=\"1\" class=\"dataframe\">\n",
       "  <thead>\n",
       "    <tr style=\"text-align: right;\">\n",
       "      <th></th>\n",
       "      <th>lesion_id</th>\n",
       "      <th>image_id</th>\n",
       "      <th>dx</th>\n",
       "      <th>dx_type</th>\n",
       "      <th>age</th>\n",
       "      <th>sex</th>\n",
       "      <th>localization</th>\n",
       "      <th>dup_les</th>\n",
       "      <th>image_path</th>\n",
       "      <th>dx_cat</th>\n",
       "    </tr>\n",
       "  </thead>\n",
       "  <tbody>\n",
       "    <tr>\n",
       "      <th>16825</th>\n",
       "      <td>HAM_0001428</td>\n",
       "      <td>ISIC_0026268</td>\n",
       "      <td>mel</td>\n",
       "      <td>histo</td>\n",
       "      <td>80</td>\n",
       "      <td>male</td>\n",
       "      <td>face</td>\n",
       "      <td>False</td>\n",
       "      <td>HAM10000_images_part_1/mel/ISIC_0026268.jpg</td>\n",
       "      <td>3</td>\n",
       "    </tr>\n",
       "    <tr>\n",
       "      <th>16823</th>\n",
       "      <td>HAM_0005600</td>\n",
       "      <td>ISIC_0025520</td>\n",
       "      <td>mel</td>\n",
       "      <td>histo</td>\n",
       "      <td>65</td>\n",
       "      <td>male</td>\n",
       "      <td>back</td>\n",
       "      <td>False</td>\n",
       "      <td>HAM10000_images_part_1/mel/ISIC_0025520.jpg</td>\n",
       "      <td>3</td>\n",
       "    </tr>\n",
       "    <tr>\n",
       "      <th>3551</th>\n",
       "      <td>HAM_0000345</td>\n",
       "      <td>ISIC_0031361</td>\n",
       "      <td>nv</td>\n",
       "      <td>follow_up</td>\n",
       "      <td>40</td>\n",
       "      <td>male</td>\n",
       "      <td>trunk</td>\n",
       "      <td>False</td>\n",
       "      <td>HAM10000_images_part_2/nv/ISIC_0031361.jpg</td>\n",
       "      <td>1</td>\n",
       "    </tr>\n",
       "    <tr>\n",
       "      <th>15940</th>\n",
       "      <td>HAM_0000220</td>\n",
       "      <td>ISIC_0030360</td>\n",
       "      <td>mel</td>\n",
       "      <td>histo</td>\n",
       "      <td>65</td>\n",
       "      <td>male</td>\n",
       "      <td>upper extremity</td>\n",
       "      <td>False</td>\n",
       "      <td>HAM10000_images_part_2/mel/ISIC_0030360.jpg</td>\n",
       "      <td>3</td>\n",
       "    </tr>\n",
       "    <tr>\n",
       "      <th>30353</th>\n",
       "      <td>HAM_0001386</td>\n",
       "      <td>ISIC_0027668</td>\n",
       "      <td>akiec</td>\n",
       "      <td>histo</td>\n",
       "      <td>60</td>\n",
       "      <td>male</td>\n",
       "      <td>scalp</td>\n",
       "      <td>False</td>\n",
       "      <td>HAM10000_images_part_1/akiec/ISIC_0027668.jpg</td>\n",
       "      <td>6</td>\n",
       "    </tr>\n",
       "  </tbody>\n",
       "</table>\n",
       "</div>"
      ],
      "text/plain": [
       "         lesion_id      image_id     dx    dx_type  age   sex  \\\n",
       "16825  HAM_0001428  ISIC_0026268    mel      histo   80  male   \n",
       "16823  HAM_0005600  ISIC_0025520    mel      histo   65  male   \n",
       "3551   HAM_0000345  ISIC_0031361     nv  follow_up   40  male   \n",
       "15940  HAM_0000220  ISIC_0030360    mel      histo   65  male   \n",
       "30353  HAM_0001386  ISIC_0027668  akiec      histo   60  male   \n",
       "\n",
       "          localization  dup_les  \\\n",
       "16825             face    False   \n",
       "16823             back    False   \n",
       "3551             trunk    False   \n",
       "15940  upper extremity    False   \n",
       "30353            scalp    False   \n",
       "\n",
       "                                          image_path  dx_cat  \n",
       "16825    HAM10000_images_part_1/mel/ISIC_0026268.jpg       3  \n",
       "16823    HAM10000_images_part_1/mel/ISIC_0025520.jpg       3  \n",
       "3551      HAM10000_images_part_2/nv/ISIC_0031361.jpg       1  \n",
       "15940    HAM10000_images_part_2/mel/ISIC_0030360.jpg       3  \n",
       "30353  HAM10000_images_part_1/akiec/ISIC_0027668.jpg       6  "
      ]
     },
     "execution_count": 4,
     "metadata": {},
     "output_type": "execute_result"
    }
   ],
   "source": [
    "data.head()"
   ]
  },
  {
   "cell_type": "code",
   "execution_count": 5,
   "metadata": {},
   "outputs": [
    {
     "data": {
      "text/plain": [
       "(30905, 10)"
      ]
     },
     "execution_count": 5,
     "metadata": {},
     "output_type": "execute_result"
    }
   ],
   "source": [
    "data.shape"
   ]
  },
  {
   "cell_type": "code",
   "execution_count": 6,
   "metadata": {},
   "outputs": [],
   "source": [
    "# use the same mean and std as before\n",
    "norm_means = np.array([0.77148203, 0.55764165, 0.58345652])\n",
    "norm_std =  np.array([0.12655577, 0.14245141, 0.15189891])\n",
    "img_h, img_w = 224, 224"
   ]
  },
  {
   "cell_type": "markdown",
   "metadata": {},
   "source": [
    "## Sample for feature importance"
   ]
  },
  {
   "cell_type": "code",
   "execution_count": 7,
   "metadata": {},
   "outputs": [
    {
     "data": {
      "text/html": [
       "<div>\n",
       "<style scoped>\n",
       "    .dataframe tbody tr th:only-of-type {\n",
       "        vertical-align: middle;\n",
       "    }\n",
       "\n",
       "    .dataframe tbody tr th {\n",
       "        vertical-align: top;\n",
       "    }\n",
       "\n",
       "    .dataframe thead th {\n",
       "        text-align: right;\n",
       "    }\n",
       "</style>\n",
       "<table border=\"1\" class=\"dataframe\">\n",
       "  <thead>\n",
       "    <tr style=\"text-align: right;\">\n",
       "      <th></th>\n",
       "      <th>lesion_id</th>\n",
       "      <th>image_id</th>\n",
       "      <th>dx</th>\n",
       "      <th>dx_type</th>\n",
       "      <th>age</th>\n",
       "      <th>sex</th>\n",
       "      <th>localization</th>\n",
       "      <th>dup_les</th>\n",
       "      <th>image_path</th>\n",
       "      <th>dx_cat</th>\n",
       "    </tr>\n",
       "  </thead>\n",
       "  <tbody>\n",
       "    <tr>\n",
       "      <th>0</th>\n",
       "      <td>HAM_0006604</td>\n",
       "      <td>ISIC_0030821</td>\n",
       "      <td>akiec</td>\n",
       "      <td>histo</td>\n",
       "      <td>75</td>\n",
       "      <td>male</td>\n",
       "      <td>neck</td>\n",
       "      <td>False</td>\n",
       "      <td>HAM10000_images_part_2/akiec/ISIC_0030821.jpg</td>\n",
       "      <td>6</td>\n",
       "    </tr>\n",
       "    <tr>\n",
       "      <th>1</th>\n",
       "      <td>HAM_0001416</td>\n",
       "      <td>ISIC_0025427</td>\n",
       "      <td>akiec</td>\n",
       "      <td>histo</td>\n",
       "      <td>85</td>\n",
       "      <td>male</td>\n",
       "      <td>upper extremity</td>\n",
       "      <td>False</td>\n",
       "      <td>HAM10000_images_part_1/akiec/ISIC_0025427.jpg</td>\n",
       "      <td>6</td>\n",
       "    </tr>\n",
       "    <tr>\n",
       "      <th>2</th>\n",
       "      <td>HAM_0004472</td>\n",
       "      <td>ISIC_0025368</td>\n",
       "      <td>akiec</td>\n",
       "      <td>histo</td>\n",
       "      <td>40</td>\n",
       "      <td>female</td>\n",
       "      <td>face</td>\n",
       "      <td>False</td>\n",
       "      <td>HAM10000_images_part_1/akiec/ISIC_0025368.jpg</td>\n",
       "      <td>6</td>\n",
       "    </tr>\n",
       "    <tr>\n",
       "      <th>3</th>\n",
       "      <td>HAM_0005310</td>\n",
       "      <td>ISIC_0027231</td>\n",
       "      <td>akiec</td>\n",
       "      <td>histo</td>\n",
       "      <td>85</td>\n",
       "      <td>male</td>\n",
       "      <td>back</td>\n",
       "      <td>False</td>\n",
       "      <td>HAM10000_images_part_1/akiec/ISIC_0027231.jpg</td>\n",
       "      <td>6</td>\n",
       "    </tr>\n",
       "    <tr>\n",
       "      <th>4</th>\n",
       "      <td>HAM_0004297</td>\n",
       "      <td>ISIC_0027550</td>\n",
       "      <td>akiec</td>\n",
       "      <td>histo</td>\n",
       "      <td>65</td>\n",
       "      <td>female</td>\n",
       "      <td>upper extremity</td>\n",
       "      <td>False</td>\n",
       "      <td>HAM10000_images_part_1/akiec/ISIC_0027550.jpg</td>\n",
       "      <td>6</td>\n",
       "    </tr>\n",
       "  </tbody>\n",
       "</table>\n",
       "</div>"
      ],
      "text/plain": [
       "     lesion_id      image_id     dx dx_type  age     sex     localization  \\\n",
       "0  HAM_0006604  ISIC_0030821  akiec   histo   75    male             neck   \n",
       "1  HAM_0001416  ISIC_0025427  akiec   histo   85    male  upper extremity   \n",
       "2  HAM_0004472  ISIC_0025368  akiec   histo   40  female             face   \n",
       "3  HAM_0005310  ISIC_0027231  akiec   histo   85    male             back   \n",
       "4  HAM_0004297  ISIC_0027550  akiec   histo   65  female  upper extremity   \n",
       "\n",
       "   dup_les                                     image_path  dx_cat  \n",
       "0    False  HAM10000_images_part_2/akiec/ISIC_0030821.jpg       6  \n",
       "1    False  HAM10000_images_part_1/akiec/ISIC_0025427.jpg       6  \n",
       "2    False  HAM10000_images_part_1/akiec/ISIC_0025368.jpg       6  \n",
       "3    False  HAM10000_images_part_1/akiec/ISIC_0027231.jpg       6  \n",
       "4    False  HAM10000_images_part_1/akiec/ISIC_0027550.jpg       6  "
      ]
     },
     "execution_count": 7,
     "metadata": {},
     "output_type": "execute_result"
    }
   ],
   "source": [
    "selected_data = data.groupby('dx').apply(lambda x: x.sample(n=250)).reset_index(drop=True)\n",
    "selected_data.head()"
   ]
  },
  {
   "cell_type": "markdown",
   "metadata": {},
   "source": [
    "## **Feature Extraction**\n",
    "\n",
    "In order to make sence to use the sklearn library with the classic classifiers we need to handle the high resolution of 30000 images. So we need a feature extraction method that is applicable in images. The HOG method is capturing the image shapes using gradients although in our dataset the color is a crutial parameter that we need to keep. PCA is another way to reduce the dataset components although we tried it and it is very slow and also consumes much memory. So we will try the Scale-Invariant Feature Transform method in order to detect keypoints of the images and use them for the classification. "
   ]
  },
  {
   "cell_type": "markdown",
   "metadata": {},
   "source": [
    "# PCA"
   ]
  },
  {
   "cell_type": "markdown",
   "metadata": {},
   "source": [
    "## Dimentionality reduction using PCA"
   ]
  },
  {
   "cell_type": "code",
   "execution_count": 8,
   "metadata": {},
   "outputs": [
    {
     "name": "stderr",
     "output_type": "stream",
     "text": [
      "1750it [04:42,  6.20it/s]"
     ]
    },
    {
     "name": "stdout",
     "output_type": "stream",
     "text": [
      "PCA for all colors took 4.70 minutes\n"
     ]
    },
    {
     "name": "stderr",
     "output_type": "stream",
     "text": [
      "\n"
     ]
    }
   ],
   "source": [
    "# pca = PCA(n_components=200) # 200 is a random high number of components\n",
    "# Number of components explaining 95% of the variance: 135\n",
    "\n",
    "ipca_red = IncrementalPCA(n_components=224)\n",
    "ipca_green = IncrementalPCA(n_components=224)\n",
    "ipca_blue = IncrementalPCA(n_components=224)\n",
    "\n",
    "start_pca = time.time()\n",
    "for idx, row in tqdm(selected_data.iterrows()):\n",
    "    img_path = row['image_path']\n",
    "    red, green, blue = classic_ml.process_image(img_path, img_h, img_w, norm_means, norm_std)\n",
    "    ipca_red.fit(red)\n",
    "    ipca_green.fit(green)\n",
    "    ipca_blue.fit(blue)\n",
    "\n",
    "end_pca = time.time()\n",
    "explained_variance_red = ipca_red.explained_variance_ratio_\n",
    "explained_variance_green = ipca_green.explained_variance_ratio_\n",
    "explained_variance_blue = ipca_blue.explained_variance_ratio_\n",
    "\n",
    "print(f'PCA for all colors took {(end_pca - start_pca)/60:.2f} minutes')"
   ]
  },
  {
   "cell_type": "code",
   "execution_count": 9,
   "metadata": {},
   "outputs": [
    {
     "data": {
      "image/png": "[encoded data removed]",
      "text/plain": [
       "<Figure size 640x480 with 1 Axes>"
      ]
     },
     "metadata": {},
     "output_type": "display_data"
    },
    {
     "name": "stdout",
     "output_type": "stream",
     "text": [
      "Number of components explaining 95% of the red color variance: 13\n",
      "Number of components explaining 95% of the green color variance: 10\n",
      "Number of components explaining 95% of the blue color variance: 13\n"
     ]
    }
   ],
   "source": [
    "cumulative_variance_red = np.cumsum(explained_variance_red)\n",
    "cumulative_variance_green = np.cumsum(explained_variance_green)\n",
    "cumulative_variance_blue = np.cumsum(explained_variance_blue)\n",
    "\n",
    "plt.plot(cumulative_variance_red, label='Red', color='red',alpha=0.5)\n",
    "plt.plot(cumulative_variance_green, label='Green', color='green',alpha=0.5)\n",
    "plt.plot(cumulative_variance_blue, label='Blue', color='blue',alpha=0.5)\n",
    "plt.xlabel('Number of Components')\n",
    "plt.ylabel('Cumulative Explained Variance')\n",
    "plt.hlines(0.95, 0, 100, color='black', linestyle='--')\n",
    "plt.xlim(0, 100)\n",
    "# plt.vlines(135, 0, 1, color='r', linestyle='--')\n",
    "plt.legend()    \n",
    "plt.show()\n",
    "\n",
    "n_components_95_red = np.where(cumulative_variance_red >= 0.95)[0][0] + 1\n",
    "n_components_95_blue = np.where(cumulative_variance_blue >= 0.95)[0][0] + 1\n",
    "n_components_95_green = np.where(cumulative_variance_green >= 0.95)[0][0] + 1\n",
    "\n",
    "\n",
    "print(f\"Number of components explaining 95% of the red color variance: {n_components_95_red}\")\n",
    "print(f\"Number of components explaining 95% of the green color variance: {n_components_95_green}\")\n",
    "print(f\"Number of components explaining 95% of the blue color variance: {n_components_95_blue}\")"
   ]
  },
  {
   "cell_type": "code",
   "execution_count": 8,
   "metadata": {},
   "outputs": [
    {
     "data": {
      "text/plain": [
       "13"
      ]
     },
     "execution_count": 8,
     "metadata": {},
     "output_type": "execute_result"
    }
   ],
   "source": [
    "# numof_components = max(n_components_95_red, n_components_95_green, n_components_95_blue)\n",
    "numof_components=13\n",
    "numof_components"
   ]
  },
  {
   "cell_type": "markdown",
   "metadata": {},
   "source": [
    "## Apply dimentionality reduction"
   ]
  },
  {
   "cell_type": "code",
   "execution_count": 9,
   "metadata": {},
   "outputs": [
    {
     "name": "stderr",
     "output_type": "stream",
     "text": [
      "  0%|          | 0/31 [00:00<?, ?it/s]"
     ]
    },
    {
     "name": "stderr",
     "output_type": "stream",
     "text": [
      "100%|██████████| 31/31 [40:57<00:00, 79.27s/it]\n"
     ]
    },
    {
     "name": "stdout",
     "output_type": "stream",
     "text": [
      "Dimentionality Reduction took 40.96 minutes\n"
     ]
    }
   ],
   "source": [
    "batch_size = 1000  \n",
    "transformed_data = []\n",
    "labels = []\n",
    "start_ipca = time.time()\n",
    "for i in tqdm(range(0, len(data), batch_size)):\n",
    "    batch_paths = data['image_path'][i:i + batch_size].tolist()\n",
    "    batch_labels = data['dx_cat'][i:i + batch_size].tolist()\n",
    "    \n",
    "    batch_processed_images = classic_ml.process_batch_pca(batch_paths=batch_paths, numof_components=numof_components)\n",
    "    transformed_data.append(batch_processed_images)\n",
    "    labels.append(batch_labels)\n",
    "\n",
    "end_ipca = time.time()\n",
    "print(f'Dimentionality Reduction took {(end_ipca - start_ipca)/60:.2f} minutes')\n",
    "transformed_data_np = np.concatenate(transformed_data, axis=0)\n",
    "labels = np.concatenate(labels, axis=0)"
   ]
  },
  {
   "cell_type": "code",
   "execution_count": 10,
   "metadata": {},
   "outputs": [],
   "source": [
    "# np.save('transformed_data_np.npy', transformed_data_np)\n",
    "# np.save('labels.npy', labels)"
   ]
  },
  {
   "cell_type": "code",
   "execution_count": 8,
   "metadata": {},
   "outputs": [],
   "source": [
    "transformed_data_np = np.load('transformed_data_np.npy')\n",
    "labels = np.load('labels.npy')"
   ]
  },
  {
   "attachments": {
    "image.png": {
     "image/png": "[encoded data removed]"
    }
   },
   "cell_type": "markdown",
   "metadata": {},
   "source": [
    "We used only RandomForestClassifier and KNeighborsClassifier because of the n_jobs=-1 parameter. Without parallelization the time to fit for only one classifier was extreme.\n",
    "\n",
    "![image.png](attachment:image.png)"
   ]
  },
  {
   "cell_type": "code",
   "execution_count": 9,
   "metadata": {},
   "outputs": [],
   "source": [
    "n_samples = transformed_data_np.shape[0]\n",
    "n_features = transformed_data_np.shape[1] \n",
    "images_reshaped = transformed_data_np.reshape(n_samples, n_features)\n",
    "\n",
    "X_train, X_test, y_train, y_test = train_test_split(images_reshaped, labels, test_size=0.3, random_state=42)\n",
    "estimators=[RandomForestClassifier(), KNeighborsClassifier()]\n"
   ]
  },
  {
   "cell_type": "code",
   "execution_count": 10,
   "metadata": {},
   "outputs": [
    {
     "name": "stderr",
     "output_type": "stream",
     "text": [
      "  0%|          | 0/2 [00:00<?, ?it/s]"
     ]
    },
    {
     "name": "stdout",
     "output_type": "stream",
     "text": [
      "Searching for classifier: RandomForestClassifier\n"
     ]
    },
    {
     "name": "stderr",
     "output_type": "stream",
     "text": [
      "[I 2024-02-16 19:24:56,644] A new study created in memory with name: no-name-17bfe63d-7fff-49e6-9b8a-0d594b457dbe\n",
      "[I 2024-02-16 19:25:35,605] Trial 9 finished with value: 0.17759903850598624 and parameters: {'n_estimators': 40, 'criterion': 'entropy', 'max_depth': 1, 'min_samples_leaf': 10, 'min_samples_split': 4, 'bootstrap': False, 'n_jobs': -1}. Best is trial 9 with value: 0.17759903850598624.\n",
      "[I 2024-02-16 19:26:42,219] Trial 4 finished with value: 0.16964822262284474 and parameters: {'n_estimators': 10, 'criterion': 'entropy', 'max_depth': 11, 'min_samples_leaf': 2, 'min_samples_split': 5, 'bootstrap': True, 'n_jobs': -1}. Best is trial 9 with value: 0.17759903850598624.\n",
      "[I 2024-02-16 19:27:01,557] Trial 6 finished with value: 0.17528775481902648 and parameters: {'n_estimators': 9, 'criterion': 'gini', 'max_depth': 44, 'min_samples_leaf': 3, 'min_samples_split': 7, 'bootstrap': False, 'n_jobs': -1}. Best is trial 9 with value: 0.17759903850598624.\n",
      "[I 2024-02-16 19:29:35,148] Trial 1 finished with value: 0.20806175750011557 and parameters: {'n_estimators': 51, 'criterion': 'gini', 'max_depth': 43, 'min_samples_leaf': 4, 'min_samples_split': 6, 'bootstrap': False, 'n_jobs': -1}. Best is trial 1 with value: 0.20806175750011557.\n",
      "[I 2024-02-16 19:30:47,694] Trial 8 finished with value: 0.1971524984976656 and parameters: {'n_estimators': 73, 'criterion': 'entropy', 'max_depth': 50, 'min_samples_leaf': 2, 'min_samples_split': 5, 'bootstrap': True, 'n_jobs': -1}. Best is trial 1 with value: 0.20806175750011557.\n",
      "[I 2024-02-16 19:31:31,806] Trial 7 finished with value: 0.21684463551056257 and parameters: {'n_estimators': 59, 'criterion': 'entropy', 'max_depth': 21, 'min_samples_leaf': 10, 'min_samples_split': 4, 'bootstrap': False, 'n_jobs': -1}. Best is trial 7 with value: 0.21684463551056257.\n",
      "[I 2024-02-16 19:31:33,428] Trial 3 finished with value: 0.22433319465631216 and parameters: {'n_estimators': 180, 'criterion': 'gini', 'max_depth': 28, 'min_samples_leaf': 9, 'min_samples_split': 5, 'bootstrap': True, 'n_jobs': -1}. Best is trial 3 with value: 0.22433319465631216.\n",
      "[I 2024-02-16 19:31:38,943] Trial 0 finished with value: 0.22507280543613925 and parameters: {'n_estimators': 95, 'criterion': 'entropy', 'max_depth': 9, 'min_samples_leaf': 10, 'min_samples_split': 3, 'bootstrap': False, 'n_jobs': -1}. Best is trial 0 with value: 0.22507280543613925.\n",
      "[I 2024-02-16 19:32:35,183] Trial 5 finished with value: 0.2172606665742153 and parameters: {'n_estimators': 145, 'criterion': 'gini', 'max_depth': 42, 'min_samples_leaf': 1, 'min_samples_split': 7, 'bootstrap': False, 'n_jobs': -1}. Best is trial 0 with value: 0.22507280543613925.\n",
      "[I 2024-02-16 19:34:04,341] Trial 2 finished with value: 0.22576619054222716 and parameters: {'n_estimators': 185, 'criterion': 'entropy', 'max_depth': 20, 'min_samples_leaf': 5, 'min_samples_split': 7, 'bootstrap': False, 'n_jobs': -1}. Best is trial 2 with value: 0.22576619054222716.\n",
      " 50%|█████     | 1/2 [10:48<10:48, 648.31s/it]"
     ]
    },
    {
     "name": "stdout",
     "output_type": "stream",
     "text": [
      "Best score: 0.2413718723037101\n",
      "Best parameters: {'n_estimators': 185, 'criterion': 'entropy', 'max_depth': 20, 'min_samples_leaf': 5, 'min_samples_split': 7, 'bootstrap': False, 'n_jobs': -1}\n",
      "Searching for classifier: KNeighborsClassifier\n"
     ]
    },
    {
     "name": "stderr",
     "output_type": "stream",
     "text": [
      "[I 2024-02-16 19:35:44,975] A new study created in memory with name: no-name-28988a2c-91e0-4f10-bd00-010119359471\n",
      "[I 2024-02-16 19:51:12,230] Trial 9 finished with value: 0.1830998936809504 and parameters: {'n_neighbors': 9, 'weights': 'distance', 'algorithm': 'auto', 'p': 2, 'leaf_size': 49, 'n_jobs': -1}. Best is trial 9 with value: 0.1830998936809504.\n",
      "[I 2024-02-16 19:51:14,558] Trial 0 finished with value: 0.17995654786668516 and parameters: {'n_neighbors': 5, 'weights': 'distance', 'algorithm': 'auto', 'p': 2, 'leaf_size': 20, 'n_jobs': -1}. Best is trial 9 with value: 0.1830998936809504.\n",
      "[I 2024-02-16 20:14:50,206] Trial 5 finished with value: 0.17880090602320528 and parameters: {'n_neighbors': 14, 'weights': 'uniform', 'algorithm': 'ball_tree', 'p': 2, 'leaf_size': 37, 'n_jobs': -1}. Best is trial 9 with value: 0.1830998936809504.\n",
      "[I 2024-02-16 20:16:14,838] Trial 2 finished with value: 0.17639717098876714 and parameters: {'n_neighbors': 2, 'weights': 'uniform', 'algorithm': 'ball_tree', 'p': 1, 'leaf_size': 42, 'n_jobs': -1}. Best is trial 9 with value: 0.1830998936809504.\n",
      "[I 2024-02-16 20:17:00,630] Trial 4 finished with value: 0.17214440900476125 and parameters: {'n_neighbors': 3, 'weights': 'uniform', 'algorithm': 'ball_tree', 'p': 2, 'leaf_size': 43, 'n_jobs': -1}. Best is trial 9 with value: 0.1830998936809504.\n",
      "[I 2024-02-16 20:23:30,544] Trial 3 finished with value: 0.17639717098876714 and parameters: {'n_neighbors': 2, 'weights': 'uniform', 'algorithm': 'kd_tree', 'p': 1, 'leaf_size': 21, 'n_jobs': -1}. Best is trial 9 with value: 0.1830998936809504.\n",
      "[I 2024-02-16 20:25:29,510] Trial 8 finished with value: 0.17995654786668516 and parameters: {'n_neighbors': 5, 'weights': 'distance', 'algorithm': 'kd_tree', 'p': 2, 'leaf_size': 17, 'n_jobs': -1}. Best is trial 9 with value: 0.1830998936809504.\n",
      "[I 2024-02-16 20:26:07,844] Trial 1 finished with value: 0.19548837424305457 and parameters: {'n_neighbors': 11, 'weights': 'distance', 'algorithm': 'kd_tree', 'p': 1, 'leaf_size': 21, 'n_jobs': -1}. Best is trial 1 with value: 0.19548837424305457.\n",
      "[I 2024-02-16 20:26:17,199] Trial 7 finished with value: 0.18513382332547498 and parameters: {'n_neighbors': 2, 'weights': 'distance', 'algorithm': 'kd_tree', 'p': 1, 'leaf_size': 25, 'n_jobs': -1}. Best is trial 1 with value: 0.19548837424305457.\n",
      "[I 2024-02-16 20:26:18,096] Trial 6 finished with value: 0.18929413396200254 and parameters: {'n_neighbors': 10, 'weights': 'uniform', 'algorithm': 'auto', 'p': 1, 'leaf_size': 13, 'n_jobs': -1}. Best is trial 1 with value: 0.19548837424305457.\n",
      "100%|██████████| 2/2 [1:06:19<00:00, 1989.70s/it]"
     ]
    },
    {
     "name": "stdout",
     "output_type": "stream",
     "text": [
      "Best score: 0.2114969801553063\n",
      "Best parameters: {'n_neighbors': 11, 'weights': 'distance', 'algorithm': 'kd_tree', 'p': 1, 'leaf_size': 21, 'n_jobs': -1}\n",
      "Hyperparameter tuning and final results for RandomForestClassifier and KNeighborsClassifier took 66.32 minutes\n"
     ]
    },
    {
     "name": "stderr",
     "output_type": "stream",
     "text": [
      "\n"
     ]
    },
    {
     "data": {
      "text/html": [
       "<div>\n",
       "<style scoped>\n",
       "    .dataframe tbody tr th:only-of-type {\n",
       "        vertical-align: middle;\n",
       "    }\n",
       "\n",
       "    .dataframe tbody tr th {\n",
       "        vertical-align: top;\n",
       "    }\n",
       "\n",
       "    .dataframe thead th {\n",
       "        text-align: right;\n",
       "    }\n",
       "</style>\n",
       "<table border=\"1\" class=\"dataframe\">\n",
       "  <thead>\n",
       "    <tr style=\"text-align: right;\">\n",
       "      <th></th>\n",
       "      <th>name</th>\n",
       "      <th>score</th>\n",
       "      <th>best_params</th>\n",
       "    </tr>\n",
       "  </thead>\n",
       "  <tbody>\n",
       "    <tr>\n",
       "      <th>0</th>\n",
       "      <td>RandomForestClassifier</td>\n",
       "      <td>0.241372</td>\n",
       "      <td>{'n_estimators': 185, 'criterion': 'entropy', ...</td>\n",
       "    </tr>\n",
       "    <tr>\n",
       "      <th>1</th>\n",
       "      <td>KNeighborsClassifier</td>\n",
       "      <td>0.211497</td>\n",
       "      <td>{'n_neighbors': 11, 'weights': 'distance', 'al...</td>\n",
       "    </tr>\n",
       "  </tbody>\n",
       "</table>\n",
       "</div>"
      ],
      "text/plain": [
       "                     name     score  \\\n",
       "0  RandomForestClassifier  0.241372   \n",
       "1    KNeighborsClassifier  0.211497   \n",
       "\n",
       "                                         best_params  \n",
       "0  {'n_estimators': 185, 'criterion': 'entropy', ...  \n",
       "1  {'n_neighbors': 11, 'weights': 'distance', 'al...  "
      ]
     },
     "execution_count": 10,
     "metadata": {},
     "output_type": "execute_result"
    }
   ],
   "source": [
    "start_model=time.time()\n",
    "results_df=classic_ml.hyperparameter_tuning(X_train, y_train, X_test, y_test, splits=3, n_trials=10, verbose=0, scoring='accuracy', estimators=estimators)\n",
    "end_model=time.time()\n",
    "print(f'Hyperparameter tuning and final results for RandomForestClassifier and KNeighborsClassifier took {(end_model - start_model)/60:.2f} minutes')\n",
    "results_df"
   ]
  },
  {
   "cell_type": "markdown",
   "metadata": {},
   "source": [
    "# Scale-Invariant Feature Transform"
   ]
  },
  {
   "cell_type": "code",
   "execution_count": 9,
   "metadata": {},
   "outputs": [],
   "source": [
    "X_train, X_test, y_train, y_test = train_test_split(data['image_path'], data['dx_cat'], test_size=0.3)\n",
    "X_sel_train, X_sel_test, y_sel_train, y_sel_test = train_test_split(selected_data['image_path'], selected_data['dx_cat'], test_size=0.2)"
   ]
  },
  {
   "cell_type": "code",
   "execution_count": 10,
   "metadata": {},
   "outputs": [],
   "source": [
    "batch_size = X_sel_train.shape[0]  \n",
    "processed_batches=classic_ml.process_batch_partial_fit(X=X_sel_train, y=y_sel_train, batch_size=batch_size)\n",
    "batch = list(processed_batches)\n",
    "sel_images, sel_targets = batch[0]\n",
    "sel_images_reshaped = sel_images.reshape(sel_images.shape[0], -1)\n",
    "\n",
    "test_batch = X_sel_test.shape[0]\n",
    "test_processed_batches=classic_ml.process_batch_partial_fit(X=X_sel_test, y=y_sel_test, batch_size=test_batch)\n",
    "test_batche = list(test_processed_batches)\n",
    "X_sel_test, y_sel_test = test_batche[0]\n",
    "X_sel_test = X_sel_test.reshape(X_sel_test.shape[0], -1)\n",
    "\n",
    "estimators=[MLPClassifier(),PassiveAggressiveClassifier(),Perceptron(),SGDClassifier()]"
   ]
  },
  {
   "cell_type": "code",
   "execution_count": 11,
   "metadata": {},
   "outputs": [
    {
     "name": "stderr",
     "output_type": "stream",
     "text": [
      "  0%|          | 0/4 [00:00<?, ?it/s][I 2024-02-17 00:04:40,235] A new study created in memory with name: no-name-dde6b6c8-ca3d-4057-b969-1cb431e4eaa2\n"
     ]
    },
    {
     "name": "stdout",
     "output_type": "stream",
     "text": [
      "Searching for classifier: MLPClassifier\n"
     ]
    },
    {
     "name": "stderr",
     "output_type": "stream",
     "text": [
      "[I 2024-02-17 00:08:29,624] Trial 14 finished with value: 0.23642857142857143 and parameters: {'hidden_layer_sizes': (50, 100), 'activation': 'relu', 'solver': 'adam', 'alpha': 0.051223755515495024, 'learning_rate': 'invscaling', 'learning_rate_init': 0.001, 'verbose': False, 'early_stopping': True}. Best is trial 14 with value: 0.23642857142857143.\n",
      "[I 2024-02-17 00:09:17,167] Trial 12 finished with value: 0.3342857142857143 and parameters: {'hidden_layer_sizes': (50, 100), 'activation': 'identity', 'solver': 'adam', 'alpha': 0.037750565851234597, 'learning_rate': 'invscaling', 'learning_rate_init': 0.001, 'verbose': False, 'early_stopping': True}. Best is trial 12 with value: 0.3342857142857143.\n",
      "[I 2024-02-17 00:09:47,596] Trial 2 finished with value: 0.3107142857142857 and parameters: {'hidden_layer_sizes': (50, 100), 'activation': 'identity', 'solver': 'adam', 'alpha': 0.046842396778631334, 'learning_rate': 'invscaling', 'learning_rate_init': 0.001, 'verbose': False, 'early_stopping': True}. Best is trial 12 with value: 0.3342857142857143.\n",
      "[I 2024-02-17 00:10:56,488] Trial 0 finished with value: 0.26642857142857146 and parameters: {'hidden_layer_sizes': (16, 64, 128, 514), 'activation': 'tanh', 'solver': 'adam', 'alpha': 0.07976066623033677, 'learning_rate': 'adaptive', 'learning_rate_init': 0.001, 'verbose': False, 'early_stopping': True}. Best is trial 12 with value: 0.3342857142857143.\n",
      "[I 2024-02-17 00:11:48,123] Trial 7 finished with value: 0.305 and parameters: {'hidden_layer_sizes': (32, 64, 128, 256), 'activation': 'relu', 'solver': 'adam', 'alpha': 0.002738315239886384, 'learning_rate': 'constant', 'learning_rate_init': 0.0001, 'verbose': False, 'early_stopping': True}. Best is trial 12 with value: 0.3342857142857143.\n",
      "[I 2024-02-17 00:11:50,881] Trial 5 finished with value: 0.32785714285714285 and parameters: {'hidden_layer_sizes': (32, 64, 128, 256), 'activation': 'identity', 'solver': 'adam', 'alpha': 0.024827323167227303, 'learning_rate': 'adaptive', 'learning_rate_init': 0.0001, 'verbose': False, 'early_stopping': True}. Best is trial 12 with value: 0.3342857142857143.\n",
      "[I 2024-02-17 00:12:14,460] Trial 1 finished with value: 0.3028571428571428 and parameters: {'hidden_layer_sizes': (16, 64, 128, 514), 'activation': 'tanh', 'solver': 'adam', 'alpha': 0.021673111939028968, 'learning_rate': 'invscaling', 'learning_rate_init': 0.001, 'verbose': False, 'early_stopping': True}. Best is trial 12 with value: 0.3342857142857143.\n",
      "[I 2024-02-17 00:12:20,191] Trial 13 finished with value: 0.3242857142857143 and parameters: {'hidden_layer_sizes': (16, 64, 128, 514), 'activation': 'tanh', 'solver': 'adam', 'alpha': 0.00026633946639634476, 'learning_rate': 'adaptive', 'learning_rate_init': 0.001, 'verbose': False, 'early_stopping': True}. Best is trial 12 with value: 0.3342857142857143.\n",
      "[I 2024-02-17 00:12:37,452] Trial 11 finished with value: 0.34214285714285714 and parameters: {'hidden_layer_sizes': (64, 128, 256, 512), 'activation': 'identity', 'solver': 'adam', 'alpha': 0.0945552846533828, 'learning_rate': 'adaptive', 'learning_rate_init': 0.0001, 'verbose': False, 'early_stopping': True}. Best is trial 11 with value: 0.34214285714285714.\n",
      "[I 2024-02-17 00:12:41,568] Trial 9 finished with value: 0.35642857142857143 and parameters: {'hidden_layer_sizes': (64, 128, 256, 512), 'activation': 'tanh', 'solver': 'adam', 'alpha': 0.00860182131888607, 'learning_rate': 'adaptive', 'learning_rate_init': 0.0001, 'verbose': False, 'early_stopping': True}. Best is trial 9 with value: 0.35642857142857143.\n",
      "[I 2024-02-17 00:12:55,432] Trial 10 finished with value: 0.3771428571428571 and parameters: {'hidden_layer_sizes': (16, 64, 128, 514), 'activation': 'relu', 'solver': 'adam', 'alpha': 0.09280055961013642, 'learning_rate': 'invscaling', 'learning_rate_init': 0.0001, 'verbose': False, 'early_stopping': True}. Best is trial 10 with value: 0.3771428571428571.\n",
      "[I 2024-02-17 00:12:55,540] Trial 8 finished with value: 0.33785714285714286 and parameters: {'hidden_layer_sizes': (32, 64, 128, 256), 'activation': 'identity', 'solver': 'adam', 'alpha': 0.07010092547412954, 'learning_rate': 'invscaling', 'learning_rate_init': 0.001, 'verbose': False, 'early_stopping': True}. Best is trial 10 with value: 0.3771428571428571.\n",
      "[I 2024-02-17 00:13:09,457] Trial 6 finished with value: 0.37142857142857144 and parameters: {'hidden_layer_sizes': (64, 128, 256, 512), 'activation': 'identity', 'solver': 'adam', 'alpha': 0.08447865946935969, 'learning_rate': 'adaptive', 'learning_rate_init': 0.0001, 'verbose': False, 'early_stopping': True}. Best is trial 10 with value: 0.3771428571428571.\n",
      "[I 2024-02-17 00:13:12,168] Trial 3 finished with value: 0.35928571428571426 and parameters: {'hidden_layer_sizes': (32, 64, 128, 256), 'activation': 'relu', 'solver': 'adam', 'alpha': 0.04746161553169197, 'learning_rate': 'invscaling', 'learning_rate_init': 0.0001, 'verbose': False, 'early_stopping': True}. Best is trial 10 with value: 0.3771428571428571.\n",
      "[I 2024-02-17 00:13:17,081] Trial 4 finished with value: 0.3657142857142857 and parameters: {'hidden_layer_sizes': (64, 128, 256, 512), 'activation': 'identity', 'solver': 'adam', 'alpha': 0.045534962843095064, 'learning_rate': 'adaptive', 'learning_rate_init': 0.0001, 'verbose': False, 'early_stopping': True}. Best is trial 10 with value: 0.3771428571428571.\n",
      " 25%|██▌       | 1/4 [08:45<26:17, 525.76s/it][I 2024-02-17 00:13:25,996] A new study created in memory with name: no-name-a777ec7f-925b-40ae-9bbd-14f3775cc435\n"
     ]
    },
    {
     "name": "stdout",
     "output_type": "stream",
     "text": [
      "Best score: 0.43714285714285717\n",
      "Best parameters: {'hidden_layer_sizes': (16, 64, 128, 514), 'activation': 'relu', 'solver': 'adam', 'alpha': 0.09280055961013642, 'learning_rate': 'invscaling', 'learning_rate_init': 0.0001, 'verbose': False, 'early_stopping': True}\n",
      "Searching for classifier: PassiveAggressiveClassifier\n"
     ]
    },
    {
     "name": "stderr",
     "output_type": "stream",
     "text": [
      "[I 2024-02-17 00:13:54,843] Trial 0 finished with value: 0.31714285714285717 and parameters: {'C': 1.0559413311145336, 'tol': 0.09485927877089002, 'early_stopping': True, 'n_jobs': -1, 'verbose': 0, 'class_weight': None}. Best is trial 0 with value: 0.31714285714285717.\n",
      "[I 2024-02-17 00:13:55,516] Trial 12 finished with value: 0.3242857142857143 and parameters: {'C': 0.591052807146706, 'tol': 0.09161757629289409, 'early_stopping': True, 'n_jobs': -1, 'verbose': 0, 'class_weight': 'balanced'}. Best is trial 12 with value: 0.3242857142857143.\n",
      "[I 2024-02-17 00:13:55,793] Trial 5 finished with value: 0.325 and parameters: {'C': 1.917301758258267, 'tol': 0.09402447350052717, 'early_stopping': True, 'n_jobs': -1, 'verbose': 0, 'class_weight': 'balanced'}. Best is trial 5 with value: 0.325.\n",
      "[I 2024-02-17 00:13:55,904] Trial 8 finished with value: 0.3607142857142857 and parameters: {'C': 1.870898543107549, 'tol': 0.08058357618081055, 'early_stopping': True, 'n_jobs': -1, 'verbose': 0, 'class_weight': None}. Best is trial 8 with value: 0.3607142857142857.\n",
      "[I 2024-02-17 00:13:56,169] Trial 3 finished with value: 0.33285714285714285 and parameters: {'C': 1.1426675975734368, 'tol': 0.0806777787307542, 'early_stopping': True, 'n_jobs': -1, 'verbose': 0, 'class_weight': 'balanced'}. Best is trial 8 with value: 0.3607142857142857.\n",
      "[I 2024-02-17 00:13:56,333] Trial 2 finished with value: 0.32499999999999996 and parameters: {'C': 0.2773716160477476, 'tol': 0.07572343108546567, 'early_stopping': True, 'n_jobs': -1, 'verbose': 0, 'class_weight': None}. Best is trial 8 with value: 0.3607142857142857.\n",
      "[I 2024-02-17 00:13:56,383] Trial 7 finished with value: 0.33571428571428574 and parameters: {'C': 1.6778376353514377, 'tol': 0.05539402608749876, 'early_stopping': True, 'n_jobs': -1, 'verbose': 0, 'class_weight': None}. Best is trial 8 with value: 0.3607142857142857.\n",
      "[I 2024-02-17 00:13:56,937] Trial 13 finished with value: 0.2864285714285714 and parameters: {'C': 0.9086042812419507, 'tol': 0.0556123260017635, 'early_stopping': True, 'n_jobs': -1, 'verbose': 0, 'class_weight': 'balanced'}. Best is trial 8 with value: 0.3607142857142857.\n",
      "[I 2024-02-17 00:13:56,972] Trial 14 finished with value: 0.3435714285714285 and parameters: {'C': 0.6138410382369196, 'tol': 0.05191892058607935, 'early_stopping': True, 'n_jobs': -1, 'verbose': 0, 'class_weight': None}. Best is trial 8 with value: 0.3607142857142857.\n",
      "[I 2024-02-17 00:13:57,022] Trial 11 finished with value: 0.31714285714285717 and parameters: {'C': 1.3724385001921988, 'tol': 0.027043829498125466, 'early_stopping': True, 'n_jobs': -1, 'verbose': 0, 'class_weight': 'balanced'}. Best is trial 8 with value: 0.3607142857142857.\n",
      "[I 2024-02-17 00:13:57,248] Trial 9 finished with value: 0.30357142857142855 and parameters: {'C': 1.0081972495332807, 'tol': 0.029690118621555798, 'early_stopping': True, 'n_jobs': -1, 'verbose': 0, 'class_weight': None}. Best is trial 8 with value: 0.3607142857142857.\n",
      "[I 2024-02-17 00:13:57,425] Trial 1 finished with value: 0.31285714285714283 and parameters: {'C': 1.1627419963290386, 'tol': 0.05248555591803907, 'early_stopping': True, 'n_jobs': -1, 'verbose': 0, 'class_weight': None}. Best is trial 8 with value: 0.3607142857142857.\n",
      "[I 2024-02-17 00:13:57,588] Trial 4 finished with value: 0.35214285714285715 and parameters: {'C': 1.320830361412482, 'tol': 0.010155542145799376, 'early_stopping': True, 'n_jobs': -1, 'verbose': 0, 'class_weight': None}. Best is trial 8 with value: 0.3607142857142857.\n",
      "[I 2024-02-17 00:13:57,684] Trial 10 finished with value: 0.32 and parameters: {'C': 0.30318944546412085, 'tol': 0.05298189730729252, 'early_stopping': True, 'n_jobs': -1, 'verbose': 0, 'class_weight': None}. Best is trial 8 with value: 0.3607142857142857.\n",
      "[I 2024-02-17 00:13:57,882] Trial 6 finished with value: 0.3392857142857143 and parameters: {'C': 1.677092708459178, 'tol': 0.09726896531255966, 'early_stopping': True, 'n_jobs': -1, 'verbose': 0, 'class_weight': None}. Best is trial 8 with value: 0.3607142857142857.\n",
      " 50%|█████     | 2/4 [09:21<07:54, 237.29s/it][I 2024-02-17 00:14:01,362] A new study created in memory with name: no-name-a6ae9989-6bb7-4599-b1f3-05b29799162f\n"
     ]
    },
    {
     "name": "stdout",
     "output_type": "stream",
     "text": [
      "Best score: 0.40285714285714286\n",
      "Best parameters: {'C': 1.870898543107549, 'tol': 0.08058357618081055, 'early_stopping': True, 'n_jobs': -1, 'verbose': 0, 'class_weight': None}\n",
      "Searching for classifier: Perceptron\n"
     ]
    },
    {
     "name": "stderr",
     "output_type": "stream",
     "text": [
      "[I 2024-02-17 00:14:46,593] Trial 9 finished with value: 0.2 and parameters: {'penalty': 'l1', 'alpha': 0.09121319885103127, 'tol': 0.07099445688549141, 'n_jobs': -1, 'verbose': 0, 'early_stopping': True, 'class_weight': None}. Best is trial 9 with value: 0.2.\n",
      "[I 2024-02-17 00:14:47,833] Trial 6 finished with value: 0.22142857142857142 and parameters: {'penalty': 'l1', 'alpha': 0.042619226646053575, 'tol': 0.09259569202679246, 'n_jobs': -1, 'verbose': 0, 'early_stopping': True, 'class_weight': 'balanced'}. Best is trial 6 with value: 0.22142857142857142.\n",
      "[I 2024-02-17 00:14:48,724] Trial 10 finished with value: 0.17714285714285716 and parameters: {'penalty': 'l1', 'alpha': 0.08196237131722586, 'tol': 0.022919607025574593, 'n_jobs': -1, 'verbose': 0, 'early_stopping': True, 'class_weight': 'balanced'}. Best is trial 6 with value: 0.22142857142857142.\n",
      "[I 2024-02-17 00:14:48,917] Trial 7 finished with value: 0.1685714285714286 and parameters: {'penalty': 'l1', 'alpha': 0.08679634293169522, 'tol': 0.062279942229957426, 'n_jobs': -1, 'verbose': 0, 'early_stopping': True, 'class_weight': None}. Best is trial 6 with value: 0.22142857142857142.\n",
      "[I 2024-02-17 00:14:50,197] Trial 2 finished with value: 0.2528571428571429 and parameters: {'penalty': 'l1', 'alpha': 0.025613960499400363, 'tol': 0.09773831989146593, 'n_jobs': -1, 'verbose': 0, 'early_stopping': True, 'class_weight': None}. Best is trial 2 with value: 0.2528571428571429.\n",
      "[I 2024-02-17 00:14:52,480] Trial 8 finished with value: 0.21642857142857141 and parameters: {'penalty': 'l1', 'alpha': 0.08456121895691883, 'tol': 0.01239484560527792, 'n_jobs': -1, 'verbose': 0, 'early_stopping': True, 'class_weight': 'balanced'}. Best is trial 2 with value: 0.2528571428571429.\n",
      "[I 2024-02-17 00:14:53,375] Trial 12 finished with value: 0.21714285714285714 and parameters: {'penalty': 'l1', 'alpha': 0.06742893400673157, 'tol': 0.09913084648603067, 'n_jobs': -1, 'verbose': 0, 'early_stopping': True, 'class_weight': 'balanced'}. Best is trial 2 with value: 0.2528571428571429.\n",
      "[I 2024-02-17 00:14:53,388] Trial 11 finished with value: 0.20857142857142857 and parameters: {'penalty': 'elasticnet', 'alpha': 0.08579814018866744, 'tol': 0.09583379120333818, 'n_jobs': -1, 'verbose': 0, 'early_stopping': True, 'class_weight': None}. Best is trial 2 with value: 0.2528571428571429.\n",
      "[I 2024-02-17 00:14:53,692] Trial 4 finished with value: 0.22285714285714286 and parameters: {'penalty': 'elasticnet', 'alpha': 0.06766589895588936, 'tol': 0.09721490887788721, 'n_jobs': -1, 'verbose': 0, 'early_stopping': True, 'class_weight': 'balanced'}. Best is trial 2 with value: 0.2528571428571429.\n",
      "[I 2024-02-17 00:14:54,448] Trial 13 finished with value: 0.18571428571428572 and parameters: {'penalty': 'elasticnet', 'alpha': 0.05625793316789122, 'tol': 0.09063137903846477, 'n_jobs': -1, 'verbose': 0, 'early_stopping': True, 'class_weight': None}. Best is trial 2 with value: 0.2528571428571429.\n",
      "[I 2024-02-17 00:14:54,563] Trial 14 finished with value: 0.21785714285714286 and parameters: {'penalty': 'elasticnet', 'alpha': 0.08183733063778091, 'tol': 0.03367572174274318, 'n_jobs': -1, 'verbose': 0, 'early_stopping': True, 'class_weight': None}. Best is trial 2 with value: 0.2528571428571429.\n",
      "[I 2024-02-17 00:14:54,601] Trial 1 finished with value: 0.16 and parameters: {'penalty': 'l1', 'alpha': 0.08226849751229824, 'tol': 0.013464585873466061, 'n_jobs': -1, 'verbose': 0, 'early_stopping': True, 'class_weight': None}. Best is trial 2 with value: 0.2528571428571429.\n",
      "[I 2024-02-17 00:14:54,895] Trial 3 finished with value: 0.2571428571428571 and parameters: {'penalty': 'elasticnet', 'alpha': 0.031100946433164193, 'tol': 0.042553794397193645, 'n_jobs': -1, 'verbose': 0, 'early_stopping': True, 'class_weight': None}. Best is trial 3 with value: 0.2571428571428571.\n",
      "[I 2024-02-17 00:14:55,260] Trial 0 finished with value: 0.2235714285714286 and parameters: {'penalty': 'elasticnet', 'alpha': 0.07791626312644762, 'tol': 0.0392392471077872, 'n_jobs': -1, 'verbose': 0, 'early_stopping': True, 'class_weight': 'balanced'}. Best is trial 3 with value: 0.2571428571428571.\n",
      "[I 2024-02-17 00:14:57,397] Trial 5 finished with value: 0.24785714285714286 and parameters: {'penalty': 'elasticnet', 'alpha': 0.018739378742691916, 'tol': 0.030337434052307165, 'n_jobs': -1, 'verbose': 0, 'early_stopping': True, 'class_weight': 'balanced'}. Best is trial 3 with value: 0.2571428571428571.\n",
      " 75%|███████▌  | 3/4 [10:23<02:37, 157.40s/it][I 2024-02-17 00:15:03,693] A new study created in memory with name: no-name-793fc15b-dc2d-4dbc-9a50-dc3f85cf3dfa\n"
     ]
    },
    {
     "name": "stdout",
     "output_type": "stream",
     "text": [
      "Best score: 0.2257142857142857\n",
      "Best parameters: {'penalty': 'elasticnet', 'alpha': 0.031100946433164193, 'tol': 0.042553794397193645, 'n_jobs': -1, 'verbose': 0, 'early_stopping': True, 'class_weight': None}\n",
      "Searching for classifier: SGDClassifier\n"
     ]
    },
    {
     "name": "stderr",
     "output_type": "stream",
     "text": [
      "[I 2024-02-17 00:15:26,236] Trial 14 finished with value: 0.34714285714285714 and parameters: {'loss': 'perceptron', 'penalty': None, 'tol': 0.08568001055632365, 'n_jobs': -1, 'verbose': 0, 'learning_rate': 'optimal', 'early_stopping': True, 'class_weight': None}. Best is trial 14 with value: 0.34714285714285714.\n",
      "[I 2024-02-17 00:15:26,558] Trial 0 finished with value: 0.31285714285714283 and parameters: {'loss': 'perceptron', 'penalty': 'l2', 'tol': 0.04452507691169299, 'n_jobs': -1, 'verbose': 0, 'learning_rate': 'optimal', 'early_stopping': True, 'class_weight': None}. Best is trial 14 with value: 0.34714285714285714.\n",
      "[I 2024-02-17 00:15:27,682] Trial 12 finished with value: 0.37642857142857145 and parameters: {'loss': 'modified_huber', 'penalty': None, 'tol': 0.06189039733598225, 'n_jobs': -1, 'verbose': 0, 'learning_rate': 'optimal', 'early_stopping': True, 'class_weight': None}. Best is trial 12 with value: 0.37642857142857145.\n",
      "[I 2024-02-17 00:15:28,203] Trial 8 finished with value: 0.32785714285714285 and parameters: {'loss': 'hinge', 'penalty': 'l2', 'tol': 0.057428445028012615, 'n_jobs': -1, 'verbose': 0, 'learning_rate': 'optimal', 'early_stopping': True, 'class_weight': None}. Best is trial 12 with value: 0.37642857142857145.\n",
      "[I 2024-02-17 00:15:29,226] Trial 5 finished with value: 0.32571428571428573 and parameters: {'loss': 'modified_huber', 'penalty': None, 'tol': 0.03121821891799962, 'n_jobs': -1, 'verbose': 0, 'learning_rate': 'optimal', 'early_stopping': True, 'class_weight': 'balanced'}. Best is trial 12 with value: 0.37642857142857145.\n",
      "[I 2024-02-17 00:15:29,240] Trial 13 finished with value: 0.35928571428571426 and parameters: {'loss': 'modified_huber', 'penalty': None, 'tol': 0.0635721925924153, 'n_jobs': -1, 'verbose': 0, 'learning_rate': 'optimal', 'early_stopping': True, 'class_weight': 'balanced'}. Best is trial 12 with value: 0.37642857142857145.\n",
      "[I 2024-02-17 00:15:29,305] Trial 2 finished with value: 0.32857142857142857 and parameters: {'loss': 'perceptron', 'penalty': 'l2', 'tol': 0.0006530631870990869, 'n_jobs': -1, 'verbose': 0, 'learning_rate': 'optimal', 'early_stopping': True, 'class_weight': 'balanced'}. Best is trial 12 with value: 0.37642857142857145.\n",
      "[I 2024-02-17 00:15:31,384] Trial 10 finished with value: 0.3271428571428572 and parameters: {'loss': 'hinge', 'penalty': None, 'tol': 0.041282486329800264, 'n_jobs': -1, 'verbose': 0, 'learning_rate': 'optimal', 'early_stopping': True, 'class_weight': 'balanced'}. Best is trial 12 with value: 0.37642857142857145.\n",
      "[I 2024-02-17 00:15:32,374] Trial 7 finished with value: 0.31357142857142856 and parameters: {'loss': 'perceptron', 'penalty': 'l2', 'tol': 0.006539155608773204, 'n_jobs': -1, 'verbose': 0, 'learning_rate': 'optimal', 'early_stopping': True, 'class_weight': 'balanced'}. Best is trial 12 with value: 0.37642857142857145.\n",
      "[I 2024-02-17 00:15:33,918] Trial 6 finished with value: 0.3142857142857143 and parameters: {'loss': 'hinge', 'penalty': 'l2', 'tol': 0.008869307876008734, 'n_jobs': -1, 'verbose': 0, 'learning_rate': 'optimal', 'early_stopping': True, 'class_weight': 'balanced'}. Best is trial 12 with value: 0.37642857142857145.\n",
      "[I 2024-02-17 00:15:43,100] Trial 4 finished with value: 0.3414285714285714 and parameters: {'loss': 'hinge', 'penalty': 'l1', 'tol': 0.05562514932830836, 'n_jobs': -1, 'verbose': 0, 'learning_rate': 'optimal', 'early_stopping': True, 'class_weight': 'balanced'}. Best is trial 12 with value: 0.37642857142857145.\n",
      "[I 2024-02-17 00:15:44,759] Trial 11 finished with value: 0.30357142857142855 and parameters: {'loss': 'hinge', 'penalty': 'l1', 'tol': 0.04578284994205856, 'n_jobs': -1, 'verbose': 0, 'learning_rate': 'optimal', 'early_stopping': True, 'class_weight': 'balanced'}. Best is trial 12 with value: 0.37642857142857145.\n",
      "[I 2024-02-17 00:15:45,035] Trial 1 finished with value: 0.36357142857142855 and parameters: {'loss': 'modified_huber', 'penalty': 'l1', 'tol': 0.02530664194133347, 'n_jobs': -1, 'verbose': 0, 'learning_rate': 'optimal', 'early_stopping': True, 'class_weight': 'balanced'}. Best is trial 12 with value: 0.37642857142857145.\n",
      "[I 2024-02-17 00:15:45,313] Trial 9 finished with value: 0.3392857142857143 and parameters: {'loss': 'perceptron', 'penalty': 'l1', 'tol': 0.022539529900389637, 'n_jobs': -1, 'verbose': 0, 'learning_rate': 'optimal', 'early_stopping': True, 'class_weight': None}. Best is trial 12 with value: 0.37642857142857145.\n",
      "[I 2024-02-17 00:15:45,814] Trial 3 finished with value: 0.31142857142857144 and parameters: {'loss': 'hinge', 'penalty': 'elasticnet', 'tol': 0.038584840044282795, 'n_jobs': -1, 'verbose': 0, 'learning_rate': 'optimal', 'early_stopping': True, 'class_weight': None}. Best is trial 12 with value: 0.37642857142857145.\n",
      "100%|██████████| 4/4 [11:07<00:00, 166.95s/it]"
     ]
    },
    {
     "name": "stdout",
     "output_type": "stream",
     "text": [
      "Best score: 0.4057142857142857\n",
      "Best parameters: {'loss': 'modified_huber', 'penalty': None, 'tol': 0.06189039733598225, 'n_jobs': -1, 'verbose': 0, 'learning_rate': 'optimal', 'early_stopping': True, 'class_weight': None}\n"
     ]
    },
    {
     "name": "stderr",
     "output_type": "stream",
     "text": [
      "\n"
     ]
    }
   ],
   "source": [
    "start = time.time()\n",
    "results_inc_df=classic_ml.hyperparameter_tuning(X_train=sel_images_reshaped, y_train=sel_targets, X_test=X_sel_test, y_test=y_sel_test, splits=2,  n_trials=15, verbose=0, scoring='accuracy', estimators=estimators)\n",
    "end = time.time()"
   ]
  },
  {
   "cell_type": "code",
   "execution_count": 12,
   "metadata": {},
   "outputs": [
    {
     "name": "stdout",
     "output_type": "stream",
     "text": [
      "Total time for hyperparameter tuning and final results: 11.13 minutes\n"
     ]
    }
   ],
   "source": [
    "print(f'Total time for hyperparameter tuning and final results: {(end - start)/60:.2f} minutes')"
   ]
  },
  {
   "cell_type": "code",
   "execution_count": 13,
   "metadata": {},
   "outputs": [
    {
     "data": {
      "text/html": [
       "<div>\n",
       "<style scoped>\n",
       "    .dataframe tbody tr th:only-of-type {\n",
       "        vertical-align: middle;\n",
       "    }\n",
       "\n",
       "    .dataframe tbody tr th {\n",
       "        vertical-align: top;\n",
       "    }\n",
       "\n",
       "    .dataframe thead th {\n",
       "        text-align: right;\n",
       "    }\n",
       "</style>\n",
       "<table border=\"1\" class=\"dataframe\">\n",
       "  <thead>\n",
       "    <tr style=\"text-align: right;\">\n",
       "      <th></th>\n",
       "      <th>name</th>\n",
       "      <th>score</th>\n",
       "      <th>best_params</th>\n",
       "    </tr>\n",
       "  </thead>\n",
       "  <tbody>\n",
       "    <tr>\n",
       "      <th>0</th>\n",
       "      <td>MLPClassifier</td>\n",
       "      <td>0.437143</td>\n",
       "      <td>{'hidden_layer_sizes': (16, 64, 128, 514), 'ac...</td>\n",
       "    </tr>\n",
       "    <tr>\n",
       "      <th>1</th>\n",
       "      <td>PassiveAggressiveClassifier</td>\n",
       "      <td>0.402857</td>\n",
       "      <td>{'C': 1.870898543107549, 'tol': 0.080583576180...</td>\n",
       "    </tr>\n",
       "    <tr>\n",
       "      <th>2</th>\n",
       "      <td>Perceptron</td>\n",
       "      <td>0.225714</td>\n",
       "      <td>{'penalty': 'elasticnet', 'alpha': 0.031100946...</td>\n",
       "    </tr>\n",
       "    <tr>\n",
       "      <th>3</th>\n",
       "      <td>SGDClassifier</td>\n",
       "      <td>0.405714</td>\n",
       "      <td>{'loss': 'modified_huber', 'penalty': None, 't...</td>\n",
       "    </tr>\n",
       "  </tbody>\n",
       "</table>\n",
       "</div>"
      ],
      "text/plain": [
       "                          name     score  \\\n",
       "0                MLPClassifier  0.437143   \n",
       "1  PassiveAggressiveClassifier  0.402857   \n",
       "2                   Perceptron  0.225714   \n",
       "3                SGDClassifier  0.405714   \n",
       "\n",
       "                                         best_params  \n",
       "0  {'hidden_layer_sizes': (16, 64, 128, 514), 'ac...  \n",
       "1  {'C': 1.870898543107549, 'tol': 0.080583576180...  \n",
       "2  {'penalty': 'elasticnet', 'alpha': 0.031100946...  \n",
       "3  {'loss': 'modified_huber', 'penalty': None, 't...  "
      ]
     },
     "execution_count": 13,
     "metadata": {},
     "output_type": "execute_result"
    }
   ],
   "source": [
    "# results_inc_df.to_csv('results_inc_df.csv')\n",
    "results_inc_df = pd.read_csv('results_inc_df.csv', index_col=0)\n",
    "results_inc_df"
   ]
  },
  {
   "cell_type": "code",
   "execution_count": 15,
   "metadata": {},
   "outputs": [
    {
     "name": "stderr",
     "output_type": "stream",
     "text": [
      "  0%|          | 0/15 [00:00<?, ?it/s]"
     ]
    },
    {
     "name": "stderr",
     "output_type": "stream",
     "text": [
      "100%|██████████| 15/15 [04:00<00:00, 16.02s/it]"
     ]
    },
    {
     "name": "stdout",
     "output_type": "stream",
     "text": [
      "Classification with partial fit took 4.00 minutes\n"
     ]
    },
    {
     "name": "stderr",
     "output_type": "stream",
     "text": [
      "\n"
     ]
    }
   ],
   "source": [
    "batch_size = 1500  \n",
    "total_batches = len(X_train) // batch_size + (0 if len(X_train) % batch_size == 0 else 1)\n",
    "\n",
    "best_params_SGD = eval(results_inc_df[results_inc_df['name'] == 'SGDClassifier']['best_params'].values[0])\n",
    "best_params_MLP = eval(results_inc_df[results_inc_df['name'] == 'MLPClassifier']['best_params'].values[0])\n",
    "best_params_PAC = eval(results_inc_df[results_inc_df['name'] == 'PassiveAggressiveClassifier']['best_params'].values[0])\n",
    "\n",
    "best_params_SGD['early_stopping'] = False\n",
    "best_params_MLP['early_stopping'] = False\n",
    "best_params_PAC['early_stopping'] = False\n",
    "best_params_SGD['class_weight'] = None\n",
    "best_params_PAC['class_weight'] = None\n",
    "\n",
    "clf_SGD = SGDClassifier(**best_params_SGD)\n",
    "clf_MLP = MLPClassifier(**best_params_MLP)\n",
    "clf_PAC = PassiveAggressiveClassifier(**best_params_PAC)\n",
    "\n",
    "start = time.time()\n",
    "for images_batch, labels_batch in tqdm(classic_ml.process_batch_partial_fit(X=X_train, y=y_train, batch_size=batch_size), total=total_batches):\n",
    "    images_batch_reshaped = images_batch.reshape(images_batch.shape[0], -1)\n",
    "\n",
    "    clf_SGD.partial_fit(images_batch_reshaped, labels_batch, classes=np.unique(labels_batch))\n",
    "    clf_MLP.partial_fit(images_batch_reshaped, labels_batch, classes=np.unique(labels_batch))\n",
    "    clf_PAC.partial_fit(images_batch_reshaped, labels_batch, classes=np.unique(labels_batch))\n",
    "    \n",
    "end = time.time()\n",
    "print(f\"Classification with partial fit took {(end - start)/60:.2f} minutes\")"
   ]
  },
  {
   "cell_type": "code",
   "execution_count": 16,
   "metadata": {},
   "outputs": [
    {
     "name": "stderr",
     "output_type": "stream",
     "text": [
      "100%|██████████| 7/7 [01:32<00:00, 13.19s/it]"
     ]
    },
    {
     "name": "stdout",
     "output_type": "stream",
     "text": [
      "SGD Classifier Accuracy: 0.4632226056945643\n",
      "MLP Classifier Accuracy: 0.4469370146678171\n",
      "PAC Classifier Accuracy: 0.3396246764452114\n",
      "\n",
      "Classification Report for SGD Classifier:\n",
      "               precision    recall  f1-score   support\n",
      "\n",
      "           0       0.36      0.18      0.24      1296\n",
      "           1       0.60      0.50      0.54      1354\n",
      "           2       0.49      0.50      0.50      1336\n",
      "           3       0.43      0.49      0.46      1330\n",
      "           4       0.54      0.73      0.62      1319\n",
      "           5       0.44      0.43      0.44      1322\n",
      "           6       0.35      0.41      0.37      1315\n",
      "\n",
      "    accuracy                           0.46      9272\n",
      "   macro avg       0.46      0.46      0.45      9272\n",
      "weighted avg       0.46      0.46      0.45      9272\n",
      "\n",
      "\n",
      "Classification Report for MLP Classifier:\n",
      "               precision    recall  f1-score   support\n",
      "\n",
      "           0       0.29      0.29      0.29      1296\n",
      "           1       0.47      0.73      0.57      1354\n",
      "           2       0.51      0.38      0.43      1336\n",
      "           3       0.43      0.60      0.50      1330\n",
      "           4       0.65      0.44      0.53      1319\n",
      "           5       0.42      0.60      0.50      1322\n",
      "           6       0.41      0.07      0.12      1315\n",
      "\n",
      "    accuracy                           0.45      9272\n",
      "   macro avg       0.46      0.45      0.42      9272\n",
      "weighted avg       0.46      0.45      0.42      9272\n",
      "\n",
      "\n",
      "Classification Report for PAC Classifier:\n",
      "               precision    recall  f1-score   support\n",
      "\n",
      "           0       0.22      0.26      0.24      1296\n",
      "           1       0.50      0.39      0.44      1354\n",
      "           2       0.33      0.31      0.32      1336\n",
      "           3       0.39      0.41      0.40      1330\n",
      "           4       0.75      0.37      0.49      1319\n",
      "           5       0.71      0.01      0.03      1322\n",
      "           6       0.24      0.63      0.35      1315\n",
      "\n",
      "    accuracy                           0.34      9272\n",
      "   macro avg       0.45      0.34      0.32      9272\n",
      "weighted avg       0.45      0.34      0.32      9272\n",
      "\n"
     ]
    },
    {
     "name": "stderr",
     "output_type": "stream",
     "text": [
      "\n"
     ]
    }
   ],
   "source": [
    "total_batches = len(X_test) // batch_size + (0 if len(X_test) % batch_size == 0 else 1)\n",
    "\n",
    "true_labels = []\n",
    "predictions_SGD = []\n",
    "predictions_MLP = []\n",
    "predictions_PAC = []\n",
    "\n",
    "for images_batch, labels_batch in tqdm(classic_ml.process_batch_partial_fit(X=X_test, y=y_test, batch_size=batch_size), total=total_batches):\n",
    "    images_batch_reshaped = images_batch.reshape(images_batch.shape[0], -1)\n",
    "    \n",
    "    true_labels.extend(labels_batch)\n",
    "\n",
    "    predictions_SGD.extend(clf_SGD.predict(images_batch_reshaped))\n",
    "    predictions_MLP.extend(clf_MLP.predict(images_batch_reshaped))\n",
    "    predictions_PAC.extend(clf_PAC.predict(images_batch_reshaped))\n",
    "\n",
    "print(\"SGD Classifier Accuracy:\", accuracy_score(true_labels, predictions_SGD))\n",
    "print(\"MLP Classifier Accuracy:\", accuracy_score(true_labels, predictions_MLP))\n",
    "print(\"PAC Classifier Accuracy:\", accuracy_score(true_labels, predictions_PAC))\n",
    "\n",
    "print(\"\\nClassification Report for SGD Classifier:\\n\", classification_report(true_labels, predictions_SGD))\n",
    "print(\"\\nClassification Report for MLP Classifier:\\n\", classification_report(true_labels, predictions_MLP))\n",
    "print(\"\\nClassification Report for PAC Classifier:\\n\", classification_report(true_labels, predictions_PAC))\n"
   ]
  },
  {
   "cell_type": "code",
   "execution_count": null,
   "metadata": {},
   "outputs": [],
   "source": []
  }
 ],
 "metadata": {
  "kernelspec": {
   "display_name": "base",
   "language": "python",
   "name": "python3"
  },
  "language_info": {
   "codemirror_mode": {
    "name": "ipython",
    "version": 3
   },
   "file_extension": ".py",
   "mimetype": "text/x-python",
   "name": "python",
   "nbconvert_exporter": "python",
   "pygments_lexer": "ipython3",
   "version": "3.11.5"
  }
 },
 "nbformat": 4,
 "nbformat_minor": 2
}
