{
 "cells": [
  {
   "cell_type": "code",
   "execution_count": 1,
   "metadata": {},
   "outputs": [],
   "source": [
    "import os\n",
    "import glob\n",
    "import numpy as np\n",
    "import pandas as pd\n",
    "import seaborn as sns\n",
    "import matplotlib.pyplot as plt\n",
    "import random\n",
    "from tqdm import tqdm\n",
    "\n",
    "from skimage import io, transform\n",
    "from sklearn.model_selection import train_test_split\n",
    "from sklearn.metrics import classification_report, accuracy_score\n",
    "from sklearn.preprocessing import LabelEncoder\n",
    "from sklearn.metrics import confusion_matrix\n",
    "from sklearn.feature_extraction import image\n",
    "from skimage import transform, exposure\n",
    "from sklearn.model_selection import train_test_split\n",
    "\n",
    "from torchvision import transforms\n",
    "\n",
    "from sklearn.feature_selection import SelectKBest\n",
    "from sklearn.feature_selection import f_classif\n",
    "\n",
    "\n",
    "import time\n",
    "\n",
    "import random\n",
    "from PIL import Image\n",
    "import cv2"
   ]
  },
  {
   "cell_type": "code",
   "execution_count": 2,
   "metadata": {},
   "outputs": [],
   "source": [
    "data = pd.read_csv('data_enum.csv')\n",
    "data = data.sample(frac=1)"
   ]
  },
  {
   "cell_type": "code",
   "execution_count": 3,
   "metadata": {},
   "outputs": [
    {
     "data": {
      "text/html": [
       "<div>\n",
       "<style scoped>\n",
       "    .dataframe tbody tr th:only-of-type {\n",
       "        vertical-align: middle;\n",
       "    }\n",
       "\n",
       "    .dataframe tbody tr th {\n",
       "        vertical-align: top;\n",
       "    }\n",
       "\n",
       "    .dataframe thead th {\n",
       "        text-align: right;\n",
       "    }\n",
       "</style>\n",
       "<table border=\"1\" class=\"dataframe\">\n",
       "  <thead>\n",
       "    <tr style=\"text-align: right;\">\n",
       "      <th></th>\n",
       "      <th>lesion_id</th>\n",
       "      <th>image_id</th>\n",
       "      <th>dx</th>\n",
       "      <th>dx_type</th>\n",
       "      <th>age</th>\n",
       "      <th>sex</th>\n",
       "      <th>localization</th>\n",
       "      <th>dup_les</th>\n",
       "      <th>image_path</th>\n",
       "      <th>dx_cat</th>\n",
       "    </tr>\n",
       "  </thead>\n",
       "  <tbody>\n",
       "    <tr>\n",
       "      <th>17111</th>\n",
       "      <td>HAM_0003351</td>\n",
       "      <td>ISIC_0033878</td>\n",
       "      <td>mel</td>\n",
       "      <td>histo</td>\n",
       "      <td>80</td>\n",
       "      <td>female</td>\n",
       "      <td>face</td>\n",
       "      <td>False</td>\n",
       "      <td>HAM10000_images_part_2/mel/ISIC_0033878.jpg</td>\n",
       "      <td>3</td>\n",
       "    </tr>\n",
       "    <tr>\n",
       "      <th>25254</th>\n",
       "      <td>HAM_0002733</td>\n",
       "      <td>ISIC_0031041</td>\n",
       "      <td>bcc</td>\n",
       "      <td>histo</td>\n",
       "      <td>70</td>\n",
       "      <td>male</td>\n",
       "      <td>chest</td>\n",
       "      <td>False</td>\n",
       "      <td>HAM10000_images_part_2/bcc/ISIC_0031041.jpg</td>\n",
       "      <td>5</td>\n",
       "    </tr>\n",
       "    <tr>\n",
       "      <th>15268</th>\n",
       "      <td>HAM_0000040</td>\n",
       "      <td>ISIC_0027190</td>\n",
       "      <td>mel</td>\n",
       "      <td>histo</td>\n",
       "      <td>80</td>\n",
       "      <td>male</td>\n",
       "      <td>upper extremity</td>\n",
       "      <td>False</td>\n",
       "      <td>HAM10000_images_part_1/mel/ISIC_0027190.jpg</td>\n",
       "      <td>3</td>\n",
       "    </tr>\n",
       "    <tr>\n",
       "      <th>26987</th>\n",
       "      <td>HAM_0007308</td>\n",
       "      <td>ISIC_0026848</td>\n",
       "      <td>akiec</td>\n",
       "      <td>histo</td>\n",
       "      <td>55</td>\n",
       "      <td>male</td>\n",
       "      <td>face</td>\n",
       "      <td>False</td>\n",
       "      <td>HAM10000_images_part_1/akiec/ISIC_0026848.jpg</td>\n",
       "      <td>6</td>\n",
       "    </tr>\n",
       "    <tr>\n",
       "      <th>5204</th>\n",
       "      <td>HAM_0006148</td>\n",
       "      <td>ISIC_0033987</td>\n",
       "      <td>bkl</td>\n",
       "      <td>consensus</td>\n",
       "      <td>80</td>\n",
       "      <td>female</td>\n",
       "      <td>back</td>\n",
       "      <td>False</td>\n",
       "      <td>HAM10000_images_part_2/bkl/ISIC_0033987.jpg</td>\n",
       "      <td>0</td>\n",
       "    </tr>\n",
       "  </tbody>\n",
       "</table>\n",
       "</div>"
      ],
      "text/plain": [
       "         lesion_id      image_id     dx    dx_type  age     sex  \\\n",
       "17111  HAM_0003351  ISIC_0033878    mel      histo   80  female   \n",
       "25254  HAM_0002733  ISIC_0031041    bcc      histo   70    male   \n",
       "15268  HAM_0000040  ISIC_0027190    mel      histo   80    male   \n",
       "26987  HAM_0007308  ISIC_0026848  akiec      histo   55    male   \n",
       "5204   HAM_0006148  ISIC_0033987    bkl  consensus   80  female   \n",
       "\n",
       "          localization  dup_les  \\\n",
       "17111             face    False   \n",
       "25254            chest    False   \n",
       "15268  upper extremity    False   \n",
       "26987             face    False   \n",
       "5204              back    False   \n",
       "\n",
       "                                          image_path  dx_cat  \n",
       "17111    HAM10000_images_part_2/mel/ISIC_0033878.jpg       3  \n",
       "25254    HAM10000_images_part_2/bcc/ISIC_0031041.jpg       5  \n",
       "15268    HAM10000_images_part_1/mel/ISIC_0027190.jpg       3  \n",
       "26987  HAM10000_images_part_1/akiec/ISIC_0026848.jpg       6  \n",
       "5204     HAM10000_images_part_2/bkl/ISIC_0033987.jpg       0  "
      ]
     },
     "execution_count": 3,
     "metadata": {},
     "output_type": "execute_result"
    }
   ],
   "source": [
    "data.head()"
   ]
  },
  {
   "cell_type": "code",
   "execution_count": 4,
   "metadata": {},
   "outputs": [
    {
     "data": {
      "text/plain": [
       "(30905, 10)"
      ]
     },
     "execution_count": 4,
     "metadata": {},
     "output_type": "execute_result"
    }
   ],
   "source": [
    "data.shape"
   ]
  },
  {
   "cell_type": "markdown",
   "metadata": {},
   "source": [
    "## Sample for feature importance"
   ]
  },
  {
   "cell_type": "code",
   "execution_count": 7,
   "metadata": {},
   "outputs": [
    {
     "data": {
      "text/html": [
       "<div>\n",
       "<style scoped>\n",
       "    .dataframe tbody tr th:only-of-type {\n",
       "        vertical-align: middle;\n",
       "    }\n",
       "\n",
       "    .dataframe tbody tr th {\n",
       "        vertical-align: top;\n",
       "    }\n",
       "\n",
       "    .dataframe thead th {\n",
       "        text-align: right;\n",
       "    }\n",
       "</style>\n",
       "<table border=\"1\" class=\"dataframe\">\n",
       "  <thead>\n",
       "    <tr style=\"text-align: right;\">\n",
       "      <th></th>\n",
       "      <th>lesion_id</th>\n",
       "      <th>image_id</th>\n",
       "      <th>dx</th>\n",
       "      <th>dx_type</th>\n",
       "      <th>age</th>\n",
       "      <th>sex</th>\n",
       "      <th>localization</th>\n",
       "      <th>dup_les</th>\n",
       "      <th>image_path</th>\n",
       "      <th>dx_cat</th>\n",
       "    </tr>\n",
       "  </thead>\n",
       "  <tbody>\n",
       "    <tr>\n",
       "      <th>0</th>\n",
       "      <td>HAM_0002343</td>\n",
       "      <td>ISIC_0028158</td>\n",
       "      <td>akiec</td>\n",
       "      <td>histo</td>\n",
       "      <td>70</td>\n",
       "      <td>female</td>\n",
       "      <td>back</td>\n",
       "      <td>False</td>\n",
       "      <td>HAM10000_images_part_1/akiec/ISIC_0028158.jpg</td>\n",
       "      <td>6</td>\n",
       "    </tr>\n",
       "    <tr>\n",
       "      <th>1</th>\n",
       "      <td>HAM_0006002</td>\n",
       "      <td>ISIC_0029915</td>\n",
       "      <td>akiec</td>\n",
       "      <td>histo</td>\n",
       "      <td>50</td>\n",
       "      <td>female</td>\n",
       "      <td>face</td>\n",
       "      <td>False</td>\n",
       "      <td>HAM10000_images_part_2/akiec/ISIC_0029915.jpg</td>\n",
       "      <td>6</td>\n",
       "    </tr>\n",
       "    <tr>\n",
       "      <th>2</th>\n",
       "      <td>HAM_0006036</td>\n",
       "      <td>ISIC_0029713</td>\n",
       "      <td>akiec</td>\n",
       "      <td>histo</td>\n",
       "      <td>85</td>\n",
       "      <td>male</td>\n",
       "      <td>back</td>\n",
       "      <td>False</td>\n",
       "      <td>HAM10000_images_part_2/akiec/ISIC_0029713.jpg</td>\n",
       "      <td>6</td>\n",
       "    </tr>\n",
       "    <tr>\n",
       "      <th>3</th>\n",
       "      <td>HAM_0004636</td>\n",
       "      <td>ISIC_0029541</td>\n",
       "      <td>akiec</td>\n",
       "      <td>histo</td>\n",
       "      <td>55</td>\n",
       "      <td>male</td>\n",
       "      <td>face</td>\n",
       "      <td>False</td>\n",
       "      <td>HAM10000_images_part_2/akiec/ISIC_0029541.jpg</td>\n",
       "      <td>6</td>\n",
       "    </tr>\n",
       "    <tr>\n",
       "      <th>4</th>\n",
       "      <td>HAM_0003086</td>\n",
       "      <td>ISIC_0032349</td>\n",
       "      <td>akiec</td>\n",
       "      <td>histo</td>\n",
       "      <td>60</td>\n",
       "      <td>male</td>\n",
       "      <td>lower extremity</td>\n",
       "      <td>False</td>\n",
       "      <td>HAM10000_images_part_2/akiec/ISIC_0032349.jpg</td>\n",
       "      <td>6</td>\n",
       "    </tr>\n",
       "    <tr>\n",
       "      <th>...</th>\n",
       "      <td>...</td>\n",
       "      <td>...</td>\n",
       "      <td>...</td>\n",
       "      <td>...</td>\n",
       "      <td>...</td>\n",
       "      <td>...</td>\n",
       "      <td>...</td>\n",
       "      <td>...</td>\n",
       "      <td>...</td>\n",
       "      <td>...</td>\n",
       "    </tr>\n",
       "    <tr>\n",
       "      <th>3495</th>\n",
       "      <td>HAM_0005471</td>\n",
       "      <td>ISIC_0028146</td>\n",
       "      <td>vasc</td>\n",
       "      <td>histo</td>\n",
       "      <td>60</td>\n",
       "      <td>female</td>\n",
       "      <td>back</td>\n",
       "      <td>False</td>\n",
       "      <td>HAM10000_images_part_1/vasc/ISIC_0028146.jpg</td>\n",
       "      <td>4</td>\n",
       "    </tr>\n",
       "    <tr>\n",
       "      <th>3496</th>\n",
       "      <td>HAM_0004413</td>\n",
       "      <td>ISIC_0026068</td>\n",
       "      <td>vasc</td>\n",
       "      <td>consensus</td>\n",
       "      <td>55</td>\n",
       "      <td>female</td>\n",
       "      <td>abdomen</td>\n",
       "      <td>False</td>\n",
       "      <td>HAM10000_images_part_1/vasc/ISIC_0026068.jpg</td>\n",
       "      <td>4</td>\n",
       "    </tr>\n",
       "    <tr>\n",
       "      <th>3497</th>\n",
       "      <td>HAM_0004413</td>\n",
       "      <td>ISIC_0026068</td>\n",
       "      <td>vasc</td>\n",
       "      <td>consensus</td>\n",
       "      <td>55</td>\n",
       "      <td>female</td>\n",
       "      <td>abdomen</td>\n",
       "      <td>False</td>\n",
       "      <td>HAM10000_images_part_1/vasc/ISIC_0026068.jpg</td>\n",
       "      <td>4</td>\n",
       "    </tr>\n",
       "    <tr>\n",
       "      <th>3498</th>\n",
       "      <td>HAM_0007532</td>\n",
       "      <td>ISIC_0024662</td>\n",
       "      <td>vasc</td>\n",
       "      <td>consensus</td>\n",
       "      <td>75</td>\n",
       "      <td>male</td>\n",
       "      <td>trunk</td>\n",
       "      <td>False</td>\n",
       "      <td>HAM10000_images_part_1/vasc/ISIC_0024662.jpg</td>\n",
       "      <td>4</td>\n",
       "    </tr>\n",
       "    <tr>\n",
       "      <th>3499</th>\n",
       "      <td>HAM_0004257</td>\n",
       "      <td>ISIC_0025452</td>\n",
       "      <td>vasc</td>\n",
       "      <td>consensus</td>\n",
       "      <td>55</td>\n",
       "      <td>female</td>\n",
       "      <td>abdomen</td>\n",
       "      <td>False</td>\n",
       "      <td>HAM10000_images_part_1/vasc/ISIC_0025452.jpg</td>\n",
       "      <td>4</td>\n",
       "    </tr>\n",
       "  </tbody>\n",
       "</table>\n",
       "<p>3500 rows × 10 columns</p>\n",
       "</div>"
      ],
      "text/plain": [
       "        lesion_id      image_id     dx    dx_type  age     sex  \\\n",
       "0     HAM_0002343  ISIC_0028158  akiec      histo   70  female   \n",
       "1     HAM_0006002  ISIC_0029915  akiec      histo   50  female   \n",
       "2     HAM_0006036  ISIC_0029713  akiec      histo   85    male   \n",
       "3     HAM_0004636  ISIC_0029541  akiec      histo   55    male   \n",
       "4     HAM_0003086  ISIC_0032349  akiec      histo   60    male   \n",
       "...           ...           ...    ...        ...  ...     ...   \n",
       "3495  HAM_0005471  ISIC_0028146   vasc      histo   60  female   \n",
       "3496  HAM_0004413  ISIC_0026068   vasc  consensus   55  female   \n",
       "3497  HAM_0004413  ISIC_0026068   vasc  consensus   55  female   \n",
       "3498  HAM_0007532  ISIC_0024662   vasc  consensus   75    male   \n",
       "3499  HAM_0004257  ISIC_0025452   vasc  consensus   55  female   \n",
       "\n",
       "         localization  dup_les                                     image_path  \\\n",
       "0                back    False  HAM10000_images_part_1/akiec/ISIC_0028158.jpg   \n",
       "1                face    False  HAM10000_images_part_2/akiec/ISIC_0029915.jpg   \n",
       "2                back    False  HAM10000_images_part_2/akiec/ISIC_0029713.jpg   \n",
       "3                face    False  HAM10000_images_part_2/akiec/ISIC_0029541.jpg   \n",
       "4     lower extremity    False  HAM10000_images_part_2/akiec/ISIC_0032349.jpg   \n",
       "...               ...      ...                                            ...   \n",
       "3495             back    False   HAM10000_images_part_1/vasc/ISIC_0028146.jpg   \n",
       "3496          abdomen    False   HAM10000_images_part_1/vasc/ISIC_0026068.jpg   \n",
       "3497          abdomen    False   HAM10000_images_part_1/vasc/ISIC_0026068.jpg   \n",
       "3498            trunk    False   HAM10000_images_part_1/vasc/ISIC_0024662.jpg   \n",
       "3499          abdomen    False   HAM10000_images_part_1/vasc/ISIC_0025452.jpg   \n",
       "\n",
       "      dx_cat  \n",
       "0          6  \n",
       "1          6  \n",
       "2          6  \n",
       "3          6  \n",
       "4          6  \n",
       "...      ...  \n",
       "3495       4  \n",
       "3496       4  \n",
       "3497       4  \n",
       "3498       4  \n",
       "3499       4  \n",
       "\n",
       "[3500 rows x 10 columns]"
      ]
     },
     "execution_count": 7,
     "metadata": {},
     "output_type": "execute_result"
    }
   ],
   "source": [
    "selected_data = data.groupby('dx').apply(lambda x: x.sample(n=500)).reset_index(drop=True)\n",
    "selected_data"
   ]
  },
  {
   "cell_type": "code",
   "execution_count": 8,
   "metadata": {},
   "outputs": [],
   "source": [
    "def transormations_apply(img_path,img_h, img_w, norm_means, norm_std):\n",
    "    \"\"\"\n",
    "    Create a transformation pipeline and apply it to an image.\n",
    "    The image is loaded from the given path and the transformation is applied.\n",
    "    The result is returned as a NumPy array.\n",
    "\n",
    "    Parameters:\n",
    "    img_path (str): The path to the image file.\n",
    "    img_h (int): The height to resize the images to.\n",
    "    img_w (int): The width to resize the images to.\n",
    "    norm_means (tuple): The means for each channel used for normalization.\n",
    "    norm_std (tuple): The standard deviations for each channel used for normalization.\n",
    "\n",
    "    Returns:\n",
    "    numpy.ndarray: The transformed image as a NumPy array.\n",
    "    \"\"\"\n",
    "    transform = transforms.Compose([\n",
    "        transforms.Resize((img_h, img_w)), # we applied resize for memory reasons\n",
    "        transforms.RandomHorizontalFlip(),\n",
    "        transforms.RandomVerticalFlip(),\n",
    "        transforms.RandomRotation(20),\n",
    "        transforms.ColorJitter(brightness=0.1, contrast=0.1, hue=0.1),\n",
    "        transforms.ToTensor(),\n",
    "        transforms.Normalize(norm_means, norm_std),\n",
    "        transforms.Lambda(lambda x: x.numpy())  # convert the tensor to a NumPy array\n",
    "    ])\n",
    "\n",
    "    image = Image.open(img_path).convert('RGB')  \n",
    "\n",
    "    transformed_image = transform(image)\n",
    "\n",
    "    return transformed_image\n"
   ]
  },
  {
   "cell_type": "code",
   "execution_count": 9,
   "metadata": {},
   "outputs": [],
   "source": [
    "ims=['HAM10000_images_part_1/mel/ISIC_0024756.jpg']"
   ]
  },
  {
   "cell_type": "code",
   "execution_count": 10,
   "metadata": {},
   "outputs": [],
   "source": [
    "# use the same mean and std as before\n",
    "norm_means = np.array([0.77148203, 0.55764165, 0.58345652])\n",
    "norm_std =  np.array([0.12655577, 0.14245141, 0.15189891])\n",
    "img_h, img_w = 224, 224\n",
    "\n",
    "transformed_image = transormations_apply(ims[0],img_h, img_w, norm_means, norm_std)\n"
   ]
  },
  {
   "cell_type": "markdown",
   "metadata": {},
   "source": [
    "check"
   ]
  },
  {
   "cell_type": "code",
   "execution_count": 11,
   "metadata": {},
   "outputs": [
    {
     "data": {
      "text/plain": [
       "(3, 224, 224)"
      ]
     },
     "execution_count": 11,
     "metadata": {},
     "output_type": "execute_result"
    }
   ],
   "source": [
    "transformed_image.shape"
   ]
  },
  {
   "cell_type": "markdown",
   "metadata": {},
   "source": [
    "**Method Selection**\n",
    "\n",
    "In order to make sence to use the sklearn library with the classic classifiers we need to handle the high resolution of 30000 images. So we need a feature extraction method that is applicable in images. The HOG method is capturing the image shapes using gradients although in our dataset the color is a crutial parameter that we need to keep. PCA is another way to reduce the dataset components although we tried it and it is very slow and also consumes much memory. So we will try the Scale-Invariant Feature Transform method in order to detect keypoints of the images and use them for the classification. "
   ]
  },
  {
   "cell_type": "markdown",
   "metadata": {},
   "source": [
    "# PCA"
   ]
  },
  {
   "cell_type": "markdown",
   "metadata": {},
   "source": [
    "## Feature importance using PCA"
   ]
  },
  {
   "cell_type": "code",
   "execution_count": 12,
   "metadata": {},
   "outputs": [],
   "source": [
    "from sklearn.decomposition import PCA\n",
    "from concurrent.futures import ThreadPoolExecutor"
   ]
  },
  {
   "cell_type": "code",
   "execution_count": 13,
   "metadata": {},
   "outputs": [
    {
     "name": "stderr",
     "output_type": "stream",
     "text": [
      "100%|██████████| 3500/3500 [00:14<00:00, 236.59it/s]\n"
     ]
    }
   ],
   "source": [
    "flattened_images = []\n",
    "def process_image(img_path):\n",
    "    transformed_image = transormations_apply(img_path, img_h, img_w, norm_means, norm_std)\n",
    "    return transformed_image.flatten()\n",
    "\n",
    "with ThreadPoolExecutor(max_workers=16) as executor:\n",
    "    all_flatten_images = list(tqdm(executor.map(process_image, selected_data['image_path']), total=len(selected_data)))\n",
    "\n",
    "X = np.array(all_flatten_images)"
   ]
  },
  {
   "cell_type": "code",
   "execution_count": 14,
   "metadata": {},
   "outputs": [],
   "source": [
    "pca = PCA(n_components=200) # 200 is a random high number of components\n",
    "# Number of components explaining 95% of the variance: 135\n",
    "pca.fit(X)\n",
    "\n",
    "explained_variance = pca.explained_variance_ratio_"
   ]
  },
  {
   "cell_type": "code",
   "execution_count": 17,
   "metadata": {},
   "outputs": [
    {
     "data": {
      "image/png": "[encoded data removed]",
      "text/plain": [
       "<Figure size 640x480 with 1 Axes>"
      ]
     },
     "metadata": {},
     "output_type": "display_data"
    },
    {
     "name": "stdout",
     "output_type": "stream",
     "text": [
      "Number of components explaining 95% of the variance: 135\n"
     ]
    }
   ],
   "source": [
    "cumulative_variance = np.cumsum(explained_variance)\n",
    "plt.plot(cumulative_variance)\n",
    "plt.xlabel('Number of Components')\n",
    "plt.ylabel('Cumulative Explained Variance')\n",
    "plt.hlines(0.95, 0, 200, color='r', linestyle='--')\n",
    "plt.vlines(135, 0, 1, color='r', linestyle='--')\n",
    "plt.show()\n",
    "\n",
    "# Select the number of components that explain, say, 95% of the variance\n",
    "n_components_95 = np.where(cumulative_variance >= 0.95)[0][0] + 1\n",
    "print(f\"Number of components explaining 95% of the variance: {n_components_95}\")"
   ]
  },
  {
   "cell_type": "code",
   "execution_count": 15,
   "metadata": {},
   "outputs": [],
   "source": [
    "del(pca,X)"
   ]
  },
  {
   "cell_type": "markdown",
   "metadata": {},
   "source": [
    "This took approximately 20 minutes and filled up a big part of RAM memory with only 3500 images. Thus we decided to try another way."
   ]
  },
  {
   "cell_type": "code",
   "execution_count": 19,
   "metadata": {},
   "outputs": [
    {
     "name": "stderr",
     "output_type": "stream",
     "text": [
      "  0%|          | 0/3500 [00:00<?, ?it/s]"
     ]
    },
    {
     "name": "stderr",
     "output_type": "stream",
     "text": [
      "100%|██████████| 3500/3500 [00:12<00:00, 270.33it/s]\n",
      "100%|██████████| 3500/3500 [00:13<00:00, 266.74it/s]\n"
     ]
    }
   ],
   "source": [
    "def process_batch(image_paths, img_h, img_w, norm_means, norm_std):\n",
    "    with ThreadPoolExecutor(max_workers=16) as executor:\n",
    "        flattened_images = list(tqdm(executor.map(lambda img_path: transormations_apply(img_path, img_h, img_w, norm_means, norm_std).flatten(), image_paths), total=len(image_paths)))\n",
    "    return np.array(flattened_images)\n",
    "\n",
    "\n",
    "from sklearn.decomposition import IncrementalPCA\n",
    "\n",
    "n_components = 135\n",
    "ipca = IncrementalPCA(n_components=n_components)\n",
    "\n",
    "batch_size = 3500  \n",
    "\n",
    "for i in range(0, len(data['image_path']), batch_size):\n",
    "    batch_paths = data['image_path'][i:i + batch_size]\n",
    "    X_batch = process_batch(batch_paths, img_h, img_w, norm_means, norm_std)\n",
    "    ipca.partial_fit(X_batch)"
   ]
  },
  {
   "cell_type": "markdown",
   "metadata": {},
   "source": [
    "We stoped it here because it filled 32gb RAM memory"
   ]
  },
  {
   "cell_type": "markdown",
   "metadata": {},
   "source": [
    "# Scale-Invariant Feature Transform"
   ]
  },
  {
   "cell_type": "code",
   "execution_count": 18,
   "metadata": {},
   "outputs": [],
   "source": [
    "from sklearn.svm import SVC\n",
    "from sklearn.linear_model import SGDClassifier\n",
    "clf = SGDClassifier()"
   ]
  },
  {
   "cell_type": "code",
   "execution_count": 20,
   "metadata": {},
   "outputs": [],
   "source": [
    "def process_images_in_batches(df, batch_size):\n",
    "    for i in range(0, len(df), batch_size):\n",
    "        batch = df.iloc[i:i + batch_size]\n",
    "        images = []\n",
    "        labels = []\n",
    "\n",
    "        for _, row in batch.iterrows():\n",
    "            img_path = row['image_path']\n",
    "            label = row.get('dx_cat', None)  \n",
    "\n",
    "            transformed_image = transormations_apply(img_path, img_h, img_w, norm_means, norm_std)\n",
    "            images.append(transformed_image)\n",
    "\n",
    "            if label is not None:\n",
    "                labels.append(label)\n",
    "\n",
    "        yield np.array(images), np.array(labels)"
   ]
  },
  {
   "cell_type": "code",
   "execution_count": 23,
   "metadata": {},
   "outputs": [
    {
     "name": "stderr",
     "output_type": "stream",
     "text": [
      "100%|██████████| 21/21 [06:34<00:00, 18.77s/it]\n"
     ]
    }
   ],
   "source": [
    "batch_size = 3500  \n",
    "total_batches = len(data) // batch_size + (0 if len(data) % batch_size == 0 else 1)\n",
    "\n",
    "for images_batch, labels_batch in tqdm(process_images_in_batches(data, batch_size), total=total_batches):\n",
    "    # Reshape the images batch to be suitable for the classifier\n",
    "    images_batch_reshaped = images_batch.reshape(images_batch.shape[0], -1)\n",
    "\n",
    "    # Partially fit the model on this batch\n",
    "    clf.partial_fit(images_batch_reshaped, labels_batch, classes=np.unique(data['dx_cat'])) \n"
   ]
  },
  {
   "cell_type": "code",
   "execution_count": 24,
   "metadata": {},
   "outputs": [
    {
     "data": {
      "text/html": [
       "<style>#sk-container-id-1 {color: black;}#sk-container-id-1 pre{padding: 0;}#sk-container-id-1 div.sk-toggleable {background-color: white;}#sk-container-id-1 label.sk-toggleable__label {cursor: pointer;display: block;width: 100%;margin-bottom: 0;padding: 0.3em;box-sizing: border-box;text-align: center;}#sk-container-id-1 label.sk-toggleable__label-arrow:before {content: \"▸\";float: left;margin-right: 0.25em;color: #696969;}#sk-container-id-1 label.sk-toggleable__label-arrow:hover:before {color: black;}#sk-container-id-1 div.sk-estimator:hover label.sk-toggleable__label-arrow:before {color: black;}#sk-container-id-1 div.sk-toggleable__content {max-height: 0;max-width: 0;overflow: hidden;text-align: left;background-color: #f0f8ff;}#sk-container-id-1 div.sk-toggleable__content pre {margin: 0.2em;color: black;border-radius: 0.25em;background-color: #f0f8ff;}#sk-container-id-1 input.sk-toggleable__control:checked~div.sk-toggleable__content {max-height: 200px;max-width: 100%;overflow: auto;}#sk-container-id-1 input.sk-toggleable__control:checked~label.sk-toggleable__label-arrow:before {content: \"▾\";}#sk-container-id-1 div.sk-estimator input.sk-toggleable__control:checked~label.sk-toggleable__label {background-color: #d4ebff;}#sk-container-id-1 div.sk-label input.sk-toggleable__control:checked~label.sk-toggleable__label {background-color: #d4ebff;}#sk-container-id-1 input.sk-hidden--visually {border: 0;clip: rect(1px 1px 1px 1px);clip: rect(1px, 1px, 1px, 1px);height: 1px;margin: -1px;overflow: hidden;padding: 0;position: absolute;width: 1px;}#sk-container-id-1 div.sk-estimator {font-family: monospace;background-color: #f0f8ff;border: 1px dotted black;border-radius: 0.25em;box-sizing: border-box;margin-bottom: 0.5em;}#sk-container-id-1 div.sk-estimator:hover {background-color: #d4ebff;}#sk-container-id-1 div.sk-parallel-item::after {content: \"\";width: 100%;border-bottom: 1px solid gray;flex-grow: 1;}#sk-container-id-1 div.sk-label:hover label.sk-toggleable__label {background-color: #d4ebff;}#sk-container-id-1 div.sk-serial::before {content: \"\";position: absolute;border-left: 1px solid gray;box-sizing: border-box;top: 0;bottom: 0;left: 50%;z-index: 0;}#sk-container-id-1 div.sk-serial {display: flex;flex-direction: column;align-items: center;background-color: white;padding-right: 0.2em;padding-left: 0.2em;position: relative;}#sk-container-id-1 div.sk-item {position: relative;z-index: 1;}#sk-container-id-1 div.sk-parallel {display: flex;align-items: stretch;justify-content: center;background-color: white;position: relative;}#sk-container-id-1 div.sk-item::before, #sk-container-id-1 div.sk-parallel-item::before {content: \"\";position: absolute;border-left: 1px solid gray;box-sizing: border-box;top: 0;bottom: 0;left: 50%;z-index: -1;}#sk-container-id-1 div.sk-parallel-item {display: flex;flex-direction: column;z-index: 1;position: relative;background-color: white;}#sk-container-id-1 div.sk-parallel-item:first-child::after {align-self: flex-end;width: 50%;}#sk-container-id-1 div.sk-parallel-item:last-child::after {align-self: flex-start;width: 50%;}#sk-container-id-1 div.sk-parallel-item:only-child::after {width: 0;}#sk-container-id-1 div.sk-dashed-wrapped {border: 1px dashed gray;margin: 0 0.4em 0.5em 0.4em;box-sizing: border-box;padding-bottom: 0.4em;background-color: white;}#sk-container-id-1 div.sk-label label {font-family: monospace;font-weight: bold;display: inline-block;line-height: 1.2em;}#sk-container-id-1 div.sk-label-container {text-align: center;}#sk-container-id-1 div.sk-container {/* jupyter's `normalize.less` sets `[hidden] { display: none; }` but bootstrap.min.css set `[hidden] { display: none !important; }` so we also need the `!important` here to be able to override the default hidden behavior on the sphinx rendered scikit-learn.org. See: https://github.com/scikit-learn/scikit-learn/issues/21755 */display: inline-block !important;position: relative;}#sk-container-id-1 div.sk-text-repr-fallback {display: none;}</style><div id=\"sk-container-id-1\" class=\"sk-top-container\"><div class=\"sk-text-repr-fallback\"><pre>SGDClassifier()</pre><b>In a Jupyter environment, please rerun this cell to show the HTML representation or trust the notebook. <br />On GitHub, the HTML representation is unable to render, please try loading this page with nbviewer.org.</b></div><div class=\"sk-container\" hidden><div class=\"sk-item\"><div class=\"sk-estimator sk-toggleable\"><input class=\"sk-toggleable__control sk-hidden--visually\" id=\"sk-estimator-id-1\" type=\"checkbox\" checked><label for=\"sk-estimator-id-1\" class=\"sk-toggleable__label sk-toggleable__label-arrow\">SGDClassifier</label><div class=\"sk-toggleable__content\"><pre>SGDClassifier()</pre></div></div></div></div></div>"
      ],
      "text/plain": [
       "SGDClassifier()"
      ]
     },
     "execution_count": 24,
     "metadata": {},
     "output_type": "execute_result"
    }
   ],
   "source": [
    "clf"
   ]
  },
  {
   "cell_type": "code",
   "execution_count": null,
   "metadata": {},
   "outputs": [],
   "source": []
  }
 ],
 "metadata": {
  "kernelspec": {
   "display_name": "base",
   "language": "python",
   "name": "python3"
  },
  "language_info": {
   "codemirror_mode": {
    "name": "ipython",
    "version": 3
   },
   "file_extension": ".py",
   "mimetype": "text/x-python",
   "name": "python",
   "nbconvert_exporter": "python",
   "pygments_lexer": "ipython3",
   "version": "3.11.5"
  }
 },
 "nbformat": 4,
 "nbformat_minor": 2
}
