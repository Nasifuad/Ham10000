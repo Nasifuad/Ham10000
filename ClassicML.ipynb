{
 "cells": [
  {
   "cell_type": "code",
   "execution_count": 1,
   "metadata": {},
   "outputs": [],
   "source": [
    "import os\n",
    "import glob\n",
    "import numpy as np\n",
    "import pandas as pd\n",
    "import seaborn as sns\n",
    "import matplotlib.pyplot as plt\n",
    "import random\n",
    "from tqdm import tqdm\n",
    "\n",
    "from skimage import io, transform\n",
    "from sklearn.model_selection import train_test_split\n",
    "from sklearn.metrics import classification_report, accuracy_score\n",
    "from sklearn.preprocessing import LabelEncoder\n",
    "from sklearn.metrics import confusion_matrix\n",
    "from sklearn.feature_extraction import image\n",
    "from skimage import transform, exposure\n",
    "from sklearn.model_selection import train_test_split\n",
    "\n",
    "from torchvision import transforms\n",
    "\n",
    "from sklearn.feature_selection import SelectKBest\n",
    "from sklearn.feature_selection import f_classif\n",
    "\n",
    "\n",
    "import time\n",
    "\n",
    "import random\n",
    "from PIL import Image\n",
    "import cv2"
   ]
  },
  {
   "cell_type": "code",
   "execution_count": 2,
   "metadata": {},
   "outputs": [],
   "source": [
    "data = pd.read_csv('data_enum.csv')\n",
    "data = data.sample(frac=1)"
   ]
  },
  {
   "cell_type": "code",
   "execution_count": 3,
   "metadata": {},
   "outputs": [
    {
     "data": {
      "text/html": [
       "<div>\n",
       "<style scoped>\n",
       "    .dataframe tbody tr th:only-of-type {\n",
       "        vertical-align: middle;\n",
       "    }\n",
       "\n",
       "    .dataframe tbody tr th {\n",
       "        vertical-align: top;\n",
       "    }\n",
       "\n",
       "    .dataframe thead th {\n",
       "        text-align: right;\n",
       "    }\n",
       "</style>\n",
       "<table border=\"1\" class=\"dataframe\">\n",
       "  <thead>\n",
       "    <tr style=\"text-align: right;\">\n",
       "      <th></th>\n",
       "      <th>lesion_id</th>\n",
       "      <th>image_id</th>\n",
       "      <th>dx</th>\n",
       "      <th>dx_type</th>\n",
       "      <th>age</th>\n",
       "      <th>sex</th>\n",
       "      <th>localization</th>\n",
       "      <th>dup_les</th>\n",
       "      <th>image_path</th>\n",
       "      <th>dx_cat</th>\n",
       "    </tr>\n",
       "  </thead>\n",
       "  <tbody>\n",
       "    <tr>\n",
       "      <th>5431</th>\n",
       "      <td>HAM_0002355</td>\n",
       "      <td>ISIC_0029202</td>\n",
       "      <td>bkl</td>\n",
       "      <td>consensus</td>\n",
       "      <td>35</td>\n",
       "      <td>male</td>\n",
       "      <td>abdomen</td>\n",
       "      <td>False</td>\n",
       "      <td>HAM10000_images_part_1/bkl/ISIC_0029202.jpg</td>\n",
       "      <td>0</td>\n",
       "    </tr>\n",
       "    <tr>\n",
       "      <th>19958</th>\n",
       "      <td>HAM_0004820</td>\n",
       "      <td>ISIC_0030722</td>\n",
       "      <td>vasc</td>\n",
       "      <td>consensus</td>\n",
       "      <td>45</td>\n",
       "      <td>female</td>\n",
       "      <td>abdomen</td>\n",
       "      <td>False</td>\n",
       "      <td>HAM10000_images_part_2/vasc/ISIC_0030722.jpg</td>\n",
       "      <td>4</td>\n",
       "    </tr>\n",
       "    <tr>\n",
       "      <th>20965</th>\n",
       "      <td>HAM_0006447</td>\n",
       "      <td>ISIC_0031276</td>\n",
       "      <td>vasc</td>\n",
       "      <td>consensus</td>\n",
       "      <td>75</td>\n",
       "      <td>male</td>\n",
       "      <td>abdomen</td>\n",
       "      <td>False</td>\n",
       "      <td>HAM10000_images_part_2/vasc/ISIC_0031276.jpg</td>\n",
       "      <td>4</td>\n",
       "    </tr>\n",
       "    <tr>\n",
       "      <th>7366</th>\n",
       "      <td>HAM_0000582</td>\n",
       "      <td>ISIC_0025885</td>\n",
       "      <td>bkl</td>\n",
       "      <td>histo</td>\n",
       "      <td>85</td>\n",
       "      <td>male</td>\n",
       "      <td>lower extremity</td>\n",
       "      <td>False</td>\n",
       "      <td>HAM10000_images_part_1/bkl/ISIC_0025885.jpg</td>\n",
       "      <td>0</td>\n",
       "    </tr>\n",
       "    <tr>\n",
       "      <th>18771</th>\n",
       "      <td>HAM_0004413</td>\n",
       "      <td>ISIC_0026068</td>\n",
       "      <td>vasc</td>\n",
       "      <td>consensus</td>\n",
       "      <td>55</td>\n",
       "      <td>female</td>\n",
       "      <td>abdomen</td>\n",
       "      <td>False</td>\n",
       "      <td>HAM10000_images_part_1/vasc/ISIC_0026068.jpg</td>\n",
       "      <td>4</td>\n",
       "    </tr>\n",
       "  </tbody>\n",
       "</table>\n",
       "</div>"
      ],
      "text/plain": [
       "         lesion_id      image_id    dx    dx_type  age     sex  \\\n",
       "5431   HAM_0002355  ISIC_0029202   bkl  consensus   35    male   \n",
       "19958  HAM_0004820  ISIC_0030722  vasc  consensus   45  female   \n",
       "20965  HAM_0006447  ISIC_0031276  vasc  consensus   75    male   \n",
       "7366   HAM_0000582  ISIC_0025885   bkl      histo   85    male   \n",
       "18771  HAM_0004413  ISIC_0026068  vasc  consensus   55  female   \n",
       "\n",
       "          localization  dup_les                                    image_path  \\\n",
       "5431           abdomen    False   HAM10000_images_part_1/bkl/ISIC_0029202.jpg   \n",
       "19958          abdomen    False  HAM10000_images_part_2/vasc/ISIC_0030722.jpg   \n",
       "20965          abdomen    False  HAM10000_images_part_2/vasc/ISIC_0031276.jpg   \n",
       "7366   lower extremity    False   HAM10000_images_part_1/bkl/ISIC_0025885.jpg   \n",
       "18771          abdomen    False  HAM10000_images_part_1/vasc/ISIC_0026068.jpg   \n",
       "\n",
       "       dx_cat  \n",
       "5431        0  \n",
       "19958       4  \n",
       "20965       4  \n",
       "7366        0  \n",
       "18771       4  "
      ]
     },
     "execution_count": 3,
     "metadata": {},
     "output_type": "execute_result"
    }
   ],
   "source": [
    "data.head()"
   ]
  },
  {
   "cell_type": "code",
   "execution_count": 4,
   "metadata": {},
   "outputs": [
    {
     "data": {
      "text/plain": [
       "(30905, 10)"
      ]
     },
     "execution_count": 4,
     "metadata": {},
     "output_type": "execute_result"
    }
   ],
   "source": [
    "data.shape"
   ]
  },
  {
   "cell_type": "code",
   "execution_count": 5,
   "metadata": {},
   "outputs": [],
   "source": [
    "def transormations_apply(img_path,img_h, img_w, norm_means, norm_std):\n",
    "    \"\"\"\n",
    "    Create a transformation pipeline and apply it to an image.\n",
    "    The image is loaded from the given path and the transformation is applied.\n",
    "    The result is returned as a NumPy array.\n",
    "\n",
    "    Parameters:\n",
    "    img_path (str): The path to the image file.\n",
    "    img_h (int): The height to resize the images to.\n",
    "    img_w (int): The width to resize the images to.\n",
    "    norm_means (tuple): The means for each channel used for normalization.\n",
    "    norm_std (tuple): The standard deviations for each channel used for normalization.\n",
    "\n",
    "    Returns:\n",
    "    numpy.ndarray: The transformed image as a NumPy array.\n",
    "    \"\"\"\n",
    "    transform = transforms.Compose([\n",
    "        transforms.Resize((img_h, img_w)), # we applied resize for memory reasons\n",
    "        transforms.RandomHorizontalFlip(),\n",
    "        transforms.RandomVerticalFlip(),\n",
    "        transforms.RandomRotation(20),\n",
    "        transforms.ColorJitter(brightness=0.1, contrast=0.1, hue=0.1),\n",
    "        transforms.ToTensor(),\n",
    "        transforms.Normalize(norm_means, norm_std),\n",
    "        transforms.Lambda(lambda x: x.numpy())  # convert the tensor to a NumPy array\n",
    "    ])\n",
    "\n",
    "    image = Image.open(img_path).convert('RGB')  \n",
    "\n",
    "    transformed_image = transform(image)\n",
    "\n",
    "    return transformed_image\n"
   ]
  },
  {
   "cell_type": "code",
   "execution_count": 6,
   "metadata": {},
   "outputs": [],
   "source": [
    "# use the same mean and std as before\n",
    "norm_means = np.array([0.77148203, 0.55764165, 0.58345652])\n",
    "norm_std =  np.array([0.12655577, 0.14245141, 0.15189891])\n",
    "img_h, img_w = 224, 224"
   ]
  },
  {
   "cell_type": "markdown",
   "metadata": {},
   "source": [
    "## Sample for feature importance"
   ]
  },
  {
   "cell_type": "code",
   "execution_count": 7,
   "metadata": {},
   "outputs": [
    {
     "data": {
      "text/html": [
       "<div>\n",
       "<style scoped>\n",
       "    .dataframe tbody tr th:only-of-type {\n",
       "        vertical-align: middle;\n",
       "    }\n",
       "\n",
       "    .dataframe tbody tr th {\n",
       "        vertical-align: top;\n",
       "    }\n",
       "\n",
       "    .dataframe thead th {\n",
       "        text-align: right;\n",
       "    }\n",
       "</style>\n",
       "<table border=\"1\" class=\"dataframe\">\n",
       "  <thead>\n",
       "    <tr style=\"text-align: right;\">\n",
       "      <th></th>\n",
       "      <th>lesion_id</th>\n",
       "      <th>image_id</th>\n",
       "      <th>dx</th>\n",
       "      <th>dx_type</th>\n",
       "      <th>age</th>\n",
       "      <th>sex</th>\n",
       "      <th>localization</th>\n",
       "      <th>dup_les</th>\n",
       "      <th>image_path</th>\n",
       "      <th>dx_cat</th>\n",
       "    </tr>\n",
       "  </thead>\n",
       "  <tbody>\n",
       "    <tr>\n",
       "      <th>0</th>\n",
       "      <td>HAM_0001453</td>\n",
       "      <td>ISIC_0030991</td>\n",
       "      <td>akiec</td>\n",
       "      <td>histo</td>\n",
       "      <td>45</td>\n",
       "      <td>male</td>\n",
       "      <td>face</td>\n",
       "      <td>False</td>\n",
       "      <td>HAM10000_images_part_2/akiec/ISIC_0030991.jpg</td>\n",
       "      <td>6</td>\n",
       "    </tr>\n",
       "    <tr>\n",
       "      <th>1</th>\n",
       "      <td>HAM_0001048</td>\n",
       "      <td>ISIC_0026525</td>\n",
       "      <td>akiec</td>\n",
       "      <td>histo</td>\n",
       "      <td>45</td>\n",
       "      <td>male</td>\n",
       "      <td>face</td>\n",
       "      <td>False</td>\n",
       "      <td>HAM10000_images_part_1/akiec/ISIC_0026525.jpg</td>\n",
       "      <td>6</td>\n",
       "    </tr>\n",
       "    <tr>\n",
       "      <th>2</th>\n",
       "      <td>HAM_0005301</td>\n",
       "      <td>ISIC_0026362</td>\n",
       "      <td>akiec</td>\n",
       "      <td>histo</td>\n",
       "      <td>60</td>\n",
       "      <td>female</td>\n",
       "      <td>upper extremity</td>\n",
       "      <td>False</td>\n",
       "      <td>HAM10000_images_part_1/akiec/ISIC_0026362.jpg</td>\n",
       "      <td>6</td>\n",
       "    </tr>\n",
       "    <tr>\n",
       "      <th>3</th>\n",
       "      <td>HAM_0002061</td>\n",
       "      <td>ISIC_0030408</td>\n",
       "      <td>akiec</td>\n",
       "      <td>histo</td>\n",
       "      <td>80</td>\n",
       "      <td>male</td>\n",
       "      <td>scalp</td>\n",
       "      <td>False</td>\n",
       "      <td>HAM10000_images_part_2/akiec/ISIC_0030408.jpg</td>\n",
       "      <td>6</td>\n",
       "    </tr>\n",
       "    <tr>\n",
       "      <th>4</th>\n",
       "      <td>HAM_0005438</td>\n",
       "      <td>ISIC_0027708</td>\n",
       "      <td>akiec</td>\n",
       "      <td>histo</td>\n",
       "      <td>50</td>\n",
       "      <td>female</td>\n",
       "      <td>face</td>\n",
       "      <td>False</td>\n",
       "      <td>HAM10000_images_part_1/akiec/ISIC_0027708.jpg</td>\n",
       "      <td>6</td>\n",
       "    </tr>\n",
       "    <tr>\n",
       "      <th>...</th>\n",
       "      <td>...</td>\n",
       "      <td>...</td>\n",
       "      <td>...</td>\n",
       "      <td>...</td>\n",
       "      <td>...</td>\n",
       "      <td>...</td>\n",
       "      <td>...</td>\n",
       "      <td>...</td>\n",
       "      <td>...</td>\n",
       "      <td>...</td>\n",
       "    </tr>\n",
       "    <tr>\n",
       "      <th>3495</th>\n",
       "      <td>HAM_0004549</td>\n",
       "      <td>ISIC_0031201</td>\n",
       "      <td>vasc</td>\n",
       "      <td>consensus</td>\n",
       "      <td>45</td>\n",
       "      <td>male</td>\n",
       "      <td>trunk</td>\n",
       "      <td>False</td>\n",
       "      <td>HAM10000_images_part_2/vasc/ISIC_0031201.jpg</td>\n",
       "      <td>4</td>\n",
       "    </tr>\n",
       "    <tr>\n",
       "      <th>3496</th>\n",
       "      <td>HAM_0000286</td>\n",
       "      <td>ISIC_0029099</td>\n",
       "      <td>vasc</td>\n",
       "      <td>consensus</td>\n",
       "      <td>70</td>\n",
       "      <td>female</td>\n",
       "      <td>abdomen</td>\n",
       "      <td>False</td>\n",
       "      <td>HAM10000_images_part_1/vasc/ISIC_0029099.jpg</td>\n",
       "      <td>4</td>\n",
       "    </tr>\n",
       "    <tr>\n",
       "      <th>3497</th>\n",
       "      <td>HAM_0000286</td>\n",
       "      <td>ISIC_0029099</td>\n",
       "      <td>vasc</td>\n",
       "      <td>consensus</td>\n",
       "      <td>70</td>\n",
       "      <td>female</td>\n",
       "      <td>abdomen</td>\n",
       "      <td>False</td>\n",
       "      <td>HAM10000_images_part_1/vasc/ISIC_0029099.jpg</td>\n",
       "      <td>4</td>\n",
       "    </tr>\n",
       "    <tr>\n",
       "      <th>3498</th>\n",
       "      <td>HAM_0003829</td>\n",
       "      <td>ISIC_0026349</td>\n",
       "      <td>vasc</td>\n",
       "      <td>consensus</td>\n",
       "      <td>60</td>\n",
       "      <td>female</td>\n",
       "      <td>trunk</td>\n",
       "      <td>False</td>\n",
       "      <td>HAM10000_images_part_1/vasc/ISIC_0026349.jpg</td>\n",
       "      <td>4</td>\n",
       "    </tr>\n",
       "    <tr>\n",
       "      <th>3499</th>\n",
       "      <td>HAM_0004257</td>\n",
       "      <td>ISIC_0025452</td>\n",
       "      <td>vasc</td>\n",
       "      <td>consensus</td>\n",
       "      <td>55</td>\n",
       "      <td>female</td>\n",
       "      <td>abdomen</td>\n",
       "      <td>False</td>\n",
       "      <td>HAM10000_images_part_1/vasc/ISIC_0025452.jpg</td>\n",
       "      <td>4</td>\n",
       "    </tr>\n",
       "  </tbody>\n",
       "</table>\n",
       "<p>3500 rows × 10 columns</p>\n",
       "</div>"
      ],
      "text/plain": [
       "        lesion_id      image_id     dx    dx_type  age     sex  \\\n",
       "0     HAM_0001453  ISIC_0030991  akiec      histo   45    male   \n",
       "1     HAM_0001048  ISIC_0026525  akiec      histo   45    male   \n",
       "2     HAM_0005301  ISIC_0026362  akiec      histo   60  female   \n",
       "3     HAM_0002061  ISIC_0030408  akiec      histo   80    male   \n",
       "4     HAM_0005438  ISIC_0027708  akiec      histo   50  female   \n",
       "...           ...           ...    ...        ...  ...     ...   \n",
       "3495  HAM_0004549  ISIC_0031201   vasc  consensus   45    male   \n",
       "3496  HAM_0000286  ISIC_0029099   vasc  consensus   70  female   \n",
       "3497  HAM_0000286  ISIC_0029099   vasc  consensus   70  female   \n",
       "3498  HAM_0003829  ISIC_0026349   vasc  consensus   60  female   \n",
       "3499  HAM_0004257  ISIC_0025452   vasc  consensus   55  female   \n",
       "\n",
       "         localization  dup_les                                     image_path  \\\n",
       "0                face    False  HAM10000_images_part_2/akiec/ISIC_0030991.jpg   \n",
       "1                face    False  HAM10000_images_part_1/akiec/ISIC_0026525.jpg   \n",
       "2     upper extremity    False  HAM10000_images_part_1/akiec/ISIC_0026362.jpg   \n",
       "3               scalp    False  HAM10000_images_part_2/akiec/ISIC_0030408.jpg   \n",
       "4                face    False  HAM10000_images_part_1/akiec/ISIC_0027708.jpg   \n",
       "...               ...      ...                                            ...   \n",
       "3495            trunk    False   HAM10000_images_part_2/vasc/ISIC_0031201.jpg   \n",
       "3496          abdomen    False   HAM10000_images_part_1/vasc/ISIC_0029099.jpg   \n",
       "3497          abdomen    False   HAM10000_images_part_1/vasc/ISIC_0029099.jpg   \n",
       "3498            trunk    False   HAM10000_images_part_1/vasc/ISIC_0026349.jpg   \n",
       "3499          abdomen    False   HAM10000_images_part_1/vasc/ISIC_0025452.jpg   \n",
       "\n",
       "      dx_cat  \n",
       "0          6  \n",
       "1          6  \n",
       "2          6  \n",
       "3          6  \n",
       "4          6  \n",
       "...      ...  \n",
       "3495       4  \n",
       "3496       4  \n",
       "3497       4  \n",
       "3498       4  \n",
       "3499       4  \n",
       "\n",
       "[3500 rows x 10 columns]"
      ]
     },
     "execution_count": 7,
     "metadata": {},
     "output_type": "execute_result"
    }
   ],
   "source": [
    "selected_data = data.groupby('dx').apply(lambda x: x.sample(n=500)).reset_index(drop=True)\n",
    "selected_data"
   ]
  },
  {
   "cell_type": "markdown",
   "metadata": {},
   "source": [
    "## **Feature Extraction**\n",
    "\n",
    "In order to make sence to use the sklearn library with the classic classifiers we need to handle the high resolution of 30000 images. So we need a feature extraction method that is applicable in images. The HOG method is capturing the image shapes using gradients although in our dataset the color is a crutial parameter that we need to keep. PCA is another way to reduce the dataset components although we tried it and it is very slow and also consumes much memory. So we will try the Scale-Invariant Feature Transform method in order to detect keypoints of the images and use them for the classification. "
   ]
  },
  {
   "cell_type": "markdown",
   "metadata": {},
   "source": [
    "# PCA"
   ]
  },
  {
   "cell_type": "markdown",
   "metadata": {},
   "source": [
    "## Dimentionality reduction using PCA"
   ]
  },
  {
   "cell_type": "code",
   "execution_count": 8,
   "metadata": {},
   "outputs": [],
   "source": [
    "from sklearn.decomposition import PCA\n",
    "from concurrent.futures import ThreadPoolExecutor"
   ]
  },
  {
   "cell_type": "code",
   "execution_count": 9,
   "metadata": {},
   "outputs": [
    {
     "name": "stderr",
     "output_type": "stream",
     "text": [
      "  0%|          | 0/3500 [00:00<?, ?it/s]"
     ]
    },
    {
     "name": "stderr",
     "output_type": "stream",
     "text": [
      "100%|██████████| 3500/3500 [00:10<00:00, 326.19it/s]\n"
     ]
    }
   ],
   "source": [
    "flattened_images = []\n",
    "def process_image(img_path):\n",
    "    transformed_image = transormations_apply(img_path, img_h, img_w, norm_means, norm_std)\n",
    "    return transformed_image.flatten()\n",
    "\n",
    "with ThreadPoolExecutor(max_workers=16) as executor:\n",
    "    all_flatten_images = list(tqdm(executor.map(process_image, selected_data['image_path']), total=len(selected_data)))\n",
    "\n",
    "X = np.array(all_flatten_images)"
   ]
  },
  {
   "cell_type": "code",
   "execution_count": 10,
   "metadata": {},
   "outputs": [],
   "source": [
    "pca = PCA(n_components=200) # 200 is a random high number of components\n",
    "# Number of components explaining 95% of the variance: 135\n",
    "pca.fit(X)\n",
    "\n",
    "explained_variance = pca.explained_variance_ratio_"
   ]
  },
  {
   "cell_type": "code",
   "execution_count": 11,
   "metadata": {},
   "outputs": [
    {
     "data": {
      "image/png": "[encoded data removed]",
      "text/plain": [
       "<Figure size 640x480 with 1 Axes>"
      ]
     },
     "metadata": {},
     "output_type": "display_data"
    },
    {
     "name": "stdout",
     "output_type": "stream",
     "text": [
      "Number of components explaining 95% of the variance: 138\n"
     ]
    }
   ],
   "source": [
    "cumulative_variance = np.cumsum(explained_variance)\n",
    "plt.plot(cumulative_variance)\n",
    "plt.xlabel('Number of Components')\n",
    "plt.ylabel('Cumulative Explained Variance')\n",
    "plt.hlines(0.95, 0, 200, color='r', linestyle='--')\n",
    "plt.vlines(135, 0, 1, color='r', linestyle='--')\n",
    "plt.show()\n",
    "\n",
    "# Select the number of components that explain, say, 95% of the variance\n",
    "n_components_95 = np.where(cumulative_variance >= 0.95)[0][0] + 1\n",
    "print(f\"Number of components explaining 95% of the variance: {n_components_95}\")"
   ]
  },
  {
   "cell_type": "code",
   "execution_count": 12,
   "metadata": {},
   "outputs": [],
   "source": [
    "del(pca,X)"
   ]
  },
  {
   "cell_type": "markdown",
   "metadata": {},
   "source": [
    "This took approximately 20 minutes and filled up a big part of RAM memory with only 3500 images. Thus we decided to try another way."
   ]
  },
  {
   "cell_type": "code",
   "execution_count": 13,
   "metadata": {},
   "outputs": [
    {
     "name": "stderr",
     "output_type": "stream",
     "text": [
      "  0%|          | 0/2000 [00:00<?, ?it/s]"
     ]
    },
    {
     "name": "stderr",
     "output_type": "stream",
     "text": [
      "100%|██████████| 2000/2000 [00:06<00:00, 301.32it/s]\n",
      "100%|██████████| 2000/2000 [00:07<00:00, 275.53it/s]\n",
      "100%|██████████| 2000/2000 [00:07<00:00, 283.32it/s]\n",
      "100%|██████████| 2000/2000 [00:07<00:00, 268.01it/s]\n",
      "100%|██████████| 2000/2000 [00:06<00:00, 289.77it/s]\n",
      "100%|██████████| 2000/2000 [00:07<00:00, 282.83it/s]\n",
      "100%|██████████| 2000/2000 [00:07<00:00, 261.88it/s]\n",
      "100%|██████████| 2000/2000 [00:06<00:00, 313.26it/s]\n",
      "100%|██████████| 2000/2000 [00:05<00:00, 339.52it/s]\n",
      "100%|██████████| 2000/2000 [00:07<00:00, 282.60it/s]\n",
      "100%|██████████| 2000/2000 [00:07<00:00, 279.28it/s]\n",
      "100%|██████████| 2000/2000 [00:06<00:00, 291.47it/s]\n",
      "100%|██████████| 2000/2000 [00:06<00:00, 323.12it/s]\n",
      "100%|██████████| 2000/2000 [00:06<00:00, 290.49it/s]\n",
      "100%|██████████| 2000/2000 [00:06<00:00, 305.12it/s]\n",
      "100%|██████████| 905/905 [00:03<00:00, 285.01it/s]\n"
     ]
    }
   ],
   "source": [
    "def process_batch(image_paths, img_h, img_w, norm_means, norm_std):\n",
    "    with ThreadPoolExecutor(max_workers=16) as executor:\n",
    "        flattened_images = list(tqdm(executor.map(lambda img_path: transormations_apply(img_path, img_h, img_w, norm_means, norm_std).flatten(), image_paths), total=len(image_paths)))\n",
    "    return np.array(flattened_images)\n",
    "\n",
    "\n",
    "from sklearn.decomposition import IncrementalPCA\n",
    "\n",
    "n_components = 135\n",
    "ipca = IncrementalPCA(n_components=n_components)\n",
    "\n",
    "batch_size = 2000  \n",
    "\n",
    "for i in range(0, len(data['image_path']), batch_size):\n",
    "    batch_paths = data['image_path'][i:i + batch_size]\n",
    "    X_batch = process_batch(batch_paths, img_h, img_w, norm_means, norm_std)\n",
    "    ipca.partial_fit(X_batch)"
   ]
  },
  {
   "cell_type": "markdown",
   "metadata": {},
   "source": [
    "23 minutes"
   ]
  },
  {
   "cell_type": "code",
   "execution_count": 14,
   "metadata": {},
   "outputs": [
    {
     "data": {
      "text/plain": [
       "['ipca_model.joblib']"
      ]
     },
     "execution_count": 14,
     "metadata": {},
     "output_type": "execute_result"
    }
   ],
   "source": [
    "from joblib import dump\n",
    "\n",
    "dump(ipca, 'ipca_model.joblib')"
   ]
  },
  {
   "cell_type": "code",
   "execution_count": 15,
   "metadata": {},
   "outputs": [],
   "source": [
    "from joblib import load\n",
    "ipca = load('ipca_model.joblib')"
   ]
  },
  {
   "cell_type": "code",
   "execution_count": 18,
   "metadata": {},
   "outputs": [
    {
     "data": {
      "text/plain": [
       "(135, 150528)"
      ]
     },
     "execution_count": 18,
     "metadata": {},
     "output_type": "execute_result"
    }
   ],
   "source": [
    "ipca.components_.shape"
   ]
  },
  {
   "cell_type": "code",
   "execution_count": null,
   "metadata": {},
   "outputs": [],
   "source": []
  },
  {
   "cell_type": "code",
   "execution_count": null,
   "metadata": {},
   "outputs": [],
   "source": []
  },
  {
   "cell_type": "markdown",
   "metadata": {},
   "source": [
    "We stoped it here because it filled 32gb RAM memory"
   ]
  },
  {
   "cell_type": "markdown",
   "metadata": {},
   "source": [
    "# Scale-Invariant Feature Transform"
   ]
  },
  {
   "cell_type": "code",
   "execution_count": 7,
   "metadata": {},
   "outputs": [],
   "source": [
    "X_train, X_test, y_train, y_test = train_test_split(data['image_path'], data['dx_cat'], test_size=0.3)"
   ]
  },
  {
   "cell_type": "code",
   "execution_count": 8,
   "metadata": {},
   "outputs": [],
   "source": [
    "from sklearn.linear_model import SGDClassifier\n",
    "from sklearn.naive_bayes import MultinomialNB\n",
    "from sklearn.linear_model import Perceptron\n",
    "from sklearn.linear_model import PassiveAggressiveClassifier\n",
    "from sklearn.neural_network import MLPClassifier\n",
    "# clf = SGDClassifier()"
   ]
  },
  {
   "cell_type": "code",
   "execution_count": 9,
   "metadata": {},
   "outputs": [],
   "source": [
    "clf_SGD = SGDClassifier()\n",
    "# clf_MNB = MultinomialNB()\n",
    "clf_Perceptron = Perceptron()\n",
    "clf_PAC = PassiveAggressiveClassifier()\n",
    "clf_MLP = MLPClassifier()"
   ]
  },
  {
   "cell_type": "code",
   "execution_count": 10,
   "metadata": {},
   "outputs": [],
   "source": [
    "# def process_images_in_batches(X, y, batch_size):\n",
    "#     for i in range(0, len(X), batch_size):\n",
    "#         batch = X.iloc[i:i + batch_size]\n",
    "#         images = []\n",
    "#         labels = []\n",
    "\n",
    "#         for _, row in batch.iterrows():\n",
    "#             img_path = row['image_path']\n",
    "#             label = row.get('dx_cat', None)  \n",
    "\n",
    "#             transformed_image = transormations_apply(img_path, img_h, img_w, norm_means, norm_std)\n",
    "#             images.append(transformed_image)\n",
    "\n",
    "#             if label is not None:\n",
    "#                 labels.append(label)\n",
    "\n",
    "#         yield np.array(images), np.array(labels)"
   ]
  },
  {
   "cell_type": "code",
   "execution_count": 11,
   "metadata": {},
   "outputs": [],
   "source": [
    "def process_images_in_batches(X, y, batch_size):\n",
    "    \"\"\"\n",
    "    Process images in batches.\n",
    "\n",
    "    Parameters:\n",
    "    X (iterable): Iterable containing image paths.\n",
    "    y (iterable): Iterable containing labels corresponding to image paths.\n",
    "    batch_size (int): The number of images to process in each batch.\n",
    "\n",
    "    Yields:\n",
    "    tuple: A batch of transformed images and their corresponding labels as NumPy arrays.\n",
    "    \"\"\"\n",
    "    n_batches = len(X) // batch_size + (1 if len(X) % batch_size else 0)\n",
    "\n",
    "    for i in range(n_batches):\n",
    "        start_idx = i * batch_size\n",
    "        end_idx = start_idx + batch_size\n",
    "        batch_images = X[start_idx:end_idx]\n",
    "        batch_labels = y[start_idx:end_idx]\n",
    "\n",
    "        images = []\n",
    "        labels = []\n",
    "\n",
    "        for img_path, label in zip(batch_images, batch_labels):\n",
    "            transformed_image = transormations_apply(img_path, img_h, img_w, norm_means, norm_std)\n",
    "            images.append(transformed_image)\n",
    "            labels.append(label)\n",
    "\n",
    "        yield np.array(images), np.array(labels)"
   ]
  },
  {
   "cell_type": "code",
   "execution_count": 12,
   "metadata": {},
   "outputs": [
    {
     "name": "stderr",
     "output_type": "stream",
     "text": [
      "100%|██████████| 9/9 [05:42<00:00, 38.01s/it]\n"
     ]
    }
   ],
   "source": [
    "batch_size = 2500  \n",
    "total_batches = len(X_train) // batch_size + (0 if len(X_train) % batch_size == 0 else 1)\n",
    "\n",
    "for images_batch, labels_batch in tqdm(process_images_in_batches(X_train, y_train, batch_size), total=total_batches):\n",
    "    images_batch_reshaped = images_batch.reshape(images_batch.shape[0], -1)\n",
    "    \n",
    "    clf_SGD.partial_fit(images_batch_reshaped, labels_batch, classes=np.unique(y_train))\n",
    "    # clf_MNB.partial_fit(images_batch_reshaped, labels_batch, classes=np.unique(y_train))\n",
    "    clf_Perceptron.partial_fit(images_batch_reshaped, labels_batch, classes=np.unique(y_train))\n",
    "    clf_PAC.partial_fit(images_batch_reshaped, labels_batch, classes=np.unique(y_train))\n",
    "    clf_MLP.partial_fit(images_batch_reshaped, labels_batch, classes=np.unique(y_train))"
   ]
  },
  {
   "cell_type": "code",
   "execution_count": 13,
   "metadata": {},
   "outputs": [
    {
     "name": "stderr",
     "output_type": "stream",
     "text": [
      "100%|██████████| 4/4 [02:00<00:00, 30.12s/it]"
     ]
    },
    {
     "name": "stdout",
     "output_type": "stream",
     "text": [
      "SGD Classifier Accuracy: 0.34156600517687663\n",
      "Perceptron Classifier Accuracy: 0.3285159620362381\n",
      "Passive Aggressive Classifier Accuracy: 0.386755823986195\n",
      "MLP Classifier Accuracy: 0.15929680759275236\n",
      "\n",
      "Classification Report for SGD Classifier:\n",
      "               precision    recall  f1-score   support\n",
      "\n",
      "           0       0.17      0.47      0.25      1311\n",
      "           1       0.43      0.56      0.49      1359\n",
      "           2       0.57      0.25      0.35      1348\n",
      "           3       0.32      0.42      0.36      1281\n",
      "           4       0.73      0.40      0.52      1313\n",
      "           5       0.47      0.12      0.19      1340\n",
      "           6       0.42      0.17      0.24      1320\n",
      "\n",
      "    accuracy                           0.34      9272\n",
      "   macro avg       0.44      0.34      0.34      9272\n",
      "weighted avg       0.45      0.34      0.34      9272\n",
      "\n",
      "\n",
      "Classification Report for Perceptron Classifier:\n",
      "               precision    recall  f1-score   support\n",
      "\n",
      "           0       0.20      0.50      0.28      1311\n",
      "           1       0.61      0.24      0.34      1359\n",
      "           2       0.47      0.34      0.40      1348\n",
      "           3       0.41      0.42      0.41      1281\n",
      "           4       0.34      0.73      0.46      1313\n",
      "           5       0.57      0.04      0.08      1340\n",
      "           6       0.33      0.04      0.07      1320\n",
      "\n",
      "    accuracy                           0.33      9272\n",
      "   macro avg       0.42      0.33      0.29      9272\n",
      "weighted avg       0.42      0.33      0.29      9272\n",
      "\n",
      "\n",
      "Classification Report for Passive Aggressive Classifier:\n",
      "               precision    recall  f1-score   support\n",
      "\n",
      "           0       0.25      0.15      0.19      1311\n",
      "           1       0.53      0.61      0.57      1359\n",
      "           2       0.49      0.26      0.34      1348\n",
      "           3       0.40      0.26      0.32      1281\n",
      "           4       0.50      0.60      0.55      1313\n",
      "           5       0.52      0.16      0.25      1340\n",
      "           6       0.26      0.66      0.37      1320\n",
      "\n",
      "    accuracy                           0.39      9272\n",
      "   macro avg       0.42      0.39      0.37      9272\n",
      "weighted avg       0.42      0.39      0.37      9272\n",
      "\n",
      "\n",
      "Classification Report for MLP Classifier:\n",
      "               precision    recall  f1-score   support\n",
      "\n",
      "           0       0.37      0.01      0.03      1311\n",
      "           1       0.20      0.01      0.02      1359\n",
      "           2       0.33      0.15      0.21      1348\n",
      "           3       0.24      0.01      0.02      1281\n",
      "           4       0.14      0.90      0.24      1313\n",
      "           5       0.48      0.03      0.05      1340\n",
      "           6       0.18      0.01      0.02      1320\n",
      "\n",
      "    accuracy                           0.16      9272\n",
      "   macro avg       0.28      0.16      0.08      9272\n",
      "weighted avg       0.28      0.16      0.08      9272\n",
      "\n"
     ]
    },
    {
     "name": "stderr",
     "output_type": "stream",
     "text": [
      "\n"
     ]
    }
   ],
   "source": [
    "from sklearn.metrics import accuracy_score, classification_report\n",
    "from tqdm import tqdm\n",
    "\n",
    "# Assuming X_test and y_test are your test set features and labels\n",
    "\n",
    "batch_size = 2500\n",
    "total_batches = len(X_test) // batch_size + (0 if len(X_test) % batch_size == 0 else 1)\n",
    "\n",
    "# Initialize empty lists to collect the true labels and predicted labels for each classifier\n",
    "true_labels = []\n",
    "predictions_SGD = []\n",
    "# predictions_MNB = []  # Uncomment if using MultinomialNB or any other classifier\n",
    "predictions_Perceptron = []\n",
    "predictions_PAC = []\n",
    "predictions_MLP = []\n",
    "\n",
    "for images_batch, labels_batch in tqdm(process_images_in_batches(X_test, y_test, batch_size), total=total_batches):\n",
    "    images_batch_reshaped = images_batch.reshape(images_batch.shape[0], -1)\n",
    "    \n",
    "    # Store true labels\n",
    "    true_labels.extend(labels_batch)\n",
    "    \n",
    "    # Predict with each classifier and store predictions\n",
    "    predictions_SGD.extend(clf_SGD.predict(images_batch_reshaped))\n",
    "    # predictions_MNB.extend(clf_MNB.predict(images_batch_reshaped))  # Uncomment if applicable\n",
    "    predictions_Perceptron.extend(clf_Perceptron.predict(images_batch_reshaped))\n",
    "    predictions_PAC.extend(clf_PAC.predict(images_batch_reshaped))\n",
    "    predictions_MLP.extend(clf_MLP.predict(images_batch_reshaped))\n",
    "\n",
    "# Now, calculate and print the accuracy for each classifier\n",
    "print(\"SGD Classifier Accuracy:\", accuracy_score(true_labels, predictions_SGD))\n",
    "# print(\"MultinomialNB Classifier Accuracy:\", accuracy_score(true_labels, predictions_MNB))  # Uncomment if applicable\n",
    "print(\"Perceptron Classifier Accuracy:\", accuracy_score(true_labels, predictions_Perceptron))\n",
    "print(\"Passive Aggressive Classifier Accuracy:\", accuracy_score(true_labels, predictions_PAC))\n",
    "print(\"MLP Classifier Accuracy:\", accuracy_score(true_labels, predictions_MLP))\n",
    "\n",
    "# Optionally, print a classification report for more detailed performance analysis\n",
    "print(\"\\nClassification Report for SGD Classifier:\\n\", classification_report(true_labels, predictions_SGD))\n",
    "# print(\"\\nClassification Report for MultinomialNB Classifier:\\n\", classification_report(true_labels, predictions_MNB))  # Uncomment if applicable\n",
    "print(\"\\nClassification Report for Perceptron Classifier:\\n\", classification_report(true_labels, predictions_Perceptron))\n",
    "print(\"\\nClassification Report for Passive Aggressive Classifier:\\n\", classification_report(true_labels, predictions_PAC))\n",
    "print(\"\\nClassification Report for MLP Classifier:\\n\", classification_report(true_labels, predictions_MLP))\n"
   ]
  },
  {
   "cell_type": "code",
   "execution_count": null,
   "metadata": {},
   "outputs": [],
   "source": []
  }
 ],
 "metadata": {
  "kernelspec": {
   "display_name": "base",
   "language": "python",
   "name": "python3"
  },
  "language_info": {
   "codemirror_mode": {
    "name": "ipython",
    "version": 3
   },
   "file_extension": ".py",
   "mimetype": "text/x-python",
   "name": "python",
   "nbconvert_exporter": "python",
   "pygments_lexer": "ipython3",
   "version": "3.11.5"
  }
 },
 "nbformat": 4,
 "nbformat_minor": 2
}
