{
 "cells": [
  {
   "cell_type": "code",
   "execution_count": 1,
   "metadata": {},
   "outputs": [],
   "source": [
    "import os\n",
    "import glob\n",
    "import numpy as np\n",
    "import pandas as pd\n",
    "import seaborn as sns\n",
    "import matplotlib.pyplot as plt\n",
    "import random\n",
    "from tqdm import tqdm\n",
    "\n",
    "from skimage import io, transform\n",
    "from sklearn.model_selection import train_test_split\n",
    "from sklearn.metrics import classification_report, accuracy_score\n",
    "from sklearn.preprocessing import LabelEncoder\n",
    "from sklearn.metrics import confusion_matrix\n",
    "\n",
    " \n",
    "import torch\n",
    "import torch.nn as nn\n",
    "import torch.optim as optim\n",
    "import torch.nn.functional as F\n",
    "from torch.utils.data import Dataset, DataLoader\n",
    "from torchsummary import summary\n",
    "import torch.optim as optim\n",
    "from torch.autograd import Variable\n",
    "from PIL import Image\n",
    "import torchvision\n",
    "from torchvision import models,transforms\n",
    "\n",
    "from Dataloaders.HAM10000Dataset import HAM10000Dataset\n",
    "from functions import normalization, Model_functions\n",
    "\n",
    "import time\n",
    "\n",
    "import random\n",
    "from PIL import Image\n",
    "import cv2\n",
    "import gc"
   ]
  },
  {
   "cell_type": "markdown",
   "metadata": {},
   "source": [
    "**Load and normalize the data**"
   ]
  },
  {
   "cell_type": "code",
   "execution_count": 2,
   "metadata": {},
   "outputs": [],
   "source": [
    "data = pd.read_csv('data_enum.csv')\n",
    "data = data.sample(frac=1)\n",
    "img_h, img_w = 224, 224"
   ]
  },
  {
   "cell_type": "code",
   "execution_count": 3,
   "metadata": {},
   "outputs": [],
   "source": [
    "# norm_means, norm_std = compute_img_mean_std(data['image_path'],img_h,img_w)\n",
    "\n",
    "norm_means = [0.77148203, 0.55764165, 0.58345652]\n",
    "norm_std = [0.12655577, 0.14245141, 0.15189891]"
   ]
  },
  {
   "cell_type": "code",
   "execution_count": 4,
   "metadata": {},
   "outputs": [],
   "source": [
    "# define the transformation of the train images.\n",
    "transform = transforms.Compose([transforms.Resize((img_h,img_w)),transforms.RandomHorizontalFlip(),\n",
    "                                      transforms.RandomVerticalFlip(),transforms.RandomRotation(20),\n",
    "                                      transforms.ColorJitter(brightness=0.1, contrast=0.1, hue=0.1),\n",
    "                                        transforms.ToTensor(), transforms.Normalize(norm_means, norm_std)])\n",
    "# define the transformation of the val and test images.\n",
    "val_test_transform = transforms.Compose([transforms.Resize((img_h,img_w)), transforms.ToTensor(),\n",
    "                                        transforms.Normalize(norm_means, norm_std)])"
   ]
  },
  {
   "cell_type": "code",
   "execution_count": 5,
   "metadata": {},
   "outputs": [],
   "source": [
    "train_val_data, test_data = train_test_split(data, test_size=0.2, random_state=42)\n",
    "\n",
    "train_data, val_data = train_test_split(train_val_data, test_size=0.5, random_state=42)\n",
    "\n",
    "train_dataset = HAM10000Dataset(train_data, transform=transform)\n",
    "val_dataset = HAM10000Dataset(val_data, transform=transform)\n",
    "test_dataset = HAM10000Dataset(test_data, transform=transform)"
   ]
  },
  {
   "cell_type": "code",
   "execution_count": 6,
   "metadata": {},
   "outputs": [
    {
     "name": "stdout",
     "output_type": "stream",
     "text": [
      "Data len Train: 12362 Val: 12362 Test: 6181\n"
     ]
    }
   ],
   "source": [
    "batch_size = 32\n",
    "num_workers = 4\n",
    "\n",
    "train_loader = DataLoader(train_dataset, batch_size=batch_size, shuffle=True, num_workers=num_workers)\n",
    "val_loader = DataLoader(val_dataset, batch_size=batch_size, num_workers=num_workers)\n",
    "test_loader = DataLoader(test_dataset, batch_size=batch_size, num_workers=num_workers)\n",
    "\n",
    "print('Data len Train:', len(train_dataset), 'Val:', len(val_dataset), 'Test:', len(test_dataset))"
   ]
  },
  {
   "cell_type": "code",
   "execution_count": 7,
   "metadata": {},
   "outputs": [
    {
     "name": "stdout",
     "output_type": "stream",
     "text": [
      "Using device: cuda\n"
     ]
    }
   ],
   "source": [
    "device = torch.device(\"cuda\" if torch.cuda.is_available() else \"cpu\")\n",
    "print(f'Using device: {device}')"
   ]
  },
  {
   "cell_type": "markdown",
   "metadata": {},
   "source": [
    "# **Resnet**"
   ]
  },
  {
   "cell_type": "code",
   "execution_count": 8,
   "metadata": {},
   "outputs": [
    {
     "name": "stderr",
     "output_type": "stream",
     "text": [
      "/home/spyros/miniconda3/lib/python3.11/site-packages/torchvision/models/_utils.py:208: UserWarning: The parameter 'pretrained' is deprecated since 0.13 and may be removed in the future, please use 'weights' instead.\n",
      "  warnings.warn(\n",
      "/home/spyros/miniconda3/lib/python3.11/site-packages/torchvision/models/_utils.py:223: UserWarning: Arguments other than a weight enum or `None` for 'weights' are deprecated since 0.13 and may be removed in the future. The current behavior is equivalent to passing `weights=ResNet50_Weights.IMAGENET1K_V1`. You can also use `weights=ResNet50_Weights.DEFAULT` to get the most up-to-date weights.\n",
      "  warnings.warn(msg)\n"
     ]
    },
    {
     "data": {
      "text/plain": [
       "ResNet(\n",
       "  (conv1): Conv2d(3, 64, kernel_size=(7, 7), stride=(2, 2), padding=(3, 3), bias=False)\n",
       "  (bn1): BatchNorm2d(64, eps=1e-05, momentum=0.1, affine=True, track_running_stats=True)\n",
       "  (relu): ReLU(inplace=True)\n",
       "  (maxpool): MaxPool2d(kernel_size=3, stride=2, padding=1, dilation=1, ceil_mode=False)\n",
       "  (layer1): Sequential(\n",
       "    (0): Bottleneck(\n",
       "      (conv1): Conv2d(64, 64, kernel_size=(1, 1), stride=(1, 1), bias=False)\n",
       "      (bn1): BatchNorm2d(64, eps=1e-05, momentum=0.1, affine=True, track_running_stats=True)\n",
       "      (conv2): Conv2d(64, 64, kernel_size=(3, 3), stride=(1, 1), padding=(1, 1), bias=False)\n",
       "      (bn2): BatchNorm2d(64, eps=1e-05, momentum=0.1, affine=True, track_running_stats=True)\n",
       "      (conv3): Conv2d(64, 256, kernel_size=(1, 1), stride=(1, 1), bias=False)\n",
       "      (bn3): BatchNorm2d(256, eps=1e-05, momentum=0.1, affine=True, track_running_stats=True)\n",
       "      (relu): ReLU(inplace=True)\n",
       "      (downsample): Sequential(\n",
       "        (0): Conv2d(64, 256, kernel_size=(1, 1), stride=(1, 1), bias=False)\n",
       "        (1): BatchNorm2d(256, eps=1e-05, momentum=0.1, affine=True, track_running_stats=True)\n",
       "      )\n",
       "    )\n",
       "    (1): Bottleneck(\n",
       "      (conv1): Conv2d(256, 64, kernel_size=(1, 1), stride=(1, 1), bias=False)\n",
       "      (bn1): BatchNorm2d(64, eps=1e-05, momentum=0.1, affine=True, track_running_stats=True)\n",
       "      (conv2): Conv2d(64, 64, kernel_size=(3, 3), stride=(1, 1), padding=(1, 1), bias=False)\n",
       "      (bn2): BatchNorm2d(64, eps=1e-05, momentum=0.1, affine=True, track_running_stats=True)\n",
       "      (conv3): Conv2d(64, 256, kernel_size=(1, 1), stride=(1, 1), bias=False)\n",
       "      (bn3): BatchNorm2d(256, eps=1e-05, momentum=0.1, affine=True, track_running_stats=True)\n",
       "      (relu): ReLU(inplace=True)\n",
       "    )\n",
       "    (2): Bottleneck(\n",
       "      (conv1): Conv2d(256, 64, kernel_size=(1, 1), stride=(1, 1), bias=False)\n",
       "      (bn1): BatchNorm2d(64, eps=1e-05, momentum=0.1, affine=True, track_running_stats=True)\n",
       "      (conv2): Conv2d(64, 64, kernel_size=(3, 3), stride=(1, 1), padding=(1, 1), bias=False)\n",
       "      (bn2): BatchNorm2d(64, eps=1e-05, momentum=0.1, affine=True, track_running_stats=True)\n",
       "      (conv3): Conv2d(64, 256, kernel_size=(1, 1), stride=(1, 1), bias=False)\n",
       "      (bn3): BatchNorm2d(256, eps=1e-05, momentum=0.1, affine=True, track_running_stats=True)\n",
       "      (relu): ReLU(inplace=True)\n",
       "    )\n",
       "  )\n",
       "  (layer2): Sequential(\n",
       "    (0): Bottleneck(\n",
       "      (conv1): Conv2d(256, 128, kernel_size=(1, 1), stride=(1, 1), bias=False)\n",
       "      (bn1): BatchNorm2d(128, eps=1e-05, momentum=0.1, affine=True, track_running_stats=True)\n",
       "      (conv2): Conv2d(128, 128, kernel_size=(3, 3), stride=(2, 2), padding=(1, 1), bias=False)\n",
       "      (bn2): BatchNorm2d(128, eps=1e-05, momentum=0.1, affine=True, track_running_stats=True)\n",
       "      (conv3): Conv2d(128, 512, kernel_size=(1, 1), stride=(1, 1), bias=False)\n",
       "      (bn3): BatchNorm2d(512, eps=1e-05, momentum=0.1, affine=True, track_running_stats=True)\n",
       "      (relu): ReLU(inplace=True)\n",
       "      (downsample): Sequential(\n",
       "        (0): Conv2d(256, 512, kernel_size=(1, 1), stride=(2, 2), bias=False)\n",
       "        (1): BatchNorm2d(512, eps=1e-05, momentum=0.1, affine=True, track_running_stats=True)\n",
       "      )\n",
       "    )\n",
       "    (1): Bottleneck(\n",
       "      (conv1): Conv2d(512, 128, kernel_size=(1, 1), stride=(1, 1), bias=False)\n",
       "      (bn1): BatchNorm2d(128, eps=1e-05, momentum=0.1, affine=True, track_running_stats=True)\n",
       "      (conv2): Conv2d(128, 128, kernel_size=(3, 3), stride=(1, 1), padding=(1, 1), bias=False)\n",
       "      (bn2): BatchNorm2d(128, eps=1e-05, momentum=0.1, affine=True, track_running_stats=True)\n",
       "      (conv3): Conv2d(128, 512, kernel_size=(1, 1), stride=(1, 1), bias=False)\n",
       "      (bn3): BatchNorm2d(512, eps=1e-05, momentum=0.1, affine=True, track_running_stats=True)\n",
       "      (relu): ReLU(inplace=True)\n",
       "    )\n",
       "    (2): Bottleneck(\n",
       "      (conv1): Conv2d(512, 128, kernel_size=(1, 1), stride=(1, 1), bias=False)\n",
       "      (bn1): BatchNorm2d(128, eps=1e-05, momentum=0.1, affine=True, track_running_stats=True)\n",
       "      (conv2): Conv2d(128, 128, kernel_size=(3, 3), stride=(1, 1), padding=(1, 1), bias=False)\n",
       "      (bn2): BatchNorm2d(128, eps=1e-05, momentum=0.1, affine=True, track_running_stats=True)\n",
       "      (conv3): Conv2d(128, 512, kernel_size=(1, 1), stride=(1, 1), bias=False)\n",
       "      (bn3): BatchNorm2d(512, eps=1e-05, momentum=0.1, affine=True, track_running_stats=True)\n",
       "      (relu): ReLU(inplace=True)\n",
       "    )\n",
       "    (3): Bottleneck(\n",
       "      (conv1): Conv2d(512, 128, kernel_size=(1, 1), stride=(1, 1), bias=False)\n",
       "      (bn1): BatchNorm2d(128, eps=1e-05, momentum=0.1, affine=True, track_running_stats=True)\n",
       "      (conv2): Conv2d(128, 128, kernel_size=(3, 3), stride=(1, 1), padding=(1, 1), bias=False)\n",
       "      (bn2): BatchNorm2d(128, eps=1e-05, momentum=0.1, affine=True, track_running_stats=True)\n",
       "      (conv3): Conv2d(128, 512, kernel_size=(1, 1), stride=(1, 1), bias=False)\n",
       "      (bn3): BatchNorm2d(512, eps=1e-05, momentum=0.1, affine=True, track_running_stats=True)\n",
       "      (relu): ReLU(inplace=True)\n",
       "    )\n",
       "  )\n",
       "  (layer3): Sequential(\n",
       "    (0): Bottleneck(\n",
       "      (conv1): Conv2d(512, 256, kernel_size=(1, 1), stride=(1, 1), bias=False)\n",
       "      (bn1): BatchNorm2d(256, eps=1e-05, momentum=0.1, affine=True, track_running_stats=True)\n",
       "      (conv2): Conv2d(256, 256, kernel_size=(3, 3), stride=(2, 2), padding=(1, 1), bias=False)\n",
       "      (bn2): BatchNorm2d(256, eps=1e-05, momentum=0.1, affine=True, track_running_stats=True)\n",
       "      (conv3): Conv2d(256, 1024, kernel_size=(1, 1), stride=(1, 1), bias=False)\n",
       "      (bn3): BatchNorm2d(1024, eps=1e-05, momentum=0.1, affine=True, track_running_stats=True)\n",
       "      (relu): ReLU(inplace=True)\n",
       "      (downsample): Sequential(\n",
       "        (0): Conv2d(512, 1024, kernel_size=(1, 1), stride=(2, 2), bias=False)\n",
       "        (1): BatchNorm2d(1024, eps=1e-05, momentum=0.1, affine=True, track_running_stats=True)\n",
       "      )\n",
       "    )\n",
       "    (1): Bottleneck(\n",
       "      (conv1): Conv2d(1024, 256, kernel_size=(1, 1), stride=(1, 1), bias=False)\n",
       "      (bn1): BatchNorm2d(256, eps=1e-05, momentum=0.1, affine=True, track_running_stats=True)\n",
       "      (conv2): Conv2d(256, 256, kernel_size=(3, 3), stride=(1, 1), padding=(1, 1), bias=False)\n",
       "      (bn2): BatchNorm2d(256, eps=1e-05, momentum=0.1, affine=True, track_running_stats=True)\n",
       "      (conv3): Conv2d(256, 1024, kernel_size=(1, 1), stride=(1, 1), bias=False)\n",
       "      (bn3): BatchNorm2d(1024, eps=1e-05, momentum=0.1, affine=True, track_running_stats=True)\n",
       "      (relu): ReLU(inplace=True)\n",
       "    )\n",
       "    (2): Bottleneck(\n",
       "      (conv1): Conv2d(1024, 256, kernel_size=(1, 1), stride=(1, 1), bias=False)\n",
       "      (bn1): BatchNorm2d(256, eps=1e-05, momentum=0.1, affine=True, track_running_stats=True)\n",
       "      (conv2): Conv2d(256, 256, kernel_size=(3, 3), stride=(1, 1), padding=(1, 1), bias=False)\n",
       "      (bn2): BatchNorm2d(256, eps=1e-05, momentum=0.1, affine=True, track_running_stats=True)\n",
       "      (conv3): Conv2d(256, 1024, kernel_size=(1, 1), stride=(1, 1), bias=False)\n",
       "      (bn3): BatchNorm2d(1024, eps=1e-05, momentum=0.1, affine=True, track_running_stats=True)\n",
       "      (relu): ReLU(inplace=True)\n",
       "    )\n",
       "    (3): Bottleneck(\n",
       "      (conv1): Conv2d(1024, 256, kernel_size=(1, 1), stride=(1, 1), bias=False)\n",
       "      (bn1): BatchNorm2d(256, eps=1e-05, momentum=0.1, affine=True, track_running_stats=True)\n",
       "      (conv2): Conv2d(256, 256, kernel_size=(3, 3), stride=(1, 1), padding=(1, 1), bias=False)\n",
       "      (bn2): BatchNorm2d(256, eps=1e-05, momentum=0.1, affine=True, track_running_stats=True)\n",
       "      (conv3): Conv2d(256, 1024, kernel_size=(1, 1), stride=(1, 1), bias=False)\n",
       "      (bn3): BatchNorm2d(1024, eps=1e-05, momentum=0.1, affine=True, track_running_stats=True)\n",
       "      (relu): ReLU(inplace=True)\n",
       "    )\n",
       "    (4): Bottleneck(\n",
       "      (conv1): Conv2d(1024, 256, kernel_size=(1, 1), stride=(1, 1), bias=False)\n",
       "      (bn1): BatchNorm2d(256, eps=1e-05, momentum=0.1, affine=True, track_running_stats=True)\n",
       "      (conv2): Conv2d(256, 256, kernel_size=(3, 3), stride=(1, 1), padding=(1, 1), bias=False)\n",
       "      (bn2): BatchNorm2d(256, eps=1e-05, momentum=0.1, affine=True, track_running_stats=True)\n",
       "      (conv3): Conv2d(256, 1024, kernel_size=(1, 1), stride=(1, 1), bias=False)\n",
       "      (bn3): BatchNorm2d(1024, eps=1e-05, momentum=0.1, affine=True, track_running_stats=True)\n",
       "      (relu): ReLU(inplace=True)\n",
       "    )\n",
       "    (5): Bottleneck(\n",
       "      (conv1): Conv2d(1024, 256, kernel_size=(1, 1), stride=(1, 1), bias=False)\n",
       "      (bn1): BatchNorm2d(256, eps=1e-05, momentum=0.1, affine=True, track_running_stats=True)\n",
       "      (conv2): Conv2d(256, 256, kernel_size=(3, 3), stride=(1, 1), padding=(1, 1), bias=False)\n",
       "      (bn2): BatchNorm2d(256, eps=1e-05, momentum=0.1, affine=True, track_running_stats=True)\n",
       "      (conv3): Conv2d(256, 1024, kernel_size=(1, 1), stride=(1, 1), bias=False)\n",
       "      (bn3): BatchNorm2d(1024, eps=1e-05, momentum=0.1, affine=True, track_running_stats=True)\n",
       "      (relu): ReLU(inplace=True)\n",
       "    )\n",
       "  )\n",
       "  (layer4): Sequential(\n",
       "    (0): Bottleneck(\n",
       "      (conv1): Conv2d(1024, 512, kernel_size=(1, 1), stride=(1, 1), bias=False)\n",
       "      (bn1): BatchNorm2d(512, eps=1e-05, momentum=0.1, affine=True, track_running_stats=True)\n",
       "      (conv2): Conv2d(512, 512, kernel_size=(3, 3), stride=(2, 2), padding=(1, 1), bias=False)\n",
       "      (bn2): BatchNorm2d(512, eps=1e-05, momentum=0.1, affine=True, track_running_stats=True)\n",
       "      (conv3): Conv2d(512, 2048, kernel_size=(1, 1), stride=(1, 1), bias=False)\n",
       "      (bn3): BatchNorm2d(2048, eps=1e-05, momentum=0.1, affine=True, track_running_stats=True)\n",
       "      (relu): ReLU(inplace=True)\n",
       "      (downsample): Sequential(\n",
       "        (0): Conv2d(1024, 2048, kernel_size=(1, 1), stride=(2, 2), bias=False)\n",
       "        (1): BatchNorm2d(2048, eps=1e-05, momentum=0.1, affine=True, track_running_stats=True)\n",
       "      )\n",
       "    )\n",
       "    (1): Bottleneck(\n",
       "      (conv1): Conv2d(2048, 512, kernel_size=(1, 1), stride=(1, 1), bias=False)\n",
       "      (bn1): BatchNorm2d(512, eps=1e-05, momentum=0.1, affine=True, track_running_stats=True)\n",
       "      (conv2): Conv2d(512, 512, kernel_size=(3, 3), stride=(1, 1), padding=(1, 1), bias=False)\n",
       "      (bn2): BatchNorm2d(512, eps=1e-05, momentum=0.1, affine=True, track_running_stats=True)\n",
       "      (conv3): Conv2d(512, 2048, kernel_size=(1, 1), stride=(1, 1), bias=False)\n",
       "      (bn3): BatchNorm2d(2048, eps=1e-05, momentum=0.1, affine=True, track_running_stats=True)\n",
       "      (relu): ReLU(inplace=True)\n",
       "    )\n",
       "    (2): Bottleneck(\n",
       "      (conv1): Conv2d(2048, 512, kernel_size=(1, 1), stride=(1, 1), bias=False)\n",
       "      (bn1): BatchNorm2d(512, eps=1e-05, momentum=0.1, affine=True, track_running_stats=True)\n",
       "      (conv2): Conv2d(512, 512, kernel_size=(3, 3), stride=(1, 1), padding=(1, 1), bias=False)\n",
       "      (bn2): BatchNorm2d(512, eps=1e-05, momentum=0.1, affine=True, track_running_stats=True)\n",
       "      (conv3): Conv2d(512, 2048, kernel_size=(1, 1), stride=(1, 1), bias=False)\n",
       "      (bn3): BatchNorm2d(2048, eps=1e-05, momentum=0.1, affine=True, track_running_stats=True)\n",
       "      (relu): ReLU(inplace=True)\n",
       "    )\n",
       "  )\n",
       "  (avgpool): AdaptiveAvgPool2d(output_size=(1, 1))\n",
       "  (fc): Linear(in_features=2048, out_features=7, bias=True)\n",
       ")"
      ]
     },
     "execution_count": 8,
     "metadata": {},
     "output_type": "execute_result"
    }
   ],
   "source": [
    "model_temp = 'resnet_pret'\n",
    "feature_extract = False\n",
    "num_classes = 7\n",
    "model_res = Model_functions.initialise_model(model_temp, num_classes, feature_extract, use_pretrained=True)\n",
    "model_res.to(device)"
   ]
  },
  {
   "cell_type": "code",
   "execution_count": 9,
   "metadata": {},
   "outputs": [
    {
     "name": "stdout",
     "output_type": "stream",
     "text": [
      "==========================================================================================\n",
      "Layer (type:depth-idx)                   Output Shape              Param #\n",
      "==========================================================================================\n",
      "├─Conv2d: 1-1                            [-1, 64, 112, 112]        9,408\n",
      "├─BatchNorm2d: 1-2                       [-1, 64, 112, 112]        128\n",
      "├─ReLU: 1-3                              [-1, 64, 112, 112]        --\n",
      "├─MaxPool2d: 1-4                         [-1, 64, 56, 56]          --\n",
      "├─Sequential: 1-5                        [-1, 256, 56, 56]         --\n",
      "|    └─Bottleneck: 2-1                   [-1, 256, 56, 56]         --\n",
      "|    |    └─Conv2d: 3-1                  [-1, 64, 56, 56]          4,096\n",
      "|    |    └─BatchNorm2d: 3-2             [-1, 64, 56, 56]          128\n",
      "|    |    └─ReLU: 3-3                    [-1, 64, 56, 56]          --\n",
      "|    |    └─Conv2d: 3-4                  [-1, 64, 56, 56]          36,864\n",
      "|    |    └─BatchNorm2d: 3-5             [-1, 64, 56, 56]          128\n",
      "|    |    └─ReLU: 3-6                    [-1, 64, 56, 56]          --\n",
      "|    |    └─Conv2d: 3-7                  [-1, 256, 56, 56]         16,384\n",
      "|    |    └─BatchNorm2d: 3-8             [-1, 256, 56, 56]         512\n",
      "|    |    └─Sequential: 3-9              [-1, 256, 56, 56]         16,896\n",
      "|    |    └─ReLU: 3-10                   [-1, 256, 56, 56]         --\n",
      "|    └─Bottleneck: 2-2                   [-1, 256, 56, 56]         --\n",
      "|    |    └─Conv2d: 3-11                 [-1, 64, 56, 56]          16,384\n",
      "|    |    └─BatchNorm2d: 3-12            [-1, 64, 56, 56]          128\n",
      "|    |    └─ReLU: 3-13                   [-1, 64, 56, 56]          --\n",
      "|    |    └─Conv2d: 3-14                 [-1, 64, 56, 56]          36,864\n",
      "|    |    └─BatchNorm2d: 3-15            [-1, 64, 56, 56]          128\n",
      "|    |    └─ReLU: 3-16                   [-1, 64, 56, 56]          --\n",
      "|    |    └─Conv2d: 3-17                 [-1, 256, 56, 56]         16,384\n",
      "|    |    └─BatchNorm2d: 3-18            [-1, 256, 56, 56]         512\n",
      "|    |    └─ReLU: 3-19                   [-1, 256, 56, 56]         --\n",
      "|    └─Bottleneck: 2-3                   [-1, 256, 56, 56]         --\n",
      "|    |    └─Conv2d: 3-20                 [-1, 64, 56, 56]          16,384\n",
      "|    |    └─BatchNorm2d: 3-21            [-1, 64, 56, 56]          128\n",
      "|    |    └─ReLU: 3-22                   [-1, 64, 56, 56]          --\n",
      "|    |    └─Conv2d: 3-23                 [-1, 64, 56, 56]          36,864\n",
      "|    |    └─BatchNorm2d: 3-24            [-1, 64, 56, 56]          128\n",
      "|    |    └─ReLU: 3-25                   [-1, 64, 56, 56]          --\n",
      "|    |    └─Conv2d: 3-26                 [-1, 256, 56, 56]         16,384\n",
      "|    |    └─BatchNorm2d: 3-27            [-1, 256, 56, 56]         512\n",
      "|    |    └─ReLU: 3-28                   [-1, 256, 56, 56]         --\n",
      "├─Sequential: 1-6                        [-1, 512, 28, 28]         --\n",
      "|    └─Bottleneck: 2-4                   [-1, 512, 28, 28]         --\n",
      "|    |    └─Conv2d: 3-29                 [-1, 128, 56, 56]         32,768\n",
      "|    |    └─BatchNorm2d: 3-30            [-1, 128, 56, 56]         256\n",
      "|    |    └─ReLU: 3-31                   [-1, 128, 56, 56]         --\n",
      "|    |    └─Conv2d: 3-32                 [-1, 128, 28, 28]         147,456\n",
      "|    |    └─BatchNorm2d: 3-33            [-1, 128, 28, 28]         256\n",
      "|    |    └─ReLU: 3-34                   [-1, 128, 28, 28]         --\n",
      "|    |    └─Conv2d: 3-35                 [-1, 512, 28, 28]         65,536\n",
      "|    |    └─BatchNorm2d: 3-36            [-1, 512, 28, 28]         1,024\n",
      "|    |    └─Sequential: 3-37             [-1, 512, 28, 28]         132,096\n",
      "|    |    └─ReLU: 3-38                   [-1, 512, 28, 28]         --\n",
      "|    └─Bottleneck: 2-5                   [-1, 512, 28, 28]         --\n",
      "|    |    └─Conv2d: 3-39                 [-1, 128, 28, 28]         65,536\n",
      "|    |    └─BatchNorm2d: 3-40            [-1, 128, 28, 28]         256\n",
      "|    |    └─ReLU: 3-41                   [-1, 128, 28, 28]         --\n",
      "|    |    └─Conv2d: 3-42                 [-1, 128, 28, 28]         147,456\n",
      "|    |    └─BatchNorm2d: 3-43            [-1, 128, 28, 28]         256\n",
      "|    |    └─ReLU: 3-44                   [-1, 128, 28, 28]         --\n",
      "|    |    └─Conv2d: 3-45                 [-1, 512, 28, 28]         65,536\n",
      "|    |    └─BatchNorm2d: 3-46            [-1, 512, 28, 28]         1,024\n",
      "|    |    └─ReLU: 3-47                   [-1, 512, 28, 28]         --\n",
      "|    └─Bottleneck: 2-6                   [-1, 512, 28, 28]         --\n",
      "|    |    └─Conv2d: 3-48                 [-1, 128, 28, 28]         65,536\n",
      "|    |    └─BatchNorm2d: 3-49            [-1, 128, 28, 28]         256\n",
      "|    |    └─ReLU: 3-50                   [-1, 128, 28, 28]         --\n",
      "|    |    └─Conv2d: 3-51                 [-1, 128, 28, 28]         147,456\n",
      "|    |    └─BatchNorm2d: 3-52            [-1, 128, 28, 28]         256\n",
      "|    |    └─ReLU: 3-53                   [-1, 128, 28, 28]         --\n",
      "|    |    └─Conv2d: 3-54                 [-1, 512, 28, 28]         65,536\n",
      "|    |    └─BatchNorm2d: 3-55            [-1, 512, 28, 28]         1,024\n",
      "|    |    └─ReLU: 3-56                   [-1, 512, 28, 28]         --\n",
      "|    └─Bottleneck: 2-7                   [-1, 512, 28, 28]         --\n",
      "|    |    └─Conv2d: 3-57                 [-1, 128, 28, 28]         65,536\n",
      "|    |    └─BatchNorm2d: 3-58            [-1, 128, 28, 28]         256\n",
      "|    |    └─ReLU: 3-59                   [-1, 128, 28, 28]         --\n",
      "|    |    └─Conv2d: 3-60                 [-1, 128, 28, 28]         147,456\n",
      "|    |    └─BatchNorm2d: 3-61            [-1, 128, 28, 28]         256\n",
      "|    |    └─ReLU: 3-62                   [-1, 128, 28, 28]         --\n",
      "|    |    └─Conv2d: 3-63                 [-1, 512, 28, 28]         65,536\n",
      "|    |    └─BatchNorm2d: 3-64            [-1, 512, 28, 28]         1,024\n",
      "|    |    └─ReLU: 3-65                   [-1, 512, 28, 28]         --\n",
      "├─Sequential: 1-7                        [-1, 1024, 14, 14]        --\n",
      "|    └─Bottleneck: 2-8                   [-1, 1024, 14, 14]        --\n",
      "|    |    └─Conv2d: 3-66                 [-1, 256, 28, 28]         131,072\n",
      "|    |    └─BatchNorm2d: 3-67            [-1, 256, 28, 28]         512\n",
      "|    |    └─ReLU: 3-68                   [-1, 256, 28, 28]         --\n",
      "|    |    └─Conv2d: 3-69                 [-1, 256, 14, 14]         589,824\n",
      "|    |    └─BatchNorm2d: 3-70            [-1, 256, 14, 14]         512\n",
      "|    |    └─ReLU: 3-71                   [-1, 256, 14, 14]         --\n",
      "|    |    └─Conv2d: 3-72                 [-1, 1024, 14, 14]        262,144\n",
      "|    |    └─BatchNorm2d: 3-73            [-1, 1024, 14, 14]        2,048\n",
      "|    |    └─Sequential: 3-74             [-1, 1024, 14, 14]        526,336\n",
      "|    |    └─ReLU: 3-75                   [-1, 1024, 14, 14]        --\n",
      "|    └─Bottleneck: 2-9                   [-1, 1024, 14, 14]        --\n",
      "|    |    └─Conv2d: 3-76                 [-1, 256, 14, 14]         262,144\n",
      "|    |    └─BatchNorm2d: 3-77            [-1, 256, 14, 14]         512\n",
      "|    |    └─ReLU: 3-78                   [-1, 256, 14, 14]         --\n",
      "|    |    └─Conv2d: 3-79                 [-1, 256, 14, 14]         589,824\n",
      "|    |    └─BatchNorm2d: 3-80            [-1, 256, 14, 14]         512\n",
      "|    |    └─ReLU: 3-81                   [-1, 256, 14, 14]         --\n",
      "|    |    └─Conv2d: 3-82                 [-1, 1024, 14, 14]        262,144\n",
      "|    |    └─BatchNorm2d: 3-83            [-1, 1024, 14, 14]        2,048\n",
      "|    |    └─ReLU: 3-84                   [-1, 1024, 14, 14]        --\n",
      "|    └─Bottleneck: 2-10                  [-1, 1024, 14, 14]        --\n",
      "|    |    └─Conv2d: 3-85                 [-1, 256, 14, 14]         262,144\n",
      "|    |    └─BatchNorm2d: 3-86            [-1, 256, 14, 14]         512\n",
      "|    |    └─ReLU: 3-87                   [-1, 256, 14, 14]         --\n",
      "|    |    └─Conv2d: 3-88                 [-1, 256, 14, 14]         589,824\n",
      "|    |    └─BatchNorm2d: 3-89            [-1, 256, 14, 14]         512\n",
      "|    |    └─ReLU: 3-90                   [-1, 256, 14, 14]         --\n",
      "|    |    └─Conv2d: 3-91                 [-1, 1024, 14, 14]        262,144\n",
      "|    |    └─BatchNorm2d: 3-92            [-1, 1024, 14, 14]        2,048\n",
      "|    |    └─ReLU: 3-93                   [-1, 1024, 14, 14]        --\n",
      "|    └─Bottleneck: 2-11                  [-1, 1024, 14, 14]        --\n",
      "|    |    └─Conv2d: 3-94                 [-1, 256, 14, 14]         262,144\n",
      "|    |    └─BatchNorm2d: 3-95            [-1, 256, 14, 14]         512\n",
      "|    |    └─ReLU: 3-96                   [-1, 256, 14, 14]         --\n",
      "|    |    └─Conv2d: 3-97                 [-1, 256, 14, 14]         589,824\n",
      "|    |    └─BatchNorm2d: 3-98            [-1, 256, 14, 14]         512\n",
      "|    |    └─ReLU: 3-99                   [-1, 256, 14, 14]         --\n",
      "|    |    └─Conv2d: 3-100                [-1, 1024, 14, 14]        262,144\n",
      "|    |    └─BatchNorm2d: 3-101           [-1, 1024, 14, 14]        2,048\n",
      "|    |    └─ReLU: 3-102                  [-1, 1024, 14, 14]        --\n",
      "|    └─Bottleneck: 2-12                  [-1, 1024, 14, 14]        --\n",
      "|    |    └─Conv2d: 3-103                [-1, 256, 14, 14]         262,144\n",
      "|    |    └─BatchNorm2d: 3-104           [-1, 256, 14, 14]         512\n",
      "|    |    └─ReLU: 3-105                  [-1, 256, 14, 14]         --\n",
      "|    |    └─Conv2d: 3-106                [-1, 256, 14, 14]         589,824\n",
      "|    |    └─BatchNorm2d: 3-107           [-1, 256, 14, 14]         512\n",
      "|    |    └─ReLU: 3-108                  [-1, 256, 14, 14]         --\n",
      "|    |    └─Conv2d: 3-109                [-1, 1024, 14, 14]        262,144\n",
      "|    |    └─BatchNorm2d: 3-110           [-1, 1024, 14, 14]        2,048\n",
      "|    |    └─ReLU: 3-111                  [-1, 1024, 14, 14]        --\n",
      "|    └─Bottleneck: 2-13                  [-1, 1024, 14, 14]        --\n",
      "|    |    └─Conv2d: 3-112                [-1, 256, 14, 14]         262,144\n",
      "|    |    └─BatchNorm2d: 3-113           [-1, 256, 14, 14]         512\n",
      "|    |    └─ReLU: 3-114                  [-1, 256, 14, 14]         --\n",
      "|    |    └─Conv2d: 3-115                [-1, 256, 14, 14]         589,824\n",
      "|    |    └─BatchNorm2d: 3-116           [-1, 256, 14, 14]         512\n",
      "|    |    └─ReLU: 3-117                  [-1, 256, 14, 14]         --\n",
      "|    |    └─Conv2d: 3-118                [-1, 1024, 14, 14]        262,144\n",
      "|    |    └─BatchNorm2d: 3-119           [-1, 1024, 14, 14]        2,048\n",
      "|    |    └─ReLU: 3-120                  [-1, 1024, 14, 14]        --\n",
      "├─Sequential: 1-8                        [-1, 2048, 7, 7]          --\n",
      "|    └─Bottleneck: 2-14                  [-1, 2048, 7, 7]          --\n",
      "|    |    └─Conv2d: 3-121                [-1, 512, 14, 14]         524,288\n",
      "|    |    └─BatchNorm2d: 3-122           [-1, 512, 14, 14]         1,024\n",
      "|    |    └─ReLU: 3-123                  [-1, 512, 14, 14]         --\n",
      "|    |    └─Conv2d: 3-124                [-1, 512, 7, 7]           2,359,296\n",
      "|    |    └─BatchNorm2d: 3-125           [-1, 512, 7, 7]           1,024\n",
      "|    |    └─ReLU: 3-126                  [-1, 512, 7, 7]           --\n",
      "|    |    └─Conv2d: 3-127                [-1, 2048, 7, 7]          1,048,576\n",
      "|    |    └─BatchNorm2d: 3-128           [-1, 2048, 7, 7]          4,096\n",
      "|    |    └─Sequential: 3-129            [-1, 2048, 7, 7]          2,101,248\n",
      "|    |    └─ReLU: 3-130                  [-1, 2048, 7, 7]          --\n",
      "|    └─Bottleneck: 2-15                  [-1, 2048, 7, 7]          --\n",
      "|    |    └─Conv2d: 3-131                [-1, 512, 7, 7]           1,048,576\n",
      "|    |    └─BatchNorm2d: 3-132           [-1, 512, 7, 7]           1,024\n",
      "|    |    └─ReLU: 3-133                  [-1, 512, 7, 7]           --\n",
      "|    |    └─Conv2d: 3-134                [-1, 512, 7, 7]           2,359,296\n",
      "|    |    └─BatchNorm2d: 3-135           [-1, 512, 7, 7]           1,024\n",
      "|    |    └─ReLU: 3-136                  [-1, 512, 7, 7]           --\n",
      "|    |    └─Conv2d: 3-137                [-1, 2048, 7, 7]          1,048,576\n",
      "|    |    └─BatchNorm2d: 3-138           [-1, 2048, 7, 7]          4,096\n",
      "|    |    └─ReLU: 3-139                  [-1, 2048, 7, 7]          --\n",
      "|    └─Bottleneck: 2-16                  [-1, 2048, 7, 7]          --\n",
      "|    |    └─Conv2d: 3-140                [-1, 512, 7, 7]           1,048,576\n",
      "|    |    └─BatchNorm2d: 3-141           [-1, 512, 7, 7]           1,024\n",
      "|    |    └─ReLU: 3-142                  [-1, 512, 7, 7]           --\n",
      "|    |    └─Conv2d: 3-143                [-1, 512, 7, 7]           2,359,296\n",
      "|    |    └─BatchNorm2d: 3-144           [-1, 512, 7, 7]           1,024\n",
      "|    |    └─ReLU: 3-145                  [-1, 512, 7, 7]           --\n",
      "|    |    └─Conv2d: 3-146                [-1, 2048, 7, 7]          1,048,576\n",
      "|    |    └─BatchNorm2d: 3-147           [-1, 2048, 7, 7]          4,096\n",
      "|    |    └─ReLU: 3-148                  [-1, 2048, 7, 7]          --\n",
      "├─AdaptiveAvgPool2d: 1-9                 [-1, 2048, 1, 1]          --\n",
      "├─Linear: 1-10                           [-1, 7]                   14,343\n",
      "==========================================================================================\n",
      "Total params: 23,522,375\n",
      "Trainable params: 23,522,375\n",
      "Non-trainable params: 0\n",
      "Total mult-adds (G): 4.14\n",
      "==========================================================================================\n",
      "Input size (MB): 0.57\n",
      "Forward/backward pass size (MB): 169.59\n",
      "Params size (MB): 89.73\n",
      "Estimated Total Size (MB): 259.89\n",
      "==========================================================================================\n",
      "==========================================================================================\n",
      "Layer (type:depth-idx)                   Output Shape              Param #\n",
      "==========================================================================================\n",
      "├─Conv2d: 1-1                            [-1, 64, 112, 112]        9,408\n",
      "├─BatchNorm2d: 1-2                       [-1, 64, 112, 112]        128\n",
      "├─ReLU: 1-3                              [-1, 64, 112, 112]        --\n",
      "├─MaxPool2d: 1-4                         [-1, 64, 56, 56]          --\n",
      "├─Sequential: 1-5                        [-1, 256, 56, 56]         --\n",
      "|    └─Bottleneck: 2-1                   [-1, 256, 56, 56]         --\n",
      "|    |    └─Conv2d: 3-1                  [-1, 64, 56, 56]          4,096\n",
      "|    |    └─BatchNorm2d: 3-2             [-1, 64, 56, 56]          128\n",
      "|    |    └─ReLU: 3-3                    [-1, 64, 56, 56]          --\n",
      "|    |    └─Conv2d: 3-4                  [-1, 64, 56, 56]          36,864\n",
      "|    |    └─BatchNorm2d: 3-5             [-1, 64, 56, 56]          128\n",
      "|    |    └─ReLU: 3-6                    [-1, 64, 56, 56]          --\n",
      "|    |    └─Conv2d: 3-7                  [-1, 256, 56, 56]         16,384\n",
      "|    |    └─BatchNorm2d: 3-8             [-1, 256, 56, 56]         512\n",
      "|    |    └─Sequential: 3-9              [-1, 256, 56, 56]         16,896\n",
      "|    |    └─ReLU: 3-10                   [-1, 256, 56, 56]         --\n",
      "|    └─Bottleneck: 2-2                   [-1, 256, 56, 56]         --\n",
      "|    |    └─Conv2d: 3-11                 [-1, 64, 56, 56]          16,384\n",
      "|    |    └─BatchNorm2d: 3-12            [-1, 64, 56, 56]          128\n",
      "|    |    └─ReLU: 3-13                   [-1, 64, 56, 56]          --\n",
      "|    |    └─Conv2d: 3-14                 [-1, 64, 56, 56]          36,864\n",
      "|    |    └─BatchNorm2d: 3-15            [-1, 64, 56, 56]          128\n",
      "|    |    └─ReLU: 3-16                   [-1, 64, 56, 56]          --\n",
      "|    |    └─Conv2d: 3-17                 [-1, 256, 56, 56]         16,384\n",
      "|    |    └─BatchNorm2d: 3-18            [-1, 256, 56, 56]         512\n",
      "|    |    └─ReLU: 3-19                   [-1, 256, 56, 56]         --\n",
      "|    └─Bottleneck: 2-3                   [-1, 256, 56, 56]         --\n",
      "|    |    └─Conv2d: 3-20                 [-1, 64, 56, 56]          16,384\n",
      "|    |    └─BatchNorm2d: 3-21            [-1, 64, 56, 56]          128\n",
      "|    |    └─ReLU: 3-22                   [-1, 64, 56, 56]          --\n",
      "|    |    └─Conv2d: 3-23                 [-1, 64, 56, 56]          36,864\n",
      "|    |    └─BatchNorm2d: 3-24            [-1, 64, 56, 56]          128\n",
      "|    |    └─ReLU: 3-25                   [-1, 64, 56, 56]          --\n",
      "|    |    └─Conv2d: 3-26                 [-1, 256, 56, 56]         16,384\n",
      "|    |    └─BatchNorm2d: 3-27            [-1, 256, 56, 56]         512\n",
      "|    |    └─ReLU: 3-28                   [-1, 256, 56, 56]         --\n",
      "├─Sequential: 1-6                        [-1, 512, 28, 28]         --\n",
      "|    └─Bottleneck: 2-4                   [-1, 512, 28, 28]         --\n",
      "|    |    └─Conv2d: 3-29                 [-1, 128, 56, 56]         32,768\n",
      "|    |    └─BatchNorm2d: 3-30            [-1, 128, 56, 56]         256\n",
      "|    |    └─ReLU: 3-31                   [-1, 128, 56, 56]         --\n",
      "|    |    └─Conv2d: 3-32                 [-1, 128, 28, 28]         147,456\n",
      "|    |    └─BatchNorm2d: 3-33            [-1, 128, 28, 28]         256\n",
      "|    |    └─ReLU: 3-34                   [-1, 128, 28, 28]         --\n",
      "|    |    └─Conv2d: 3-35                 [-1, 512, 28, 28]         65,536\n",
      "|    |    └─BatchNorm2d: 3-36            [-1, 512, 28, 28]         1,024\n",
      "|    |    └─Sequential: 3-37             [-1, 512, 28, 28]         132,096\n",
      "|    |    └─ReLU: 3-38                   [-1, 512, 28, 28]         --\n",
      "|    └─Bottleneck: 2-5                   [-1, 512, 28, 28]         --\n",
      "|    |    └─Conv2d: 3-39                 [-1, 128, 28, 28]         65,536\n",
      "|    |    └─BatchNorm2d: 3-40            [-1, 128, 28, 28]         256\n",
      "|    |    └─ReLU: 3-41                   [-1, 128, 28, 28]         --\n",
      "|    |    └─Conv2d: 3-42                 [-1, 128, 28, 28]         147,456\n",
      "|    |    └─BatchNorm2d: 3-43            [-1, 128, 28, 28]         256\n",
      "|    |    └─ReLU: 3-44                   [-1, 128, 28, 28]         --\n",
      "|    |    └─Conv2d: 3-45                 [-1, 512, 28, 28]         65,536\n",
      "|    |    └─BatchNorm2d: 3-46            [-1, 512, 28, 28]         1,024\n",
      "|    |    └─ReLU: 3-47                   [-1, 512, 28, 28]         --\n",
      "|    └─Bottleneck: 2-6                   [-1, 512, 28, 28]         --\n",
      "|    |    └─Conv2d: 3-48                 [-1, 128, 28, 28]         65,536\n",
      "|    |    └─BatchNorm2d: 3-49            [-1, 128, 28, 28]         256\n",
      "|    |    └─ReLU: 3-50                   [-1, 128, 28, 28]         --\n",
      "|    |    └─Conv2d: 3-51                 [-1, 128, 28, 28]         147,456\n",
      "|    |    └─BatchNorm2d: 3-52            [-1, 128, 28, 28]         256\n",
      "|    |    └─ReLU: 3-53                   [-1, 128, 28, 28]         --\n",
      "|    |    └─Conv2d: 3-54                 [-1, 512, 28, 28]         65,536\n",
      "|    |    └─BatchNorm2d: 3-55            [-1, 512, 28, 28]         1,024\n",
      "|    |    └─ReLU: 3-56                   [-1, 512, 28, 28]         --\n",
      "|    └─Bottleneck: 2-7                   [-1, 512, 28, 28]         --\n",
      "|    |    └─Conv2d: 3-57                 [-1, 128, 28, 28]         65,536\n",
      "|    |    └─BatchNorm2d: 3-58            [-1, 128, 28, 28]         256\n",
      "|    |    └─ReLU: 3-59                   [-1, 128, 28, 28]         --\n",
      "|    |    └─Conv2d: 3-60                 [-1, 128, 28, 28]         147,456\n",
      "|    |    └─BatchNorm2d: 3-61            [-1, 128, 28, 28]         256\n",
      "|    |    └─ReLU: 3-62                   [-1, 128, 28, 28]         --\n",
      "|    |    └─Conv2d: 3-63                 [-1, 512, 28, 28]         65,536\n",
      "|    |    └─BatchNorm2d: 3-64            [-1, 512, 28, 28]         1,024\n",
      "|    |    └─ReLU: 3-65                   [-1, 512, 28, 28]         --\n",
      "├─Sequential: 1-7                        [-1, 1024, 14, 14]        --\n",
      "|    └─Bottleneck: 2-8                   [-1, 1024, 14, 14]        --\n",
      "|    |    └─Conv2d: 3-66                 [-1, 256, 28, 28]         131,072\n",
      "|    |    └─BatchNorm2d: 3-67            [-1, 256, 28, 28]         512\n",
      "|    |    └─ReLU: 3-68                   [-1, 256, 28, 28]         --\n",
      "|    |    └─Conv2d: 3-69                 [-1, 256, 14, 14]         589,824\n",
      "|    |    └─BatchNorm2d: 3-70            [-1, 256, 14, 14]         512\n",
      "|    |    └─ReLU: 3-71                   [-1, 256, 14, 14]         --\n",
      "|    |    └─Conv2d: 3-72                 [-1, 1024, 14, 14]        262,144\n",
      "|    |    └─BatchNorm2d: 3-73            [-1, 1024, 14, 14]        2,048\n",
      "|    |    └─Sequential: 3-74             [-1, 1024, 14, 14]        526,336\n",
      "|    |    └─ReLU: 3-75                   [-1, 1024, 14, 14]        --\n",
      "|    └─Bottleneck: 2-9                   [-1, 1024, 14, 14]        --\n",
      "|    |    └─Conv2d: 3-76                 [-1, 256, 14, 14]         262,144\n",
      "|    |    └─BatchNorm2d: 3-77            [-1, 256, 14, 14]         512\n",
      "|    |    └─ReLU: 3-78                   [-1, 256, 14, 14]         --\n",
      "|    |    └─Conv2d: 3-79                 [-1, 256, 14, 14]         589,824\n",
      "|    |    └─BatchNorm2d: 3-80            [-1, 256, 14, 14]         512\n",
      "|    |    └─ReLU: 3-81                   [-1, 256, 14, 14]         --\n",
      "|    |    └─Conv2d: 3-82                 [-1, 1024, 14, 14]        262,144\n",
      "|    |    └─BatchNorm2d: 3-83            [-1, 1024, 14, 14]        2,048\n",
      "|    |    └─ReLU: 3-84                   [-1, 1024, 14, 14]        --\n",
      "|    └─Bottleneck: 2-10                  [-1, 1024, 14, 14]        --\n",
      "|    |    └─Conv2d: 3-85                 [-1, 256, 14, 14]         262,144\n",
      "|    |    └─BatchNorm2d: 3-86            [-1, 256, 14, 14]         512\n",
      "|    |    └─ReLU: 3-87                   [-1, 256, 14, 14]         --\n",
      "|    |    └─Conv2d: 3-88                 [-1, 256, 14, 14]         589,824\n",
      "|    |    └─BatchNorm2d: 3-89            [-1, 256, 14, 14]         512\n",
      "|    |    └─ReLU: 3-90                   [-1, 256, 14, 14]         --\n",
      "|    |    └─Conv2d: 3-91                 [-1, 1024, 14, 14]        262,144\n",
      "|    |    └─BatchNorm2d: 3-92            [-1, 1024, 14, 14]        2,048\n",
      "|    |    └─ReLU: 3-93                   [-1, 1024, 14, 14]        --\n",
      "|    └─Bottleneck: 2-11                  [-1, 1024, 14, 14]        --\n",
      "|    |    └─Conv2d: 3-94                 [-1, 256, 14, 14]         262,144\n",
      "|    |    └─BatchNorm2d: 3-95            [-1, 256, 14, 14]         512\n",
      "|    |    └─ReLU: 3-96                   [-1, 256, 14, 14]         --\n",
      "|    |    └─Conv2d: 3-97                 [-1, 256, 14, 14]         589,824\n",
      "|    |    └─BatchNorm2d: 3-98            [-1, 256, 14, 14]         512\n",
      "|    |    └─ReLU: 3-99                   [-1, 256, 14, 14]         --\n",
      "|    |    └─Conv2d: 3-100                [-1, 1024, 14, 14]        262,144\n",
      "|    |    └─BatchNorm2d: 3-101           [-1, 1024, 14, 14]        2,048\n",
      "|    |    └─ReLU: 3-102                  [-1, 1024, 14, 14]        --\n",
      "|    └─Bottleneck: 2-12                  [-1, 1024, 14, 14]        --\n",
      "|    |    └─Conv2d: 3-103                [-1, 256, 14, 14]         262,144\n",
      "|    |    └─BatchNorm2d: 3-104           [-1, 256, 14, 14]         512\n",
      "|    |    └─ReLU: 3-105                  [-1, 256, 14, 14]         --\n",
      "|    |    └─Conv2d: 3-106                [-1, 256, 14, 14]         589,824\n",
      "|    |    └─BatchNorm2d: 3-107           [-1, 256, 14, 14]         512\n",
      "|    |    └─ReLU: 3-108                  [-1, 256, 14, 14]         --\n",
      "|    |    └─Conv2d: 3-109                [-1, 1024, 14, 14]        262,144\n",
      "|    |    └─BatchNorm2d: 3-110           [-1, 1024, 14, 14]        2,048\n",
      "|    |    └─ReLU: 3-111                  [-1, 1024, 14, 14]        --\n",
      "|    └─Bottleneck: 2-13                  [-1, 1024, 14, 14]        --\n",
      "|    |    └─Conv2d: 3-112                [-1, 256, 14, 14]         262,144\n",
      "|    |    └─BatchNorm2d: 3-113           [-1, 256, 14, 14]         512\n",
      "|    |    └─ReLU: 3-114                  [-1, 256, 14, 14]         --\n",
      "|    |    └─Conv2d: 3-115                [-1, 256, 14, 14]         589,824\n",
      "|    |    └─BatchNorm2d: 3-116           [-1, 256, 14, 14]         512\n",
      "|    |    └─ReLU: 3-117                  [-1, 256, 14, 14]         --\n",
      "|    |    └─Conv2d: 3-118                [-1, 1024, 14, 14]        262,144\n",
      "|    |    └─BatchNorm2d: 3-119           [-1, 1024, 14, 14]        2,048\n",
      "|    |    └─ReLU: 3-120                  [-1, 1024, 14, 14]        --\n",
      "├─Sequential: 1-8                        [-1, 2048, 7, 7]          --\n",
      "|    └─Bottleneck: 2-14                  [-1, 2048, 7, 7]          --\n",
      "|    |    └─Conv2d: 3-121                [-1, 512, 14, 14]         524,288\n",
      "|    |    └─BatchNorm2d: 3-122           [-1, 512, 14, 14]         1,024\n",
      "|    |    └─ReLU: 3-123                  [-1, 512, 14, 14]         --\n",
      "|    |    └─Conv2d: 3-124                [-1, 512, 7, 7]           2,359,296\n",
      "|    |    └─BatchNorm2d: 3-125           [-1, 512, 7, 7]           1,024\n",
      "|    |    └─ReLU: 3-126                  [-1, 512, 7, 7]           --\n",
      "|    |    └─Conv2d: 3-127                [-1, 2048, 7, 7]          1,048,576\n",
      "|    |    └─BatchNorm2d: 3-128           [-1, 2048, 7, 7]          4,096\n",
      "|    |    └─Sequential: 3-129            [-1, 2048, 7, 7]          2,101,248\n",
      "|    |    └─ReLU: 3-130                  [-1, 2048, 7, 7]          --\n",
      "|    └─Bottleneck: 2-15                  [-1, 2048, 7, 7]          --\n",
      "|    |    └─Conv2d: 3-131                [-1, 512, 7, 7]           1,048,576\n",
      "|    |    └─BatchNorm2d: 3-132           [-1, 512, 7, 7]           1,024\n",
      "|    |    └─ReLU: 3-133                  [-1, 512, 7, 7]           --\n",
      "|    |    └─Conv2d: 3-134                [-1, 512, 7, 7]           2,359,296\n",
      "|    |    └─BatchNorm2d: 3-135           [-1, 512, 7, 7]           1,024\n",
      "|    |    └─ReLU: 3-136                  [-1, 512, 7, 7]           --\n",
      "|    |    └─Conv2d: 3-137                [-1, 2048, 7, 7]          1,048,576\n",
      "|    |    └─BatchNorm2d: 3-138           [-1, 2048, 7, 7]          4,096\n",
      "|    |    └─ReLU: 3-139                  [-1, 2048, 7, 7]          --\n",
      "|    └─Bottleneck: 2-16                  [-1, 2048, 7, 7]          --\n",
      "|    |    └─Conv2d: 3-140                [-1, 512, 7, 7]           1,048,576\n",
      "|    |    └─BatchNorm2d: 3-141           [-1, 512, 7, 7]           1,024\n",
      "|    |    └─ReLU: 3-142                  [-1, 512, 7, 7]           --\n",
      "|    |    └─Conv2d: 3-143                [-1, 512, 7, 7]           2,359,296\n",
      "|    |    └─BatchNorm2d: 3-144           [-1, 512, 7, 7]           1,024\n",
      "|    |    └─ReLU: 3-145                  [-1, 512, 7, 7]           --\n",
      "|    |    └─Conv2d: 3-146                [-1, 2048, 7, 7]          1,048,576\n",
      "|    |    └─BatchNorm2d: 3-147           [-1, 2048, 7, 7]          4,096\n",
      "|    |    └─ReLU: 3-148                  [-1, 2048, 7, 7]          --\n",
      "├─AdaptiveAvgPool2d: 1-9                 [-1, 2048, 1, 1]          --\n",
      "├─Linear: 1-10                           [-1, 7]                   14,343\n",
      "==========================================================================================\n",
      "Total params: 23,522,375\n",
      "Trainable params: 23,522,375\n",
      "Non-trainable params: 0\n",
      "Total mult-adds (G): 4.14\n",
      "==========================================================================================\n",
      "Input size (MB): 0.57\n",
      "Forward/backward pass size (MB): 169.59\n",
      "Params size (MB): 89.73\n",
      "Estimated Total Size (MB): 259.89\n",
      "==========================================================================================\n"
     ]
    }
   ],
   "source": [
    "input_size = (3, 224, 224)\n",
    "print(summary(model_res, input_size, device=device.type))"
   ]
  },
  {
   "cell_type": "code",
   "execution_count": 10,
   "metadata": {},
   "outputs": [],
   "source": [
    "criterion = nn.CrossEntropyLoss().to(device)\n",
    "optimizer = torch.optim.Adam(model_res.parameters(), lr=1e-3)"
   ]
  },
  {
   "cell_type": "code",
   "execution_count": 11,
   "metadata": {},
   "outputs": [],
   "source": [
    "start_time = time.time()"
   ]
  },
  {
   "cell_type": "code",
   "execution_count": 12,
   "metadata": {},
   "outputs": [
    {
     "name": "stderr",
     "output_type": "stream",
     "text": [
      "  3%|▎         | 1/30 [01:59<57:39, 119.31s/it]"
     ]
    },
    {
     "name": "stdout",
     "output_type": "stream",
     "text": [
      "Epoch 1\n",
      "Training Loss: 1.15972318290432 \n",
      "Training Accuracy: 56.94062449441838%\n",
      "Validation Loss: 1.028638577122405 \n",
      "Validation Accuracy: 59.74761365474842%\n",
      "=======================================================================\n",
      "Validation Loss Decreased(inf--->1.028639) \n",
      "Saving The Model\n",
      "=======================================================================\n"
     ]
    },
    {
     "name": "stderr",
     "output_type": "stream",
     "text": [
      "  7%|▋         | 2/30 [04:07<57:59, 124.26s/it]"
     ]
    },
    {
     "name": "stdout",
     "output_type": "stream",
     "text": [
      "Epoch 2\n",
      "Training Loss: 0.7851583068222963 \n",
      "Training Accuracy: 71.0726419673192%\n",
      "Validation Loss: 0.7193977991431875 \n",
      "Validation Accuracy: 75.2952596667206%\n",
      "=======================================================================\n",
      "Validation Loss Decreased(1.028639--->0.719398) \n",
      "Saving The Model\n",
      "=======================================================================\n"
     ]
    },
    {
     "name": "stderr",
     "output_type": "stream",
     "text": [
      " 10%|█         | 3/30 [06:19<57:39, 128.14s/it]"
     ]
    },
    {
     "name": "stdout",
     "output_type": "stream",
     "text": [
      "Epoch 3\n",
      "Training Loss: 0.6338727496545136 \n",
      "Training Accuracy: 76.7836919592299%\n",
      "Validation Loss: 0.5532690856499881 \n",
      "Validation Accuracy: 80.10839669956317%\n",
      "=======================================================================\n",
      "Validation Loss Decreased(0.719398--->0.553269) \n",
      "Saving The Model\n",
      "=======================================================================\n",
      "Epoch 4\n",
      "Training Loss: 0.5421617780005901 \n",
      "Training Accuracy: 80.10030739362563%\n",
      "Validation Loss: 0.46308344893292247 \n",
      "Validation Accuracy: 82.21161624332632%\n",
      "=======================================================================\n",
      "Validation Loss Decreased(0.553269--->0.463083) \n",
      "Saving The Model\n",
      "=======================================================================\n"
     ]
    },
    {
     "name": "stderr",
     "output_type": "stream",
     "text": [
      " 17%|█▋        | 5/30 [11:06<57:40, 138.42s/it]"
     ]
    },
    {
     "name": "stdout",
     "output_type": "stream",
     "text": [
      "Epoch 5\n",
      "Training Loss: 0.4753365613693415 \n",
      "Training Accuracy: 82.5756350105161%\n",
      "Validation Loss: 0.681458515021228 \n",
      "Validation Accuracy: 77.05872836110662%\n",
      "=======================================================================\n"
     ]
    },
    {
     "name": "stderr",
     "output_type": "stream",
     "text": [
      " 20%|██        | 6/30 [13:32<56:22, 140.95s/it]"
     ]
    },
    {
     "name": "stdout",
     "output_type": "stream",
     "text": [
      "Epoch 6\n",
      "Training Loss: 0.41692690870866606 \n",
      "Training Accuracy: 85.05905193334412%\n",
      "Validation Loss: 0.36998320738628543 \n",
      "Validation Accuracy: 86.8629671574179%\n",
      "=======================================================================\n",
      "Validation Loss Decreased(0.463083--->0.369983) \n",
      "Saving The Model\n",
      "=======================================================================\n"
     ]
    },
    {
     "name": "stderr",
     "output_type": "stream",
     "text": [
      " 23%|██▎       | 7/30 [15:55<54:19, 141.71s/it]"
     ]
    },
    {
     "name": "stdout",
     "output_type": "stream",
     "text": [
      "Epoch 7\n",
      "Training Loss: 0.37041839874453014 \n",
      "Training Accuracy: 86.66882381491668%\n",
      "Validation Loss: 0.4596676390223417 \n",
      "Validation Accuracy: 83.80520951302378%\n",
      "=======================================================================\n"
     ]
    },
    {
     "name": "stderr",
     "output_type": "stream",
     "text": [
      " 27%|██▋       | 8/30 [18:34<53:53, 146.96s/it]"
     ]
    },
    {
     "name": "stdout",
     "output_type": "stream",
     "text": [
      "Epoch 8\n",
      "Training Loss: 0.34436393971976076 \n",
      "Training Accuracy: 87.87413039961172%\n",
      "Validation Loss: 0.35431929658472694 \n",
      "Validation Accuracy: 87.51820093835948%\n",
      "=======================================================================\n",
      "Validation Loss Decreased(0.369983--->0.354319) \n",
      "Saving The Model\n",
      "=======================================================================\n"
     ]
    },
    {
     "name": "stderr",
     "output_type": "stream",
     "text": [
      " 30%|███       | 9/30 [20:54<50:41, 144.84s/it]"
     ]
    },
    {
     "name": "stdout",
     "output_type": "stream",
     "text": [
      "Epoch 9\n",
      "Training Loss: 0.30481484258975783 \n",
      "Training Accuracy: 89.1522407377447%\n",
      "Validation Loss: 0.28894481613500483 \n",
      "Validation Accuracy: 89.32211616243326%\n",
      "=======================================================================\n",
      "Validation Loss Decreased(0.354319--->0.288945) \n",
      "Saving The Model\n",
      "=======================================================================\n"
     ]
    },
    {
     "name": "stderr",
     "output_type": "stream",
     "text": [
      " 33%|███▎      | 10/30 [23:22<48:36, 145.84s/it]"
     ]
    },
    {
     "name": "stdout",
     "output_type": "stream",
     "text": [
      "Epoch 10\n",
      "Training Loss: 0.2628443400912199 \n",
      "Training Accuracy: 91.02087040931887%\n",
      "Validation Loss: 0.2044906113272682 \n",
      "Validation Accuracy: 92.8975893868306%\n",
      "=======================================================================\n",
      "Validation Loss Decreased(0.288945--->0.204491) \n",
      "Saving The Model\n",
      "=======================================================================\n"
     ]
    },
    {
     "name": "stderr",
     "output_type": "stream",
     "text": [
      " 37%|███▋      | 11/30 [25:48<46:12, 145.93s/it]"
     ]
    },
    {
     "name": "stdout",
     "output_type": "stream",
     "text": [
      "Epoch 11\n",
      "Training Loss: 0.24153556961575837 \n",
      "Training Accuracy: 91.50622876557192%\n",
      "Validation Loss: 0.22046102955937386 \n",
      "Validation Accuracy: 92.50121339589063%\n",
      "=======================================================================\n"
     ]
    },
    {
     "name": "stderr",
     "output_type": "stream",
     "text": [
      " 40%|████      | 12/30 [28:15<43:54, 146.39s/it]"
     ]
    },
    {
     "name": "stdout",
     "output_type": "stream",
     "text": [
      "Epoch 12\n",
      "Training Loss: 0.21629578817529888 \n",
      "Training Accuracy: 92.62255298495388%\n",
      "Validation Loss: 0.23056066284095747 \n",
      "Validation Accuracy: 91.94305128619965%\n",
      "=======================================================================\n"
     ]
    },
    {
     "name": "stderr",
     "output_type": "stream",
     "text": [
      " 43%|████▎     | 13/30 [30:47<41:54, 147.94s/it]"
     ]
    },
    {
     "name": "stdout",
     "output_type": "stream",
     "text": [
      "Epoch 13\n",
      "Training Loss: 0.2099289468005877 \n",
      "Training Accuracy: 92.63873159682899%\n",
      "Validation Loss: 0.24089755886053854 \n",
      "Validation Accuracy: 92.00776573370005%\n",
      "=======================================================================\n",
      "Epoch 14\n",
      "Training Loss: 0.19962790874326336 \n",
      "Training Accuracy: 93.19689370651999%\n",
      "Validation Loss: 0.16332371903520837 \n",
      "Validation Accuracy: 94.42646820902766%\n",
      "=======================================================================\n",
      "Validation Loss Decreased(0.204491--->0.163324) \n",
      "Saving The Model\n",
      "=======================================================================\n"
     ]
    },
    {
     "name": "stderr",
     "output_type": "stream",
     "text": [
      " 50%|█████     | 15/30 [35:52<37:34, 150.30s/it]"
     ]
    },
    {
     "name": "stdout",
     "output_type": "stream",
     "text": [
      "Epoch 15\n",
      "Training Loss: 0.15043874380469938 \n",
      "Training Accuracy: 94.68532599902929%\n",
      "Validation Loss: 0.2743468355021659 \n",
      "Validation Accuracy: 91.09367416275684%\n",
      "=======================================================================\n"
     ]
    },
    {
     "name": "stderr",
     "output_type": "stream",
     "text": [
      " 53%|█████▎    | 16/30 [38:24<35:08, 150.62s/it]"
     ]
    },
    {
     "name": "stdout",
     "output_type": "stream",
     "text": [
      "Epoch 16\n",
      "Training Loss: 0.15452361588176214 \n",
      "Training Accuracy: 94.59634363371623%\n",
      "Validation Loss: 0.19549177796880712 \n",
      "Validation Accuracy: 93.23734023620773%\n",
      "=======================================================================\n",
      "Epoch 17\n",
      "Training Loss: 0.13736456416990098 \n",
      "Training Accuracy: 95.38100630965863%\n",
      "Validation Loss: 0.14641212873059764 \n",
      "Validation Accuracy: 95.26775602653292%\n",
      "=======================================================================\n",
      "Validation Loss Decreased(0.163324--->0.146412) \n",
      "Saving The Model\n",
      "=======================================================================\n"
     ]
    },
    {
     "name": "stderr",
     "output_type": "stream",
     "text": [
      " 60%|██████    | 18/30 [42:02<25:50, 129.20s/it]"
     ]
    },
    {
     "name": "stdout",
     "output_type": "stream",
     "text": [
      "Epoch 18\n",
      "Training Loss: 0.13619535786246528 \n",
      "Training Accuracy: 95.46998867497169%\n",
      "Validation Loss: 0.11988785997206389 \n",
      "Validation Accuracy: 96.17375829153859%\n",
      "=======================================================================\n",
      "Validation Loss Decreased(0.146412--->0.119888) \n",
      "Saving The Model\n",
      "=======================================================================\n"
     ]
    },
    {
     "name": "stderr",
     "output_type": "stream",
     "text": [
      " 63%|██████▎   | 19/30 [43:48<22:23, 122.17s/it]"
     ]
    },
    {
     "name": "stdout",
     "output_type": "stream",
     "text": [
      "Epoch 19\n",
      "Training Loss: 0.13412369112183342 \n",
      "Training Accuracy: 95.38100630965863%\n",
      "Validation Loss: 0.12291357703073773 \n",
      "Validation Accuracy: 95.89063258372431%\n",
      "=======================================================================\n"
     ]
    },
    {
     "name": "stderr",
     "output_type": "stream",
     "text": [
      " 67%|██████▋   | 20/30 [45:34<19:32, 117.29s/it]"
     ]
    },
    {
     "name": "stdout",
     "output_type": "stream",
     "text": [
      "Epoch 20\n",
      "Training Loss: 0.10584340449085686 \n",
      "Training Accuracy: 96.3193657984145%\n",
      "Validation Loss: 0.14016165995479438 \n",
      "Validation Accuracy: 95.46189936903414%\n",
      "=======================================================================\n"
     ]
    },
    {
     "name": "stderr",
     "output_type": "stream",
     "text": [
      " 70%|███████   | 21/30 [47:20<17:04, 113.84s/it]"
     ]
    },
    {
     "name": "stdout",
     "output_type": "stream",
     "text": [
      "Epoch 21\n",
      "Training Loss: 0.12895015004098184 \n",
      "Training Accuracy: 95.65604271153535%\n",
      "Validation Loss: 0.1667664928159626 \n",
      "Validation Accuracy: 94.49927196246563%\n",
      "=======================================================================\n"
     ]
    },
    {
     "name": "stderr",
     "output_type": "stream",
     "text": [
      " 73%|███████▎  | 22/30 [49:06<14:51, 111.50s/it]"
     ]
    },
    {
     "name": "stdout",
     "output_type": "stream",
     "text": [
      "Epoch 22\n",
      "Training Loss: 0.10837780180909413 \n",
      "Training Accuracy: 96.34363371622715%\n",
      "Validation Loss: 0.09551184986764927 \n",
      "Validation Accuracy: 97.17683222779486%\n",
      "=======================================================================\n",
      "Validation Loss Decreased(0.119888--->0.095512) \n",
      "Saving The Model\n",
      "=======================================================================\n"
     ]
    },
    {
     "name": "stderr",
     "output_type": "stream",
     "text": [
      " 77%|███████▋  | 23/30 [50:51<12:48, 109.78s/it]"
     ]
    },
    {
     "name": "stdout",
     "output_type": "stream",
     "text": [
      "Epoch 23\n",
      "Training Loss: 0.10247501396292517 \n",
      "Training Accuracy: 96.60249150622876%\n",
      "Validation Loss: 0.24376342060087725 \n",
      "Validation Accuracy: 92.27471282963921%\n",
      "=======================================================================\n"
     ]
    },
    {
     "name": "stderr",
     "output_type": "stream",
     "text": [
      " 80%|████████  | 24/30 [52:37<10:51, 108.59s/it]"
     ]
    },
    {
     "name": "stdout",
     "output_type": "stream",
     "text": [
      "Epoch 24\n",
      "Training Loss: 0.09661333290234363 \n",
      "Training Accuracy: 96.61058081216632%\n",
      "Validation Loss: 0.11880962179524907 \n",
      "Validation Accuracy: 96.47306261122796%\n",
      "=======================================================================\n"
     ]
    },
    {
     "name": "stderr",
     "output_type": "stream",
     "text": [
      " 83%|████████▎ | 25/30 [54:23<08:58, 107.80s/it]"
     ]
    },
    {
     "name": "stdout",
     "output_type": "stream",
     "text": [
      "Epoch 25\n",
      "Training Loss: 0.08682382647736234 \n",
      "Training Accuracy: 97.06358194466915%\n",
      "Validation Loss: 0.1577770349868027 \n",
      "Validation Accuracy: 94.87138003559295%\n",
      "=======================================================================\n"
     ]
    },
    {
     "name": "stderr",
     "output_type": "stream",
     "text": [
      " 87%|████████▋ | 26/30 [56:09<07:08, 107.21s/it]"
     ]
    },
    {
     "name": "stdout",
     "output_type": "stream",
     "text": [
      "Epoch 26\n",
      "Training Loss: 0.11359689033407362 \n",
      "Training Accuracy: 96.30318718653939%\n",
      "Validation Loss: 0.0879724062342998 \n",
      "Validation Accuracy: 97.35479695842096%\n",
      "=======================================================================\n",
      "Validation Loss Decreased(0.095512--->0.087972) \n",
      "Saving The Model\n",
      "=======================================================================\n"
     ]
    },
    {
     "name": "stderr",
     "output_type": "stream",
     "text": [
      " 90%|█████████ | 27/30 [57:55<05:20, 106.80s/it]"
     ]
    },
    {
     "name": "stdout",
     "output_type": "stream",
     "text": [
      "Epoch 27\n",
      "Training Loss: 0.07938220274504708 \n",
      "Training Accuracy: 97.15256430998221%\n",
      "Validation Loss: 0.12866935514524888 \n",
      "Validation Accuracy: 95.7288464649733%\n",
      "=======================================================================\n"
     ]
    },
    {
     "name": "stderr",
     "output_type": "stream",
     "text": [
      " 93%|█████████▎| 28/30 [59:41<03:33, 106.52s/it]"
     ]
    },
    {
     "name": "stdout",
     "output_type": "stream",
     "text": [
      "Epoch 28\n",
      "Training Loss: 0.07755554834734504 \n",
      "Training Accuracy: 97.52467238310953%\n",
      "Validation Loss: 0.07324862792634933 \n",
      "Validation Accuracy: 97.71881572561074%\n",
      "=======================================================================\n",
      "Validation Loss Decreased(0.087972--->0.073249) \n",
      "Saving The Model\n",
      "=======================================================================\n"
     ]
    },
    {
     "name": "stderr",
     "output_type": "stream",
     "text": [
      " 97%|█████████▋| 29/30 [1:01:27<01:46, 106.42s/it]"
     ]
    },
    {
     "name": "stdout",
     "output_type": "stream",
     "text": [
      "Epoch 29\n",
      "Training Loss: 0.07332104093603338 \n",
      "Training Accuracy: 97.58129752467238%\n",
      "Validation Loss: 0.12671571178542262 \n",
      "Validation Accuracy: 96.02006147872513%\n",
      "=======================================================================\n"
     ]
    },
    {
     "name": "stderr",
     "output_type": "stream",
     "text": [
      "100%|██████████| 30/30 [1:03:13<00:00, 126.45s/it]"
     ]
    },
    {
     "name": "stdout",
     "output_type": "stream",
     "text": [
      "Epoch 30\n",
      "Training Loss: 0.07626833323688903 \n",
      "Training Accuracy: 97.50849377123443%\n",
      "Validation Loss: 0.10110202212384793 \n",
      "Validation Accuracy: 97.0554926387316%\n",
      "=======================================================================\n"
     ]
    },
    {
     "name": "stderr",
     "output_type": "stream",
     "text": [
      "\n"
     ]
    }
   ],
   "source": [
    "epochs = 30\n",
    "patience = 5\n",
    "model_filename = 'resnet_pret.pth'\n",
    "resnet_model, total_loss_train, total_loss_val, total_acc_train, total_acc_val = Model_functions.train_and_validate_model(\n",
    "                        model_res, train_loader, val_loader,test_loader, criterion,patience, optimizer, device, epochs, model_filename,verbose=True)"
   ]
  },
  {
   "cell_type": "code",
   "execution_count": 13,
   "metadata": {},
   "outputs": [
    {
     "name": "stdout",
     "output_type": "stream",
     "text": [
      "Total training and validation time for the Resnet Pretrainned Model: 63.22 minutes\n"
     ]
    }
   ],
   "source": [
    "end_time = time.time()\n",
    "total_time = end_time - start_time\n",
    "print(f\"Total training and validation time for the Resnet Pretrainned Model: {total_time/60:.2f} minutes\")\n",
    "elapsed_time = end_time - start_time"
   ]
  },
  {
   "cell_type": "code",
   "execution_count": 14,
   "metadata": {},
   "outputs": [
    {
     "data": {
      "image/png": "[encoded data removed]",
      "text/plain": [
       "<Figure size 2000x1600 with 2 Axes>"
      ]
     },
     "metadata": {},
     "output_type": "display_data"
    }
   ],
   "source": [
    "fig = plt.figure(num=2, figsize=(20, 16))  \n",
    "fig1 = fig.add_subplot(2, 1, 1)\n",
    "fig2 = fig.add_subplot(2, 1, 2)\n",
    "\n",
    "fig1.plot(total_loss_train, label='Training Loss')\n",
    "fig1.plot(total_loss_val, label='Validation Loss')\n",
    "fig1.set_title('Loss Resnet Pretrained', fontsize=14)  \n",
    "fig1.set_ylim([0, 1])\n",
    "fig1.legend()\n",
    "fig2.plot(total_acc_train, label='Training Accuracy')\n",
    "fig2.plot(total_acc_val, label='Validation Accuracy')\n",
    "fig2.set_ylim([0, 100])\n",
    "fig2.set_title('Accuracy Resnet Pretrained', fontsize=14)  \n",
    "fig2.legend()\n",
    "plt.show()"
   ]
  },
  {
   "cell_type": "code",
   "execution_count": 15,
   "metadata": {},
   "outputs": [
    {
     "data": {
      "image/png": "[encoded data removed]",
      "text/plain": [
       "<Figure size 2400x1000 with 4 Axes>"
      ]
     },
     "metadata": {},
     "output_type": "display_data"
    },
    {
     "name": "stdout",
     "output_type": "stream",
     "text": [
      "-------------------------------------------------------\n",
      "Classification Report:\n",
      "\n",
      "              precision    recall  f1-score   support\n",
      "\n",
      "       akiec       0.96      0.91      0.94       878\n",
      "         bcc       0.94      0.92      0.93       877\n",
      "         bkl       1.00      1.00      1.00       872\n",
      "          df       0.95      0.99      0.97       873\n",
      "         mel       1.00      1.00      1.00       871\n",
      "          nv       0.99      1.00      0.99       891\n",
      "        vasc       0.98      0.99      0.99       919\n",
      "\n",
      "    accuracy                           0.97      6181\n",
      "   macro avg       0.97      0.97      0.97      6181\n",
      "weighted avg       0.97      0.97      0.97      6181\n",
      "\n",
      "-------------------------------------------------------\n"
     ]
    }
   ],
   "source": [
    "Model_functions.conf_report(resnet_model, test_loader, 'resnet_conf_mat')"
   ]
  },
  {
   "cell_type": "code",
   "execution_count": 18,
   "metadata": {},
   "outputs": [
    {
     "name": "stdout",
     "output_type": "stream",
     "text": [
      "-------------------------------------------------------\n",
      "Best models accuracy 97.65410127811033\n",
      "-------------------------------------------------------\n"
     ]
    }
   ],
   "source": [
    "best_model_state = torch.load('resnet_pret.pth',map_location='cpu')\n",
    "device = torch.device('cpu')\n",
    "model_res.load_state_dict(best_model_state)\n",
    "test_accuracy = Model_functions.test_model(model_res, test_loader, device)\n",
    "print('-------------------------------------------------------')\n",
    "print(f'Best models accuracy {test_accuracy}')\n",
    "print('-------------------------------------------------------')"
   ]
  },
  {
   "cell_type": "code",
   "execution_count": 19,
   "metadata": {},
   "outputs": [
    {
     "data": {
      "text/plain": [
       "2381"
      ]
     },
     "execution_count": 19,
     "metadata": {},
     "output_type": "execute_result"
    }
   ],
   "source": [
    "torch.cuda.empty_cache() \n",
    "gc.collect()"
   ]
  },
  {
   "cell_type": "code",
   "execution_count": null,
   "metadata": {},
   "outputs": [],
   "source": [
    "# torch.cuda.memory_summary(device=None, abbreviated=False)"
   ]
  },
  {
   "cell_type": "markdown",
   "metadata": {},
   "source": [
    "# **Densenet**"
   ]
  },
  {
   "cell_type": "code",
   "execution_count": 20,
   "metadata": {},
   "outputs": [
    {
     "name": "stdout",
     "output_type": "stream",
     "text": [
      "Using device: cuda\n"
     ]
    }
   ],
   "source": [
    "device = torch.device(\"cuda\" if torch.cuda.is_available() else \"cpu\")\n",
    "print(f'Using device: {device}')"
   ]
  },
  {
   "cell_type": "code",
   "execution_count": 21,
   "metadata": {},
   "outputs": [
    {
     "name": "stderr",
     "output_type": "stream",
     "text": [
      "/home/spyros/miniconda3/lib/python3.11/site-packages/torchvision/models/_utils.py:208: UserWarning: The parameter 'pretrained' is deprecated since 0.13 and may be removed in the future, please use 'weights' instead.\n",
      "  warnings.warn(\n",
      "/home/spyros/miniconda3/lib/python3.11/site-packages/torchvision/models/_utils.py:223: UserWarning: Arguments other than a weight enum or `None` for 'weights' are deprecated since 0.13 and may be removed in the future. The current behavior is equivalent to passing `weights=DenseNet121_Weights.IMAGENET1K_V1`. You can also use `weights=DenseNet121_Weights.DEFAULT` to get the most up-to-date weights.\n",
      "  warnings.warn(msg)\n"
     ]
    },
    {
     "data": {
      "text/plain": [
       "DenseNet(\n",
       "  (features): Sequential(\n",
       "    (conv0): Conv2d(3, 64, kernel_size=(7, 7), stride=(2, 2), padding=(3, 3), bias=False)\n",
       "    (norm0): BatchNorm2d(64, eps=1e-05, momentum=0.1, affine=True, track_running_stats=True)\n",
       "    (relu0): ReLU(inplace=True)\n",
       "    (pool0): MaxPool2d(kernel_size=3, stride=2, padding=1, dilation=1, ceil_mode=False)\n",
       "    (denseblock1): _DenseBlock(\n",
       "      (denselayer1): _DenseLayer(\n",
       "        (norm1): BatchNorm2d(64, eps=1e-05, momentum=0.1, affine=True, track_running_stats=True)\n",
       "        (relu1): ReLU(inplace=True)\n",
       "        (conv1): Conv2d(64, 128, kernel_size=(1, 1), stride=(1, 1), bias=False)\n",
       "        (norm2): BatchNorm2d(128, eps=1e-05, momentum=0.1, affine=True, track_running_stats=True)\n",
       "        (relu2): ReLU(inplace=True)\n",
       "        (conv2): Conv2d(128, 32, kernel_size=(3, 3), stride=(1, 1), padding=(1, 1), bias=False)\n",
       "      )\n",
       "      (denselayer2): _DenseLayer(\n",
       "        (norm1): BatchNorm2d(96, eps=1e-05, momentum=0.1, affine=True, track_running_stats=True)\n",
       "        (relu1): ReLU(inplace=True)\n",
       "        (conv1): Conv2d(96, 128, kernel_size=(1, 1), stride=(1, 1), bias=False)\n",
       "        (norm2): BatchNorm2d(128, eps=1e-05, momentum=0.1, affine=True, track_running_stats=True)\n",
       "        (relu2): ReLU(inplace=True)\n",
       "        (conv2): Conv2d(128, 32, kernel_size=(3, 3), stride=(1, 1), padding=(1, 1), bias=False)\n",
       "      )\n",
       "      (denselayer3): _DenseLayer(\n",
       "        (norm1): BatchNorm2d(128, eps=1e-05, momentum=0.1, affine=True, track_running_stats=True)\n",
       "        (relu1): ReLU(inplace=True)\n",
       "        (conv1): Conv2d(128, 128, kernel_size=(1, 1), stride=(1, 1), bias=False)\n",
       "        (norm2): BatchNorm2d(128, eps=1e-05, momentum=0.1, affine=True, track_running_stats=True)\n",
       "        (relu2): ReLU(inplace=True)\n",
       "        (conv2): Conv2d(128, 32, kernel_size=(3, 3), stride=(1, 1), padding=(1, 1), bias=False)\n",
       "      )\n",
       "      (denselayer4): _DenseLayer(\n",
       "        (norm1): BatchNorm2d(160, eps=1e-05, momentum=0.1, affine=True, track_running_stats=True)\n",
       "        (relu1): ReLU(inplace=True)\n",
       "        (conv1): Conv2d(160, 128, kernel_size=(1, 1), stride=(1, 1), bias=False)\n",
       "        (norm2): BatchNorm2d(128, eps=1e-05, momentum=0.1, affine=True, track_running_stats=True)\n",
       "        (relu2): ReLU(inplace=True)\n",
       "        (conv2): Conv2d(128, 32, kernel_size=(3, 3), stride=(1, 1), padding=(1, 1), bias=False)\n",
       "      )\n",
       "      (denselayer5): _DenseLayer(\n",
       "        (norm1): BatchNorm2d(192, eps=1e-05, momentum=0.1, affine=True, track_running_stats=True)\n",
       "        (relu1): ReLU(inplace=True)\n",
       "        (conv1): Conv2d(192, 128, kernel_size=(1, 1), stride=(1, 1), bias=False)\n",
       "        (norm2): BatchNorm2d(128, eps=1e-05, momentum=0.1, affine=True, track_running_stats=True)\n",
       "        (relu2): ReLU(inplace=True)\n",
       "        (conv2): Conv2d(128, 32, kernel_size=(3, 3), stride=(1, 1), padding=(1, 1), bias=False)\n",
       "      )\n",
       "      (denselayer6): _DenseLayer(\n",
       "        (norm1): BatchNorm2d(224, eps=1e-05, momentum=0.1, affine=True, track_running_stats=True)\n",
       "        (relu1): ReLU(inplace=True)\n",
       "        (conv1): Conv2d(224, 128, kernel_size=(1, 1), stride=(1, 1), bias=False)\n",
       "        (norm2): BatchNorm2d(128, eps=1e-05, momentum=0.1, affine=True, track_running_stats=True)\n",
       "        (relu2): ReLU(inplace=True)\n",
       "        (conv2): Conv2d(128, 32, kernel_size=(3, 3), stride=(1, 1), padding=(1, 1), bias=False)\n",
       "      )\n",
       "    )\n",
       "    (transition1): _Transition(\n",
       "      (norm): BatchNorm2d(256, eps=1e-05, momentum=0.1, affine=True, track_running_stats=True)\n",
       "      (relu): ReLU(inplace=True)\n",
       "      (conv): Conv2d(256, 128, kernel_size=(1, 1), stride=(1, 1), bias=False)\n",
       "      (pool): AvgPool2d(kernel_size=2, stride=2, padding=0)\n",
       "    )\n",
       "    (denseblock2): _DenseBlock(\n",
       "      (denselayer1): _DenseLayer(\n",
       "        (norm1): BatchNorm2d(128, eps=1e-05, momentum=0.1, affine=True, track_running_stats=True)\n",
       "        (relu1): ReLU(inplace=True)\n",
       "        (conv1): Conv2d(128, 128, kernel_size=(1, 1), stride=(1, 1), bias=False)\n",
       "        (norm2): BatchNorm2d(128, eps=1e-05, momentum=0.1, affine=True, track_running_stats=True)\n",
       "        (relu2): ReLU(inplace=True)\n",
       "        (conv2): Conv2d(128, 32, kernel_size=(3, 3), stride=(1, 1), padding=(1, 1), bias=False)\n",
       "      )\n",
       "      (denselayer2): _DenseLayer(\n",
       "        (norm1): BatchNorm2d(160, eps=1e-05, momentum=0.1, affine=True, track_running_stats=True)\n",
       "        (relu1): ReLU(inplace=True)\n",
       "        (conv1): Conv2d(160, 128, kernel_size=(1, 1), stride=(1, 1), bias=False)\n",
       "        (norm2): BatchNorm2d(128, eps=1e-05, momentum=0.1, affine=True, track_running_stats=True)\n",
       "        (relu2): ReLU(inplace=True)\n",
       "        (conv2): Conv2d(128, 32, kernel_size=(3, 3), stride=(1, 1), padding=(1, 1), bias=False)\n",
       "      )\n",
       "      (denselayer3): _DenseLayer(\n",
       "        (norm1): BatchNorm2d(192, eps=1e-05, momentum=0.1, affine=True, track_running_stats=True)\n",
       "        (relu1): ReLU(inplace=True)\n",
       "        (conv1): Conv2d(192, 128, kernel_size=(1, 1), stride=(1, 1), bias=False)\n",
       "        (norm2): BatchNorm2d(128, eps=1e-05, momentum=0.1, affine=True, track_running_stats=True)\n",
       "        (relu2): ReLU(inplace=True)\n",
       "        (conv2): Conv2d(128, 32, kernel_size=(3, 3), stride=(1, 1), padding=(1, 1), bias=False)\n",
       "      )\n",
       "      (denselayer4): _DenseLayer(\n",
       "        (norm1): BatchNorm2d(224, eps=1e-05, momentum=0.1, affine=True, track_running_stats=True)\n",
       "        (relu1): ReLU(inplace=True)\n",
       "        (conv1): Conv2d(224, 128, kernel_size=(1, 1), stride=(1, 1), bias=False)\n",
       "        (norm2): BatchNorm2d(128, eps=1e-05, momentum=0.1, affine=True, track_running_stats=True)\n",
       "        (relu2): ReLU(inplace=True)\n",
       "        (conv2): Conv2d(128, 32, kernel_size=(3, 3), stride=(1, 1), padding=(1, 1), bias=False)\n",
       "      )\n",
       "      (denselayer5): _DenseLayer(\n",
       "        (norm1): BatchNorm2d(256, eps=1e-05, momentum=0.1, affine=True, track_running_stats=True)\n",
       "        (relu1): ReLU(inplace=True)\n",
       "        (conv1): Conv2d(256, 128, kernel_size=(1, 1), stride=(1, 1), bias=False)\n",
       "        (norm2): BatchNorm2d(128, eps=1e-05, momentum=0.1, affine=True, track_running_stats=True)\n",
       "        (relu2): ReLU(inplace=True)\n",
       "        (conv2): Conv2d(128, 32, kernel_size=(3, 3), stride=(1, 1), padding=(1, 1), bias=False)\n",
       "      )\n",
       "      (denselayer6): _DenseLayer(\n",
       "        (norm1): BatchNorm2d(288, eps=1e-05, momentum=0.1, affine=True, track_running_stats=True)\n",
       "        (relu1): ReLU(inplace=True)\n",
       "        (conv1): Conv2d(288, 128, kernel_size=(1, 1), stride=(1, 1), bias=False)\n",
       "        (norm2): BatchNorm2d(128, eps=1e-05, momentum=0.1, affine=True, track_running_stats=True)\n",
       "        (relu2): ReLU(inplace=True)\n",
       "        (conv2): Conv2d(128, 32, kernel_size=(3, 3), stride=(1, 1), padding=(1, 1), bias=False)\n",
       "      )\n",
       "      (denselayer7): _DenseLayer(\n",
       "        (norm1): BatchNorm2d(320, eps=1e-05, momentum=0.1, affine=True, track_running_stats=True)\n",
       "        (relu1): ReLU(inplace=True)\n",
       "        (conv1): Conv2d(320, 128, kernel_size=(1, 1), stride=(1, 1), bias=False)\n",
       "        (norm2): BatchNorm2d(128, eps=1e-05, momentum=0.1, affine=True, track_running_stats=True)\n",
       "        (relu2): ReLU(inplace=True)\n",
       "        (conv2): Conv2d(128, 32, kernel_size=(3, 3), stride=(1, 1), padding=(1, 1), bias=False)\n",
       "      )\n",
       "      (denselayer8): _DenseLayer(\n",
       "        (norm1): BatchNorm2d(352, eps=1e-05, momentum=0.1, affine=True, track_running_stats=True)\n",
       "        (relu1): ReLU(inplace=True)\n",
       "        (conv1): Conv2d(352, 128, kernel_size=(1, 1), stride=(1, 1), bias=False)\n",
       "        (norm2): BatchNorm2d(128, eps=1e-05, momentum=0.1, affine=True, track_running_stats=True)\n",
       "        (relu2): ReLU(inplace=True)\n",
       "        (conv2): Conv2d(128, 32, kernel_size=(3, 3), stride=(1, 1), padding=(1, 1), bias=False)\n",
       "      )\n",
       "      (denselayer9): _DenseLayer(\n",
       "        (norm1): BatchNorm2d(384, eps=1e-05, momentum=0.1, affine=True, track_running_stats=True)\n",
       "        (relu1): ReLU(inplace=True)\n",
       "        (conv1): Conv2d(384, 128, kernel_size=(1, 1), stride=(1, 1), bias=False)\n",
       "        (norm2): BatchNorm2d(128, eps=1e-05, momentum=0.1, affine=True, track_running_stats=True)\n",
       "        (relu2): ReLU(inplace=True)\n",
       "        (conv2): Conv2d(128, 32, kernel_size=(3, 3), stride=(1, 1), padding=(1, 1), bias=False)\n",
       "      )\n",
       "      (denselayer10): _DenseLayer(\n",
       "        (norm1): BatchNorm2d(416, eps=1e-05, momentum=0.1, affine=True, track_running_stats=True)\n",
       "        (relu1): ReLU(inplace=True)\n",
       "        (conv1): Conv2d(416, 128, kernel_size=(1, 1), stride=(1, 1), bias=False)\n",
       "        (norm2): BatchNorm2d(128, eps=1e-05, momentum=0.1, affine=True, track_running_stats=True)\n",
       "        (relu2): ReLU(inplace=True)\n",
       "        (conv2): Conv2d(128, 32, kernel_size=(3, 3), stride=(1, 1), padding=(1, 1), bias=False)\n",
       "      )\n",
       "      (denselayer11): _DenseLayer(\n",
       "        (norm1): BatchNorm2d(448, eps=1e-05, momentum=0.1, affine=True, track_running_stats=True)\n",
       "        (relu1): ReLU(inplace=True)\n",
       "        (conv1): Conv2d(448, 128, kernel_size=(1, 1), stride=(1, 1), bias=False)\n",
       "        (norm2): BatchNorm2d(128, eps=1e-05, momentum=0.1, affine=True, track_running_stats=True)\n",
       "        (relu2): ReLU(inplace=True)\n",
       "        (conv2): Conv2d(128, 32, kernel_size=(3, 3), stride=(1, 1), padding=(1, 1), bias=False)\n",
       "      )\n",
       "      (denselayer12): _DenseLayer(\n",
       "        (norm1): BatchNorm2d(480, eps=1e-05, momentum=0.1, affine=True, track_running_stats=True)\n",
       "        (relu1): ReLU(inplace=True)\n",
       "        (conv1): Conv2d(480, 128, kernel_size=(1, 1), stride=(1, 1), bias=False)\n",
       "        (norm2): BatchNorm2d(128, eps=1e-05, momentum=0.1, affine=True, track_running_stats=True)\n",
       "        (relu2): ReLU(inplace=True)\n",
       "        (conv2): Conv2d(128, 32, kernel_size=(3, 3), stride=(1, 1), padding=(1, 1), bias=False)\n",
       "      )\n",
       "    )\n",
       "    (transition2): _Transition(\n",
       "      (norm): BatchNorm2d(512, eps=1e-05, momentum=0.1, affine=True, track_running_stats=True)\n",
       "      (relu): ReLU(inplace=True)\n",
       "      (conv): Conv2d(512, 256, kernel_size=(1, 1), stride=(1, 1), bias=False)\n",
       "      (pool): AvgPool2d(kernel_size=2, stride=2, padding=0)\n",
       "    )\n",
       "    (denseblock3): _DenseBlock(\n",
       "      (denselayer1): _DenseLayer(\n",
       "        (norm1): BatchNorm2d(256, eps=1e-05, momentum=0.1, affine=True, track_running_stats=True)\n",
       "        (relu1): ReLU(inplace=True)\n",
       "        (conv1): Conv2d(256, 128, kernel_size=(1, 1), stride=(1, 1), bias=False)\n",
       "        (norm2): BatchNorm2d(128, eps=1e-05, momentum=0.1, affine=True, track_running_stats=True)\n",
       "        (relu2): ReLU(inplace=True)\n",
       "        (conv2): Conv2d(128, 32, kernel_size=(3, 3), stride=(1, 1), padding=(1, 1), bias=False)\n",
       "      )\n",
       "      (denselayer2): _DenseLayer(\n",
       "        (norm1): BatchNorm2d(288, eps=1e-05, momentum=0.1, affine=True, track_running_stats=True)\n",
       "        (relu1): ReLU(inplace=True)\n",
       "        (conv1): Conv2d(288, 128, kernel_size=(1, 1), stride=(1, 1), bias=False)\n",
       "        (norm2): BatchNorm2d(128, eps=1e-05, momentum=0.1, affine=True, track_running_stats=True)\n",
       "        (relu2): ReLU(inplace=True)\n",
       "        (conv2): Conv2d(128, 32, kernel_size=(3, 3), stride=(1, 1), padding=(1, 1), bias=False)\n",
       "      )\n",
       "      (denselayer3): _DenseLayer(\n",
       "        (norm1): BatchNorm2d(320, eps=1e-05, momentum=0.1, affine=True, track_running_stats=True)\n",
       "        (relu1): ReLU(inplace=True)\n",
       "        (conv1): Conv2d(320, 128, kernel_size=(1, 1), stride=(1, 1), bias=False)\n",
       "        (norm2): BatchNorm2d(128, eps=1e-05, momentum=0.1, affine=True, track_running_stats=True)\n",
       "        (relu2): ReLU(inplace=True)\n",
       "        (conv2): Conv2d(128, 32, kernel_size=(3, 3), stride=(1, 1), padding=(1, 1), bias=False)\n",
       "      )\n",
       "      (denselayer4): _DenseLayer(\n",
       "        (norm1): BatchNorm2d(352, eps=1e-05, momentum=0.1, affine=True, track_running_stats=True)\n",
       "        (relu1): ReLU(inplace=True)\n",
       "        (conv1): Conv2d(352, 128, kernel_size=(1, 1), stride=(1, 1), bias=False)\n",
       "        (norm2): BatchNorm2d(128, eps=1e-05, momentum=0.1, affine=True, track_running_stats=True)\n",
       "        (relu2): ReLU(inplace=True)\n",
       "        (conv2): Conv2d(128, 32, kernel_size=(3, 3), stride=(1, 1), padding=(1, 1), bias=False)\n",
       "      )\n",
       "      (denselayer5): _DenseLayer(\n",
       "        (norm1): BatchNorm2d(384, eps=1e-05, momentum=0.1, affine=True, track_running_stats=True)\n",
       "        (relu1): ReLU(inplace=True)\n",
       "        (conv1): Conv2d(384, 128, kernel_size=(1, 1), stride=(1, 1), bias=False)\n",
       "        (norm2): BatchNorm2d(128, eps=1e-05, momentum=0.1, affine=True, track_running_stats=True)\n",
       "        (relu2): ReLU(inplace=True)\n",
       "        (conv2): Conv2d(128, 32, kernel_size=(3, 3), stride=(1, 1), padding=(1, 1), bias=False)\n",
       "      )\n",
       "      (denselayer6): _DenseLayer(\n",
       "        (norm1): BatchNorm2d(416, eps=1e-05, momentum=0.1, affine=True, track_running_stats=True)\n",
       "        (relu1): ReLU(inplace=True)\n",
       "        (conv1): Conv2d(416, 128, kernel_size=(1, 1), stride=(1, 1), bias=False)\n",
       "        (norm2): BatchNorm2d(128, eps=1e-05, momentum=0.1, affine=True, track_running_stats=True)\n",
       "        (relu2): ReLU(inplace=True)\n",
       "        (conv2): Conv2d(128, 32, kernel_size=(3, 3), stride=(1, 1), padding=(1, 1), bias=False)\n",
       "      )\n",
       "      (denselayer7): _DenseLayer(\n",
       "        (norm1): BatchNorm2d(448, eps=1e-05, momentum=0.1, affine=True, track_running_stats=True)\n",
       "        (relu1): ReLU(inplace=True)\n",
       "        (conv1): Conv2d(448, 128, kernel_size=(1, 1), stride=(1, 1), bias=False)\n",
       "        (norm2): BatchNorm2d(128, eps=1e-05, momentum=0.1, affine=True, track_running_stats=True)\n",
       "        (relu2): ReLU(inplace=True)\n",
       "        (conv2): Conv2d(128, 32, kernel_size=(3, 3), stride=(1, 1), padding=(1, 1), bias=False)\n",
       "      )\n",
       "      (denselayer8): _DenseLayer(\n",
       "        (norm1): BatchNorm2d(480, eps=1e-05, momentum=0.1, affine=True, track_running_stats=True)\n",
       "        (relu1): ReLU(inplace=True)\n",
       "        (conv1): Conv2d(480, 128, kernel_size=(1, 1), stride=(1, 1), bias=False)\n",
       "        (norm2): BatchNorm2d(128, eps=1e-05, momentum=0.1, affine=True, track_running_stats=True)\n",
       "        (relu2): ReLU(inplace=True)\n",
       "        (conv2): Conv2d(128, 32, kernel_size=(3, 3), stride=(1, 1), padding=(1, 1), bias=False)\n",
       "      )\n",
       "      (denselayer9): _DenseLayer(\n",
       "        (norm1): BatchNorm2d(512, eps=1e-05, momentum=0.1, affine=True, track_running_stats=True)\n",
       "        (relu1): ReLU(inplace=True)\n",
       "        (conv1): Conv2d(512, 128, kernel_size=(1, 1), stride=(1, 1), bias=False)\n",
       "        (norm2): BatchNorm2d(128, eps=1e-05, momentum=0.1, affine=True, track_running_stats=True)\n",
       "        (relu2): ReLU(inplace=True)\n",
       "        (conv2): Conv2d(128, 32, kernel_size=(3, 3), stride=(1, 1), padding=(1, 1), bias=False)\n",
       "      )\n",
       "      (denselayer10): _DenseLayer(\n",
       "        (norm1): BatchNorm2d(544, eps=1e-05, momentum=0.1, affine=True, track_running_stats=True)\n",
       "        (relu1): ReLU(inplace=True)\n",
       "        (conv1): Conv2d(544, 128, kernel_size=(1, 1), stride=(1, 1), bias=False)\n",
       "        (norm2): BatchNorm2d(128, eps=1e-05, momentum=0.1, affine=True, track_running_stats=True)\n",
       "        (relu2): ReLU(inplace=True)\n",
       "        (conv2): Conv2d(128, 32, kernel_size=(3, 3), stride=(1, 1), padding=(1, 1), bias=False)\n",
       "      )\n",
       "      (denselayer11): _DenseLayer(\n",
       "        (norm1): BatchNorm2d(576, eps=1e-05, momentum=0.1, affine=True, track_running_stats=True)\n",
       "        (relu1): ReLU(inplace=True)\n",
       "        (conv1): Conv2d(576, 128, kernel_size=(1, 1), stride=(1, 1), bias=False)\n",
       "        (norm2): BatchNorm2d(128, eps=1e-05, momentum=0.1, affine=True, track_running_stats=True)\n",
       "        (relu2): ReLU(inplace=True)\n",
       "        (conv2): Conv2d(128, 32, kernel_size=(3, 3), stride=(1, 1), padding=(1, 1), bias=False)\n",
       "      )\n",
       "      (denselayer12): _DenseLayer(\n",
       "        (norm1): BatchNorm2d(608, eps=1e-05, momentum=0.1, affine=True, track_running_stats=True)\n",
       "        (relu1): ReLU(inplace=True)\n",
       "        (conv1): Conv2d(608, 128, kernel_size=(1, 1), stride=(1, 1), bias=False)\n",
       "        (norm2): BatchNorm2d(128, eps=1e-05, momentum=0.1, affine=True, track_running_stats=True)\n",
       "        (relu2): ReLU(inplace=True)\n",
       "        (conv2): Conv2d(128, 32, kernel_size=(3, 3), stride=(1, 1), padding=(1, 1), bias=False)\n",
       "      )\n",
       "      (denselayer13): _DenseLayer(\n",
       "        (norm1): BatchNorm2d(640, eps=1e-05, momentum=0.1, affine=True, track_running_stats=True)\n",
       "        (relu1): ReLU(inplace=True)\n",
       "        (conv1): Conv2d(640, 128, kernel_size=(1, 1), stride=(1, 1), bias=False)\n",
       "        (norm2): BatchNorm2d(128, eps=1e-05, momentum=0.1, affine=True, track_running_stats=True)\n",
       "        (relu2): ReLU(inplace=True)\n",
       "        (conv2): Conv2d(128, 32, kernel_size=(3, 3), stride=(1, 1), padding=(1, 1), bias=False)\n",
       "      )\n",
       "      (denselayer14): _DenseLayer(\n",
       "        (norm1): BatchNorm2d(672, eps=1e-05, momentum=0.1, affine=True, track_running_stats=True)\n",
       "        (relu1): ReLU(inplace=True)\n",
       "        (conv1): Conv2d(672, 128, kernel_size=(1, 1), stride=(1, 1), bias=False)\n",
       "        (norm2): BatchNorm2d(128, eps=1e-05, momentum=0.1, affine=True, track_running_stats=True)\n",
       "        (relu2): ReLU(inplace=True)\n",
       "        (conv2): Conv2d(128, 32, kernel_size=(3, 3), stride=(1, 1), padding=(1, 1), bias=False)\n",
       "      )\n",
       "      (denselayer15): _DenseLayer(\n",
       "        (norm1): BatchNorm2d(704, eps=1e-05, momentum=0.1, affine=True, track_running_stats=True)\n",
       "        (relu1): ReLU(inplace=True)\n",
       "        (conv1): Conv2d(704, 128, kernel_size=(1, 1), stride=(1, 1), bias=False)\n",
       "        (norm2): BatchNorm2d(128, eps=1e-05, momentum=0.1, affine=True, track_running_stats=True)\n",
       "        (relu2): ReLU(inplace=True)\n",
       "        (conv2): Conv2d(128, 32, kernel_size=(3, 3), stride=(1, 1), padding=(1, 1), bias=False)\n",
       "      )\n",
       "      (denselayer16): _DenseLayer(\n",
       "        (norm1): BatchNorm2d(736, eps=1e-05, momentum=0.1, affine=True, track_running_stats=True)\n",
       "        (relu1): ReLU(inplace=True)\n",
       "        (conv1): Conv2d(736, 128, kernel_size=(1, 1), stride=(1, 1), bias=False)\n",
       "        (norm2): BatchNorm2d(128, eps=1e-05, momentum=0.1, affine=True, track_running_stats=True)\n",
       "        (relu2): ReLU(inplace=True)\n",
       "        (conv2): Conv2d(128, 32, kernel_size=(3, 3), stride=(1, 1), padding=(1, 1), bias=False)\n",
       "      )\n",
       "      (denselayer17): _DenseLayer(\n",
       "        (norm1): BatchNorm2d(768, eps=1e-05, momentum=0.1, affine=True, track_running_stats=True)\n",
       "        (relu1): ReLU(inplace=True)\n",
       "        (conv1): Conv2d(768, 128, kernel_size=(1, 1), stride=(1, 1), bias=False)\n",
       "        (norm2): BatchNorm2d(128, eps=1e-05, momentum=0.1, affine=True, track_running_stats=True)\n",
       "        (relu2): ReLU(inplace=True)\n",
       "        (conv2): Conv2d(128, 32, kernel_size=(3, 3), stride=(1, 1), padding=(1, 1), bias=False)\n",
       "      )\n",
       "      (denselayer18): _DenseLayer(\n",
       "        (norm1): BatchNorm2d(800, eps=1e-05, momentum=0.1, affine=True, track_running_stats=True)\n",
       "        (relu1): ReLU(inplace=True)\n",
       "        (conv1): Conv2d(800, 128, kernel_size=(1, 1), stride=(1, 1), bias=False)\n",
       "        (norm2): BatchNorm2d(128, eps=1e-05, momentum=0.1, affine=True, track_running_stats=True)\n",
       "        (relu2): ReLU(inplace=True)\n",
       "        (conv2): Conv2d(128, 32, kernel_size=(3, 3), stride=(1, 1), padding=(1, 1), bias=False)\n",
       "      )\n",
       "      (denselayer19): _DenseLayer(\n",
       "        (norm1): BatchNorm2d(832, eps=1e-05, momentum=0.1, affine=True, track_running_stats=True)\n",
       "        (relu1): ReLU(inplace=True)\n",
       "        (conv1): Conv2d(832, 128, kernel_size=(1, 1), stride=(1, 1), bias=False)\n",
       "        (norm2): BatchNorm2d(128, eps=1e-05, momentum=0.1, affine=True, track_running_stats=True)\n",
       "        (relu2): ReLU(inplace=True)\n",
       "        (conv2): Conv2d(128, 32, kernel_size=(3, 3), stride=(1, 1), padding=(1, 1), bias=False)\n",
       "      )\n",
       "      (denselayer20): _DenseLayer(\n",
       "        (norm1): BatchNorm2d(864, eps=1e-05, momentum=0.1, affine=True, track_running_stats=True)\n",
       "        (relu1): ReLU(inplace=True)\n",
       "        (conv1): Conv2d(864, 128, kernel_size=(1, 1), stride=(1, 1), bias=False)\n",
       "        (norm2): BatchNorm2d(128, eps=1e-05, momentum=0.1, affine=True, track_running_stats=True)\n",
       "        (relu2): ReLU(inplace=True)\n",
       "        (conv2): Conv2d(128, 32, kernel_size=(3, 3), stride=(1, 1), padding=(1, 1), bias=False)\n",
       "      )\n",
       "      (denselayer21): _DenseLayer(\n",
       "        (norm1): BatchNorm2d(896, eps=1e-05, momentum=0.1, affine=True, track_running_stats=True)\n",
       "        (relu1): ReLU(inplace=True)\n",
       "        (conv1): Conv2d(896, 128, kernel_size=(1, 1), stride=(1, 1), bias=False)\n",
       "        (norm2): BatchNorm2d(128, eps=1e-05, momentum=0.1, affine=True, track_running_stats=True)\n",
       "        (relu2): ReLU(inplace=True)\n",
       "        (conv2): Conv2d(128, 32, kernel_size=(3, 3), stride=(1, 1), padding=(1, 1), bias=False)\n",
       "      )\n",
       "      (denselayer22): _DenseLayer(\n",
       "        (norm1): BatchNorm2d(928, eps=1e-05, momentum=0.1, affine=True, track_running_stats=True)\n",
       "        (relu1): ReLU(inplace=True)\n",
       "        (conv1): Conv2d(928, 128, kernel_size=(1, 1), stride=(1, 1), bias=False)\n",
       "        (norm2): BatchNorm2d(128, eps=1e-05, momentum=0.1, affine=True, track_running_stats=True)\n",
       "        (relu2): ReLU(inplace=True)\n",
       "        (conv2): Conv2d(128, 32, kernel_size=(3, 3), stride=(1, 1), padding=(1, 1), bias=False)\n",
       "      )\n",
       "      (denselayer23): _DenseLayer(\n",
       "        (norm1): BatchNorm2d(960, eps=1e-05, momentum=0.1, affine=True, track_running_stats=True)\n",
       "        (relu1): ReLU(inplace=True)\n",
       "        (conv1): Conv2d(960, 128, kernel_size=(1, 1), stride=(1, 1), bias=False)\n",
       "        (norm2): BatchNorm2d(128, eps=1e-05, momentum=0.1, affine=True, track_running_stats=True)\n",
       "        (relu2): ReLU(inplace=True)\n",
       "        (conv2): Conv2d(128, 32, kernel_size=(3, 3), stride=(1, 1), padding=(1, 1), bias=False)\n",
       "      )\n",
       "      (denselayer24): _DenseLayer(\n",
       "        (norm1): BatchNorm2d(992, eps=1e-05, momentum=0.1, affine=True, track_running_stats=True)\n",
       "        (relu1): ReLU(inplace=True)\n",
       "        (conv1): Conv2d(992, 128, kernel_size=(1, 1), stride=(1, 1), bias=False)\n",
       "        (norm2): BatchNorm2d(128, eps=1e-05, momentum=0.1, affine=True, track_running_stats=True)\n",
       "        (relu2): ReLU(inplace=True)\n",
       "        (conv2): Conv2d(128, 32, kernel_size=(3, 3), stride=(1, 1), padding=(1, 1), bias=False)\n",
       "      )\n",
       "    )\n",
       "    (transition3): _Transition(\n",
       "      (norm): BatchNorm2d(1024, eps=1e-05, momentum=0.1, affine=True, track_running_stats=True)\n",
       "      (relu): ReLU(inplace=True)\n",
       "      (conv): Conv2d(1024, 512, kernel_size=(1, 1), stride=(1, 1), bias=False)\n",
       "      (pool): AvgPool2d(kernel_size=2, stride=2, padding=0)\n",
       "    )\n",
       "    (denseblock4): _DenseBlock(\n",
       "      (denselayer1): _DenseLayer(\n",
       "        (norm1): BatchNorm2d(512, eps=1e-05, momentum=0.1, affine=True, track_running_stats=True)\n",
       "        (relu1): ReLU(inplace=True)\n",
       "        (conv1): Conv2d(512, 128, kernel_size=(1, 1), stride=(1, 1), bias=False)\n",
       "        (norm2): BatchNorm2d(128, eps=1e-05, momentum=0.1, affine=True, track_running_stats=True)\n",
       "        (relu2): ReLU(inplace=True)\n",
       "        (conv2): Conv2d(128, 32, kernel_size=(3, 3), stride=(1, 1), padding=(1, 1), bias=False)\n",
       "      )\n",
       "      (denselayer2): _DenseLayer(\n",
       "        (norm1): BatchNorm2d(544, eps=1e-05, momentum=0.1, affine=True, track_running_stats=True)\n",
       "        (relu1): ReLU(inplace=True)\n",
       "        (conv1): Conv2d(544, 128, kernel_size=(1, 1), stride=(1, 1), bias=False)\n",
       "        (norm2): BatchNorm2d(128, eps=1e-05, momentum=0.1, affine=True, track_running_stats=True)\n",
       "        (relu2): ReLU(inplace=True)\n",
       "        (conv2): Conv2d(128, 32, kernel_size=(3, 3), stride=(1, 1), padding=(1, 1), bias=False)\n",
       "      )\n",
       "      (denselayer3): _DenseLayer(\n",
       "        (norm1): BatchNorm2d(576, eps=1e-05, momentum=0.1, affine=True, track_running_stats=True)\n",
       "        (relu1): ReLU(inplace=True)\n",
       "        (conv1): Conv2d(576, 128, kernel_size=(1, 1), stride=(1, 1), bias=False)\n",
       "        (norm2): BatchNorm2d(128, eps=1e-05, momentum=0.1, affine=True, track_running_stats=True)\n",
       "        (relu2): ReLU(inplace=True)\n",
       "        (conv2): Conv2d(128, 32, kernel_size=(3, 3), stride=(1, 1), padding=(1, 1), bias=False)\n",
       "      )\n",
       "      (denselayer4): _DenseLayer(\n",
       "        (norm1): BatchNorm2d(608, eps=1e-05, momentum=0.1, affine=True, track_running_stats=True)\n",
       "        (relu1): ReLU(inplace=True)\n",
       "        (conv1): Conv2d(608, 128, kernel_size=(1, 1), stride=(1, 1), bias=False)\n",
       "        (norm2): BatchNorm2d(128, eps=1e-05, momentum=0.1, affine=True, track_running_stats=True)\n",
       "        (relu2): ReLU(inplace=True)\n",
       "        (conv2): Conv2d(128, 32, kernel_size=(3, 3), stride=(1, 1), padding=(1, 1), bias=False)\n",
       "      )\n",
       "      (denselayer5): _DenseLayer(\n",
       "        (norm1): BatchNorm2d(640, eps=1e-05, momentum=0.1, affine=True, track_running_stats=True)\n",
       "        (relu1): ReLU(inplace=True)\n",
       "        (conv1): Conv2d(640, 128, kernel_size=(1, 1), stride=(1, 1), bias=False)\n",
       "        (norm2): BatchNorm2d(128, eps=1e-05, momentum=0.1, affine=True, track_running_stats=True)\n",
       "        (relu2): ReLU(inplace=True)\n",
       "        (conv2): Conv2d(128, 32, kernel_size=(3, 3), stride=(1, 1), padding=(1, 1), bias=False)\n",
       "      )\n",
       "      (denselayer6): _DenseLayer(\n",
       "        (norm1): BatchNorm2d(672, eps=1e-05, momentum=0.1, affine=True, track_running_stats=True)\n",
       "        (relu1): ReLU(inplace=True)\n",
       "        (conv1): Conv2d(672, 128, kernel_size=(1, 1), stride=(1, 1), bias=False)\n",
       "        (norm2): BatchNorm2d(128, eps=1e-05, momentum=0.1, affine=True, track_running_stats=True)\n",
       "        (relu2): ReLU(inplace=True)\n",
       "        (conv2): Conv2d(128, 32, kernel_size=(3, 3), stride=(1, 1), padding=(1, 1), bias=False)\n",
       "      )\n",
       "      (denselayer7): _DenseLayer(\n",
       "        (norm1): BatchNorm2d(704, eps=1e-05, momentum=0.1, affine=True, track_running_stats=True)\n",
       "        (relu1): ReLU(inplace=True)\n",
       "        (conv1): Conv2d(704, 128, kernel_size=(1, 1), stride=(1, 1), bias=False)\n",
       "        (norm2): BatchNorm2d(128, eps=1e-05, momentum=0.1, affine=True, track_running_stats=True)\n",
       "        (relu2): ReLU(inplace=True)\n",
       "        (conv2): Conv2d(128, 32, kernel_size=(3, 3), stride=(1, 1), padding=(1, 1), bias=False)\n",
       "      )\n",
       "      (denselayer8): _DenseLayer(\n",
       "        (norm1): BatchNorm2d(736, eps=1e-05, momentum=0.1, affine=True, track_running_stats=True)\n",
       "        (relu1): ReLU(inplace=True)\n",
       "        (conv1): Conv2d(736, 128, kernel_size=(1, 1), stride=(1, 1), bias=False)\n",
       "        (norm2): BatchNorm2d(128, eps=1e-05, momentum=0.1, affine=True, track_running_stats=True)\n",
       "        (relu2): ReLU(inplace=True)\n",
       "        (conv2): Conv2d(128, 32, kernel_size=(3, 3), stride=(1, 1), padding=(1, 1), bias=False)\n",
       "      )\n",
       "      (denselayer9): _DenseLayer(\n",
       "        (norm1): BatchNorm2d(768, eps=1e-05, momentum=0.1, affine=True, track_running_stats=True)\n",
       "        (relu1): ReLU(inplace=True)\n",
       "        (conv1): Conv2d(768, 128, kernel_size=(1, 1), stride=(1, 1), bias=False)\n",
       "        (norm2): BatchNorm2d(128, eps=1e-05, momentum=0.1, affine=True, track_running_stats=True)\n",
       "        (relu2): ReLU(inplace=True)\n",
       "        (conv2): Conv2d(128, 32, kernel_size=(3, 3), stride=(1, 1), padding=(1, 1), bias=False)\n",
       "      )\n",
       "      (denselayer10): _DenseLayer(\n",
       "        (norm1): BatchNorm2d(800, eps=1e-05, momentum=0.1, affine=True, track_running_stats=True)\n",
       "        (relu1): ReLU(inplace=True)\n",
       "        (conv1): Conv2d(800, 128, kernel_size=(1, 1), stride=(1, 1), bias=False)\n",
       "        (norm2): BatchNorm2d(128, eps=1e-05, momentum=0.1, affine=True, track_running_stats=True)\n",
       "        (relu2): ReLU(inplace=True)\n",
       "        (conv2): Conv2d(128, 32, kernel_size=(3, 3), stride=(1, 1), padding=(1, 1), bias=False)\n",
       "      )\n",
       "      (denselayer11): _DenseLayer(\n",
       "        (norm1): BatchNorm2d(832, eps=1e-05, momentum=0.1, affine=True, track_running_stats=True)\n",
       "        (relu1): ReLU(inplace=True)\n",
       "        (conv1): Conv2d(832, 128, kernel_size=(1, 1), stride=(1, 1), bias=False)\n",
       "        (norm2): BatchNorm2d(128, eps=1e-05, momentum=0.1, affine=True, track_running_stats=True)\n",
       "        (relu2): ReLU(inplace=True)\n",
       "        (conv2): Conv2d(128, 32, kernel_size=(3, 3), stride=(1, 1), padding=(1, 1), bias=False)\n",
       "      )\n",
       "      (denselayer12): _DenseLayer(\n",
       "        (norm1): BatchNorm2d(864, eps=1e-05, momentum=0.1, affine=True, track_running_stats=True)\n",
       "        (relu1): ReLU(inplace=True)\n",
       "        (conv1): Conv2d(864, 128, kernel_size=(1, 1), stride=(1, 1), bias=False)\n",
       "        (norm2): BatchNorm2d(128, eps=1e-05, momentum=0.1, affine=True, track_running_stats=True)\n",
       "        (relu2): ReLU(inplace=True)\n",
       "        (conv2): Conv2d(128, 32, kernel_size=(3, 3), stride=(1, 1), padding=(1, 1), bias=False)\n",
       "      )\n",
       "      (denselayer13): _DenseLayer(\n",
       "        (norm1): BatchNorm2d(896, eps=1e-05, momentum=0.1, affine=True, track_running_stats=True)\n",
       "        (relu1): ReLU(inplace=True)\n",
       "        (conv1): Conv2d(896, 128, kernel_size=(1, 1), stride=(1, 1), bias=False)\n",
       "        (norm2): BatchNorm2d(128, eps=1e-05, momentum=0.1, affine=True, track_running_stats=True)\n",
       "        (relu2): ReLU(inplace=True)\n",
       "        (conv2): Conv2d(128, 32, kernel_size=(3, 3), stride=(1, 1), padding=(1, 1), bias=False)\n",
       "      )\n",
       "      (denselayer14): _DenseLayer(\n",
       "        (norm1): BatchNorm2d(928, eps=1e-05, momentum=0.1, affine=True, track_running_stats=True)\n",
       "        (relu1): ReLU(inplace=True)\n",
       "        (conv1): Conv2d(928, 128, kernel_size=(1, 1), stride=(1, 1), bias=False)\n",
       "        (norm2): BatchNorm2d(128, eps=1e-05, momentum=0.1, affine=True, track_running_stats=True)\n",
       "        (relu2): ReLU(inplace=True)\n",
       "        (conv2): Conv2d(128, 32, kernel_size=(3, 3), stride=(1, 1), padding=(1, 1), bias=False)\n",
       "      )\n",
       "      (denselayer15): _DenseLayer(\n",
       "        (norm1): BatchNorm2d(960, eps=1e-05, momentum=0.1, affine=True, track_running_stats=True)\n",
       "        (relu1): ReLU(inplace=True)\n",
       "        (conv1): Conv2d(960, 128, kernel_size=(1, 1), stride=(1, 1), bias=False)\n",
       "        (norm2): BatchNorm2d(128, eps=1e-05, momentum=0.1, affine=True, track_running_stats=True)\n",
       "        (relu2): ReLU(inplace=True)\n",
       "        (conv2): Conv2d(128, 32, kernel_size=(3, 3), stride=(1, 1), padding=(1, 1), bias=False)\n",
       "      )\n",
       "      (denselayer16): _DenseLayer(\n",
       "        (norm1): BatchNorm2d(992, eps=1e-05, momentum=0.1, affine=True, track_running_stats=True)\n",
       "        (relu1): ReLU(inplace=True)\n",
       "        (conv1): Conv2d(992, 128, kernel_size=(1, 1), stride=(1, 1), bias=False)\n",
       "        (norm2): BatchNorm2d(128, eps=1e-05, momentum=0.1, affine=True, track_running_stats=True)\n",
       "        (relu2): ReLU(inplace=True)\n",
       "        (conv2): Conv2d(128, 32, kernel_size=(3, 3), stride=(1, 1), padding=(1, 1), bias=False)\n",
       "      )\n",
       "    )\n",
       "    (norm5): BatchNorm2d(1024, eps=1e-05, momentum=0.1, affine=True, track_running_stats=True)\n",
       "  )\n",
       "  (classifier): Linear(in_features=1024, out_features=7, bias=True)\n",
       ")"
      ]
     },
     "execution_count": 21,
     "metadata": {},
     "output_type": "execute_result"
    }
   ],
   "source": [
    "model_temp = 'densenet_pret'\n",
    "num_classes = 7\n",
    "feature_extract = False\n",
    "model_des = Model_functions.initialise_model(model_temp, num_classes, feature_extract, use_pretrained=True)\n",
    "model_des.to(device)"
   ]
  },
  {
   "cell_type": "code",
   "execution_count": 22,
   "metadata": {},
   "outputs": [],
   "source": [
    "criterion = nn.CrossEntropyLoss().to(device)\n",
    "optimizer = torch.optim.Adam(model_des.parameters(), lr=1e-3)"
   ]
  },
  {
   "cell_type": "code",
   "execution_count": 23,
   "metadata": {},
   "outputs": [
    {
     "name": "stdout",
     "output_type": "stream",
     "text": [
      "==========================================================================================\n",
      "Layer (type:depth-idx)                   Output Shape              Param #\n",
      "==========================================================================================\n",
      "├─Sequential: 1-1                        [-1, 1024, 7, 7]          --\n",
      "|    └─Conv2d: 2-1                       [-1, 64, 112, 112]        9,408\n",
      "|    └─BatchNorm2d: 2-2                  [-1, 64, 112, 112]        128\n",
      "|    └─ReLU: 2-3                         [-1, 64, 112, 112]        --\n",
      "|    └─MaxPool2d: 2-4                    [-1, 64, 56, 56]          --\n",
      "|    └─_DenseBlock: 2-5                  [-1, 256, 56, 56]         --\n",
      "|    |    └─_DenseLayer: 3-1             [-1, 32, 56, 56]          45,440\n",
      "|    |    └─_DenseLayer: 3-2             [-1, 32, 56, 56]          49,600\n",
      "|    |    └─_DenseLayer: 3-3             [-1, 32, 56, 56]          53,760\n",
      "|    |    └─_DenseLayer: 3-4             [-1, 32, 56, 56]          57,920\n",
      "|    |    └─_DenseLayer: 3-5             [-1, 32, 56, 56]          62,080\n",
      "|    |    └─_DenseLayer: 3-6             [-1, 32, 56, 56]          66,240\n",
      "|    └─_Transition: 2-6                  [-1, 128, 28, 28]         --\n",
      "|    |    └─BatchNorm2d: 3-7             [-1, 256, 56, 56]         512\n",
      "|    |    └─ReLU: 3-8                    [-1, 256, 56, 56]         --\n",
      "|    |    └─Conv2d: 3-9                  [-1, 128, 56, 56]         32,768\n",
      "|    |    └─AvgPool2d: 3-10              [-1, 128, 28, 28]         --\n",
      "|    └─_DenseBlock: 2-7                  [-1, 512, 28, 28]         --\n",
      "|    |    └─_DenseLayer: 3-11            [-1, 32, 28, 28]          53,760\n",
      "|    |    └─_DenseLayer: 3-12            [-1, 32, 28, 28]          57,920\n",
      "|    |    └─_DenseLayer: 3-13            [-1, 32, 28, 28]          62,080\n",
      "|    |    └─_DenseLayer: 3-14            [-1, 32, 28, 28]          66,240\n",
      "|    |    └─_DenseLayer: 3-15            [-1, 32, 28, 28]          70,400\n",
      "|    |    └─_DenseLayer: 3-16            [-1, 32, 28, 28]          74,560\n",
      "|    |    └─_DenseLayer: 3-17            [-1, 32, 28, 28]          78,720\n",
      "|    |    └─_DenseLayer: 3-18            [-1, 32, 28, 28]          82,880\n",
      "|    |    └─_DenseLayer: 3-19            [-1, 32, 28, 28]          87,040\n",
      "|    |    └─_DenseLayer: 3-20            [-1, 32, 28, 28]          91,200\n",
      "|    |    └─_DenseLayer: 3-21            [-1, 32, 28, 28]          95,360\n",
      "|    |    └─_DenseLayer: 3-22            [-1, 32, 28, 28]          99,520\n",
      "|    └─_Transition: 2-8                  [-1, 256, 14, 14]         --\n",
      "|    |    └─BatchNorm2d: 3-23            [-1, 512, 28, 28]         1,024\n",
      "|    |    └─ReLU: 3-24                   [-1, 512, 28, 28]         --\n",
      "|    |    └─Conv2d: 3-25                 [-1, 256, 28, 28]         131,072\n",
      "|    |    └─AvgPool2d: 3-26              [-1, 256, 14, 14]         --\n",
      "|    └─_DenseBlock: 2-9                  [-1, 1024, 14, 14]        --\n",
      "|    |    └─_DenseLayer: 3-27            [-1, 32, 14, 14]          70,400\n",
      "|    |    └─_DenseLayer: 3-28            [-1, 32, 14, 14]          74,560\n",
      "|    |    └─_DenseLayer: 3-29            [-1, 32, 14, 14]          78,720\n",
      "|    |    └─_DenseLayer: 3-30            [-1, 32, 14, 14]          82,880\n",
      "|    |    └─_DenseLayer: 3-31            [-1, 32, 14, 14]          87,040\n",
      "|    |    └─_DenseLayer: 3-32            [-1, 32, 14, 14]          91,200\n",
      "|    |    └─_DenseLayer: 3-33            [-1, 32, 14, 14]          95,360\n",
      "|    |    └─_DenseLayer: 3-34            [-1, 32, 14, 14]          99,520\n",
      "|    |    └─_DenseLayer: 3-35            [-1, 32, 14, 14]          103,680\n",
      "|    |    └─_DenseLayer: 3-36            [-1, 32, 14, 14]          107,840\n",
      "|    |    └─_DenseLayer: 3-37            [-1, 32, 14, 14]          112,000\n",
      "|    |    └─_DenseLayer: 3-38            [-1, 32, 14, 14]          116,160\n",
      "|    |    └─_DenseLayer: 3-39            [-1, 32, 14, 14]          120,320\n",
      "|    |    └─_DenseLayer: 3-40            [-1, 32, 14, 14]          124,480\n",
      "|    |    └─_DenseLayer: 3-41            [-1, 32, 14, 14]          128,640\n",
      "|    |    └─_DenseLayer: 3-42            [-1, 32, 14, 14]          132,800\n",
      "|    |    └─_DenseLayer: 3-43            [-1, 32, 14, 14]          136,960\n",
      "|    |    └─_DenseLayer: 3-44            [-1, 32, 14, 14]          141,120\n",
      "|    |    └─_DenseLayer: 3-45            [-1, 32, 14, 14]          145,280\n",
      "|    |    └─_DenseLayer: 3-46            [-1, 32, 14, 14]          149,440\n",
      "|    |    └─_DenseLayer: 3-47            [-1, 32, 14, 14]          153,600\n",
      "|    |    └─_DenseLayer: 3-48            [-1, 32, 14, 14]          157,760\n",
      "|    |    └─_DenseLayer: 3-49            [-1, 32, 14, 14]          161,920\n",
      "|    |    └─_DenseLayer: 3-50            [-1, 32, 14, 14]          166,080\n",
      "|    └─_Transition: 2-10                 [-1, 512, 7, 7]           --\n",
      "|    |    └─BatchNorm2d: 3-51            [-1, 1024, 14, 14]        2,048\n",
      "|    |    └─ReLU: 3-52                   [-1, 1024, 14, 14]        --\n",
      "|    |    └─Conv2d: 3-53                 [-1, 512, 14, 14]         524,288\n",
      "|    |    └─AvgPool2d: 3-54              [-1, 512, 7, 7]           --\n",
      "|    └─_DenseBlock: 2-11                 [-1, 1024, 7, 7]          --\n",
      "|    |    └─_DenseLayer: 3-55            [-1, 32, 7, 7]            103,680\n",
      "|    |    └─_DenseLayer: 3-56            [-1, 32, 7, 7]            107,840\n",
      "|    |    └─_DenseLayer: 3-57            [-1, 32, 7, 7]            112,000\n",
      "|    |    └─_DenseLayer: 3-58            [-1, 32, 7, 7]            116,160\n",
      "|    |    └─_DenseLayer: 3-59            [-1, 32, 7, 7]            120,320\n",
      "|    |    └─_DenseLayer: 3-60            [-1, 32, 7, 7]            124,480\n",
      "|    |    └─_DenseLayer: 3-61            [-1, 32, 7, 7]            128,640\n",
      "|    |    └─_DenseLayer: 3-62            [-1, 32, 7, 7]            132,800\n",
      "|    |    └─_DenseLayer: 3-63            [-1, 32, 7, 7]            136,960\n",
      "|    |    └─_DenseLayer: 3-64            [-1, 32, 7, 7]            141,120\n",
      "|    |    └─_DenseLayer: 3-65            [-1, 32, 7, 7]            145,280\n",
      "|    |    └─_DenseLayer: 3-66            [-1, 32, 7, 7]            149,440\n",
      "|    |    └─_DenseLayer: 3-67            [-1, 32, 7, 7]            153,600\n",
      "|    |    └─_DenseLayer: 3-68            [-1, 32, 7, 7]            157,760\n",
      "|    |    └─_DenseLayer: 3-69            [-1, 32, 7, 7]            161,920\n",
      "|    |    └─_DenseLayer: 3-70            [-1, 32, 7, 7]            166,080\n",
      "|    └─BatchNorm2d: 2-12                 [-1, 1024, 7, 7]          2,048\n",
      "├─Linear: 1-2                            [-1, 7]                   7,175\n",
      "==========================================================================================\n",
      "Total params: 6,961,031\n",
      "Trainable params: 6,961,031\n",
      "Non-trainable params: 0\n",
      "Total mult-adds (G): 2.85\n",
      "==========================================================================================\n",
      "Input size (MB): 0.57\n",
      "Forward/backward pass size (MB): 172.17\n",
      "Params size (MB): 26.55\n",
      "Estimated Total Size (MB): 199.30\n",
      "==========================================================================================\n",
      "==========================================================================================\n",
      "Layer (type:depth-idx)                   Output Shape              Param #\n",
      "==========================================================================================\n",
      "├─Sequential: 1-1                        [-1, 1024, 7, 7]          --\n",
      "|    └─Conv2d: 2-1                       [-1, 64, 112, 112]        9,408\n",
      "|    └─BatchNorm2d: 2-2                  [-1, 64, 112, 112]        128\n",
      "|    └─ReLU: 2-3                         [-1, 64, 112, 112]        --\n",
      "|    └─MaxPool2d: 2-4                    [-1, 64, 56, 56]          --\n",
      "|    └─_DenseBlock: 2-5                  [-1, 256, 56, 56]         --\n",
      "|    |    └─_DenseLayer: 3-1             [-1, 32, 56, 56]          45,440\n",
      "|    |    └─_DenseLayer: 3-2             [-1, 32, 56, 56]          49,600\n",
      "|    |    └─_DenseLayer: 3-3             [-1, 32, 56, 56]          53,760\n",
      "|    |    └─_DenseLayer: 3-4             [-1, 32, 56, 56]          57,920\n",
      "|    |    └─_DenseLayer: 3-5             [-1, 32, 56, 56]          62,080\n",
      "|    |    └─_DenseLayer: 3-6             [-1, 32, 56, 56]          66,240\n",
      "|    └─_Transition: 2-6                  [-1, 128, 28, 28]         --\n",
      "|    |    └─BatchNorm2d: 3-7             [-1, 256, 56, 56]         512\n",
      "|    |    └─ReLU: 3-8                    [-1, 256, 56, 56]         --\n",
      "|    |    └─Conv2d: 3-9                  [-1, 128, 56, 56]         32,768\n",
      "|    |    └─AvgPool2d: 3-10              [-1, 128, 28, 28]         --\n",
      "|    └─_DenseBlock: 2-7                  [-1, 512, 28, 28]         --\n",
      "|    |    └─_DenseLayer: 3-11            [-1, 32, 28, 28]          53,760\n",
      "|    |    └─_DenseLayer: 3-12            [-1, 32, 28, 28]          57,920\n",
      "|    |    └─_DenseLayer: 3-13            [-1, 32, 28, 28]          62,080\n",
      "|    |    └─_DenseLayer: 3-14            [-1, 32, 28, 28]          66,240\n",
      "|    |    └─_DenseLayer: 3-15            [-1, 32, 28, 28]          70,400\n",
      "|    |    └─_DenseLayer: 3-16            [-1, 32, 28, 28]          74,560\n",
      "|    |    └─_DenseLayer: 3-17            [-1, 32, 28, 28]          78,720\n",
      "|    |    └─_DenseLayer: 3-18            [-1, 32, 28, 28]          82,880\n",
      "|    |    └─_DenseLayer: 3-19            [-1, 32, 28, 28]          87,040\n",
      "|    |    └─_DenseLayer: 3-20            [-1, 32, 28, 28]          91,200\n",
      "|    |    └─_DenseLayer: 3-21            [-1, 32, 28, 28]          95,360\n",
      "|    |    └─_DenseLayer: 3-22            [-1, 32, 28, 28]          99,520\n",
      "|    └─_Transition: 2-8                  [-1, 256, 14, 14]         --\n",
      "|    |    └─BatchNorm2d: 3-23            [-1, 512, 28, 28]         1,024\n",
      "|    |    └─ReLU: 3-24                   [-1, 512, 28, 28]         --\n",
      "|    |    └─Conv2d: 3-25                 [-1, 256, 28, 28]         131,072\n",
      "|    |    └─AvgPool2d: 3-26              [-1, 256, 14, 14]         --\n",
      "|    └─_DenseBlock: 2-9                  [-1, 1024, 14, 14]        --\n",
      "|    |    └─_DenseLayer: 3-27            [-1, 32, 14, 14]          70,400\n",
      "|    |    └─_DenseLayer: 3-28            [-1, 32, 14, 14]          74,560\n",
      "|    |    └─_DenseLayer: 3-29            [-1, 32, 14, 14]          78,720\n",
      "|    |    └─_DenseLayer: 3-30            [-1, 32, 14, 14]          82,880\n",
      "|    |    └─_DenseLayer: 3-31            [-1, 32, 14, 14]          87,040\n",
      "|    |    └─_DenseLayer: 3-32            [-1, 32, 14, 14]          91,200\n",
      "|    |    └─_DenseLayer: 3-33            [-1, 32, 14, 14]          95,360\n",
      "|    |    └─_DenseLayer: 3-34            [-1, 32, 14, 14]          99,520\n",
      "|    |    └─_DenseLayer: 3-35            [-1, 32, 14, 14]          103,680\n",
      "|    |    └─_DenseLayer: 3-36            [-1, 32, 14, 14]          107,840\n",
      "|    |    └─_DenseLayer: 3-37            [-1, 32, 14, 14]          112,000\n",
      "|    |    └─_DenseLayer: 3-38            [-1, 32, 14, 14]          116,160\n",
      "|    |    └─_DenseLayer: 3-39            [-1, 32, 14, 14]          120,320\n",
      "|    |    └─_DenseLayer: 3-40            [-1, 32, 14, 14]          124,480\n",
      "|    |    └─_DenseLayer: 3-41            [-1, 32, 14, 14]          128,640\n",
      "|    |    └─_DenseLayer: 3-42            [-1, 32, 14, 14]          132,800\n",
      "|    |    └─_DenseLayer: 3-43            [-1, 32, 14, 14]          136,960\n",
      "|    |    └─_DenseLayer: 3-44            [-1, 32, 14, 14]          141,120\n",
      "|    |    └─_DenseLayer: 3-45            [-1, 32, 14, 14]          145,280\n",
      "|    |    └─_DenseLayer: 3-46            [-1, 32, 14, 14]          149,440\n",
      "|    |    └─_DenseLayer: 3-47            [-1, 32, 14, 14]          153,600\n",
      "|    |    └─_DenseLayer: 3-48            [-1, 32, 14, 14]          157,760\n",
      "|    |    └─_DenseLayer: 3-49            [-1, 32, 14, 14]          161,920\n",
      "|    |    └─_DenseLayer: 3-50            [-1, 32, 14, 14]          166,080\n",
      "|    └─_Transition: 2-10                 [-1, 512, 7, 7]           --\n",
      "|    |    └─BatchNorm2d: 3-51            [-1, 1024, 14, 14]        2,048\n",
      "|    |    └─ReLU: 3-52                   [-1, 1024, 14, 14]        --\n",
      "|    |    └─Conv2d: 3-53                 [-1, 512, 14, 14]         524,288\n",
      "|    |    └─AvgPool2d: 3-54              [-1, 512, 7, 7]           --\n",
      "|    └─_DenseBlock: 2-11                 [-1, 1024, 7, 7]          --\n",
      "|    |    └─_DenseLayer: 3-55            [-1, 32, 7, 7]            103,680\n",
      "|    |    └─_DenseLayer: 3-56            [-1, 32, 7, 7]            107,840\n",
      "|    |    └─_DenseLayer: 3-57            [-1, 32, 7, 7]            112,000\n",
      "|    |    └─_DenseLayer: 3-58            [-1, 32, 7, 7]            116,160\n",
      "|    |    └─_DenseLayer: 3-59            [-1, 32, 7, 7]            120,320\n",
      "|    |    └─_DenseLayer: 3-60            [-1, 32, 7, 7]            124,480\n",
      "|    |    └─_DenseLayer: 3-61            [-1, 32, 7, 7]            128,640\n",
      "|    |    └─_DenseLayer: 3-62            [-1, 32, 7, 7]            132,800\n",
      "|    |    └─_DenseLayer: 3-63            [-1, 32, 7, 7]            136,960\n",
      "|    |    └─_DenseLayer: 3-64            [-1, 32, 7, 7]            141,120\n",
      "|    |    └─_DenseLayer: 3-65            [-1, 32, 7, 7]            145,280\n",
      "|    |    └─_DenseLayer: 3-66            [-1, 32, 7, 7]            149,440\n",
      "|    |    └─_DenseLayer: 3-67            [-1, 32, 7, 7]            153,600\n",
      "|    |    └─_DenseLayer: 3-68            [-1, 32, 7, 7]            157,760\n",
      "|    |    └─_DenseLayer: 3-69            [-1, 32, 7, 7]            161,920\n",
      "|    |    └─_DenseLayer: 3-70            [-1, 32, 7, 7]            166,080\n",
      "|    └─BatchNorm2d: 2-12                 [-1, 1024, 7, 7]          2,048\n",
      "├─Linear: 1-2                            [-1, 7]                   7,175\n",
      "==========================================================================================\n",
      "Total params: 6,961,031\n",
      "Trainable params: 6,961,031\n",
      "Non-trainable params: 0\n",
      "Total mult-adds (G): 2.85\n",
      "==========================================================================================\n",
      "Input size (MB): 0.57\n",
      "Forward/backward pass size (MB): 172.17\n",
      "Params size (MB): 26.55\n",
      "Estimated Total Size (MB): 199.30\n",
      "==========================================================================================\n"
     ]
    }
   ],
   "source": [
    "input_size = (3, 224, 224)\n",
    "print(summary(model_des, input_size, device=device.type))"
   ]
  },
  {
   "cell_type": "code",
   "execution_count": 24,
   "metadata": {},
   "outputs": [],
   "source": [
    "start_time = time.time()"
   ]
  },
  {
   "cell_type": "code",
   "execution_count": 25,
   "metadata": {},
   "outputs": [
    {
     "name": "stderr",
     "output_type": "stream",
     "text": [
      "  3%|▎         | 1/30 [01:55<55:37, 115.10s/it]"
     ]
    },
    {
     "name": "stdout",
     "output_type": "stream",
     "text": [
      "Epoch 1\n",
      "Training Loss: 0.8261477194091146 \n",
      "Training Accuracy: 69.62465620449765%\n",
      "Validation Loss: 0.7387107802453892 \n",
      "Validation Accuracy: 73.38618346545866%\n",
      "=======================================================================\n",
      "Validation Loss Decreased(inf--->0.738711) \n",
      "Saving The Model\n",
      "=======================================================================\n"
     ]
    },
    {
     "name": "stderr",
     "output_type": "stream",
     "text": [
      "  7%|▋         | 2/30 [03:49<53:36, 114.89s/it]"
     ]
    },
    {
     "name": "stdout",
     "output_type": "stream",
     "text": [
      "Epoch 2\n",
      "Training Loss: 0.5516677750250474 \n",
      "Training Accuracy: 79.81718168581136%\n",
      "Validation Loss: 0.45847052482055445 \n",
      "Validation Accuracy: 83.30367254489565%\n",
      "=======================================================================\n",
      "Validation Loss Decreased(0.738711--->0.458471) \n",
      "Saving The Model\n",
      "=======================================================================\n"
     ]
    },
    {
     "name": "stderr",
     "output_type": "stream",
     "text": [
      " 10%|█         | 3/30 [05:44<51:42, 114.91s/it]"
     ]
    },
    {
     "name": "stdout",
     "output_type": "stream",
     "text": [
      "Epoch 3\n",
      "Training Loss: 0.43051664754555824 \n",
      "Training Accuracy: 84.6707652483417%\n",
      "Validation Loss: 0.39533784592798515 \n",
      "Validation Accuracy: 85.49587445397185%\n",
      "=======================================================================\n",
      "Validation Loss Decreased(0.458471--->0.395338) \n",
      "Saving The Model\n",
      "=======================================================================\n"
     ]
    },
    {
     "name": "stderr",
     "output_type": "stream",
     "text": [
      " 13%|█▎        | 4/30 [07:39<49:46, 114.85s/it]"
     ]
    },
    {
     "name": "stdout",
     "output_type": "stream",
     "text": [
      "Epoch 4\n",
      "Training Loss: 0.358678858630956 \n",
      "Training Accuracy: 87.42112926710888%\n",
      "Validation Loss: 0.3331285779982882 \n",
      "Validation Accuracy: 88.75586474680472%\n",
      "=======================================================================\n",
      "Validation Loss Decreased(0.395338--->0.333129) \n",
      "Saving The Model\n",
      "=======================================================================\n"
     ]
    },
    {
     "name": "stderr",
     "output_type": "stream",
     "text": [
      " 17%|█▋        | 5/30 [09:34<47:49, 114.76s/it]"
     ]
    },
    {
     "name": "stdout",
     "output_type": "stream",
     "text": [
      "Epoch 5\n",
      "Training Loss: 0.32545012278958807 \n",
      "Training Accuracy: 88.65879307555412%\n",
      "Validation Loss: 0.28737784574621716 \n",
      "Validation Accuracy: 89.8236531305614%\n",
      "=======================================================================\n",
      "Validation Loss Decreased(0.333129--->0.287378) \n",
      "Saving The Model\n",
      "=======================================================================\n"
     ]
    },
    {
     "name": "stderr",
     "output_type": "stream",
     "text": [
      " 20%|██        | 6/30 [11:28<45:51, 114.65s/it]"
     ]
    },
    {
     "name": "stdout",
     "output_type": "stream",
     "text": [
      "Epoch 6\n",
      "Training Loss: 0.26617743119173887 \n",
      "Training Accuracy: 90.48697621744054%\n",
      "Validation Loss: 0.28083337190770363 \n",
      "Validation Accuracy: 89.79938521274875%\n",
      "=======================================================================\n",
      "Validation Loss Decreased(0.287378--->0.280833) \n",
      "Saving The Model\n",
      "=======================================================================\n"
     ]
    },
    {
     "name": "stderr",
     "output_type": "stream",
     "text": [
      " 23%|██▎       | 7/30 [13:22<43:55, 114.57s/it]"
     ]
    },
    {
     "name": "stdout",
     "output_type": "stream",
     "text": [
      "Epoch 7\n",
      "Training Loss: 0.22882749899759774 \n",
      "Training Accuracy: 91.84597961494904%\n",
      "Validation Loss: 0.27155830569863704 \n",
      "Validation Accuracy: 91.43342501213395%\n",
      "=======================================================================\n",
      "Validation Loss Decreased(0.280833--->0.271558) \n",
      "Saving The Model\n",
      "=======================================================================\n"
     ]
    },
    {
     "name": "stderr",
     "output_type": "stream",
     "text": [
      " 27%|██▋       | 8/30 [15:17<41:59, 114.53s/it]"
     ]
    },
    {
     "name": "stdout",
     "output_type": "stream",
     "text": [
      "Epoch 8\n",
      "Training Loss: 0.22190429074858203 \n",
      "Training Accuracy: 92.45267756026533%\n",
      "Validation Loss: 0.236189246923694 \n",
      "Validation Accuracy: 91.51431807150946%\n",
      "=======================================================================\n",
      "Validation Loss Decreased(0.271558--->0.236189) \n",
      "Saving The Model\n",
      "=======================================================================\n"
     ]
    },
    {
     "name": "stderr",
     "output_type": "stream",
     "text": [
      " 30%|███       | 9/30 [17:11<40:05, 114.53s/it]"
     ]
    },
    {
     "name": "stdout",
     "output_type": "stream",
     "text": [
      "Epoch 9\n",
      "Training Loss: 0.18984332203248983 \n",
      "Training Accuracy: 93.4072156608963%\n",
      "Validation Loss: 0.22644415471308146 \n",
      "Validation Accuracy: 91.4253357061964%\n",
      "=======================================================================\n",
      "Validation Loss Decreased(0.236189--->0.226444) \n",
      "Saving The Model\n",
      "=======================================================================\n"
     ]
    },
    {
     "name": "stderr",
     "output_type": "stream",
     "text": [
      " 33%|███▎      | 10/30 [19:06<38:10, 114.53s/it]"
     ]
    },
    {
     "name": "stdout",
     "output_type": "stream",
     "text": [
      "Epoch 10\n",
      "Training Loss: 0.17059026417642523 \n",
      "Training Accuracy: 94.08671735965054%\n",
      "Validation Loss: 0.1418726839731599 \n",
      "Validation Accuracy: 95.0412554602815%\n",
      "=======================================================================\n",
      "Validation Loss Decreased(0.226444--->0.141873) \n",
      "Saving The Model\n",
      "=======================================================================\n"
     ]
    },
    {
     "name": "stderr",
     "output_type": "stream",
     "text": [
      " 37%|███▋      | 11/30 [21:00<36:14, 114.47s/it]"
     ]
    },
    {
     "name": "stdout",
     "output_type": "stream",
     "text": [
      "Epoch 11\n",
      "Training Loss: 0.15059652653202724 \n",
      "Training Accuracy: 94.75004044652968%\n",
      "Validation Loss: 0.13375652946762798 \n",
      "Validation Accuracy: 95.44572075715904%\n",
      "=======================================================================\n",
      "Validation Loss Decreased(0.141873--->0.133757) \n",
      "Saving The Model\n",
      "=======================================================================\n"
     ]
    },
    {
     "name": "stderr",
     "output_type": "stream",
     "text": [
      " 40%|████      | 12/30 [22:55<34:20, 114.50s/it]"
     ]
    },
    {
     "name": "stdout",
     "output_type": "stream",
     "text": [
      "Epoch 12\n",
      "Training Loss: 0.14759113188130296 \n",
      "Training Accuracy: 94.85520142371784%\n",
      "Validation Loss: 0.1660128860500971 \n",
      "Validation Accuracy: 94.240414172464%\n",
      "=======================================================================\n"
     ]
    },
    {
     "name": "stderr",
     "output_type": "stream",
     "text": [
      " 43%|████▎     | 13/30 [24:49<32:26, 114.48s/it]"
     ]
    },
    {
     "name": "stdout",
     "output_type": "stream",
     "text": [
      "Epoch 13\n",
      "Training Loss: 0.12111504983099163 \n",
      "Training Accuracy: 95.79356091247371%\n",
      "Validation Loss: 0.11478010004444063 \n",
      "Validation Accuracy: 96.58631289435367%\n",
      "=======================================================================\n",
      "Validation Loss Decreased(0.133757--->0.114780) \n",
      "Saving The Model\n",
      "=======================================================================\n"
     ]
    },
    {
     "name": "stderr",
     "output_type": "stream",
     "text": [
      " 47%|████▋     | 14/30 [26:44<30:31, 114.47s/it]"
     ]
    },
    {
     "name": "stdout",
     "output_type": "stream",
     "text": [
      "Epoch 14\n",
      "Training Loss: 0.12189224241806786 \n",
      "Training Accuracy: 95.76929299466106%\n",
      "Validation Loss: 0.10033748351766678 \n",
      "Validation Accuracy: 96.81281346060508%\n",
      "=======================================================================\n",
      "Validation Loss Decreased(0.114780--->0.100337) \n",
      "Saving The Model\n",
      "=======================================================================\n"
     ]
    },
    {
     "name": "stderr",
     "output_type": "stream",
     "text": [
      " 50%|█████     | 15/30 [28:38<28:36, 114.44s/it]"
     ]
    },
    {
     "name": "stdout",
     "output_type": "stream",
     "text": [
      "Epoch 15\n",
      "Training Loss: 0.12878750605046635 \n",
      "Training Accuracy: 95.68839993528555%\n",
      "Validation Loss: 0.10448945100955877 \n",
      "Validation Accuracy: 96.2870085746643%\n",
      "=======================================================================\n"
     ]
    },
    {
     "name": "stderr",
     "output_type": "stream",
     "text": [
      " 53%|█████▎    | 16/30 [30:33<26:42, 114.46s/it]"
     ]
    },
    {
     "name": "stdout",
     "output_type": "stream",
     "text": [
      "Epoch 16\n",
      "Training Loss: 0.09298940319074582 \n",
      "Training Accuracy: 96.9260637437308%\n",
      "Validation Loss: 0.1414871282565097 \n",
      "Validation Accuracy: 95.6155961818476%\n",
      "=======================================================================\n"
     ]
    },
    {
     "name": "stderr",
     "output_type": "stream",
     "text": [
      " 57%|█████▋    | 17/30 [32:27<24:47, 114.40s/it]"
     ]
    },
    {
     "name": "stdout",
     "output_type": "stream",
     "text": [
      "Epoch 17\n",
      "Training Loss: 0.10701780053437988 \n",
      "Training Accuracy: 96.32745510435204%\n",
      "Validation Loss: 0.10155902878809672 \n",
      "Validation Accuracy: 96.60249150622876%\n",
      "=======================================================================\n"
     ]
    },
    {
     "name": "stderr",
     "output_type": "stream",
     "text": [
      " 60%|██████    | 18/30 [34:21<22:52, 114.38s/it]"
     ]
    },
    {
     "name": "stdout",
     "output_type": "stream",
     "text": [
      "Epoch 18\n",
      "Training Loss: 0.09516450006019045 \n",
      "Training Accuracy: 96.72383109529203%\n",
      "Validation Loss: 0.19266685638853495 \n",
      "Validation Accuracy: 94.83902281184274%\n",
      "=======================================================================\n"
     ]
    },
    {
     "name": "stderr",
     "output_type": "stream",
     "text": [
      " 63%|██████▎   | 19/30 [36:16<20:58, 114.40s/it]"
     ]
    },
    {
     "name": "stdout",
     "output_type": "stream",
     "text": [
      "Epoch 19\n",
      "Training Loss: 0.08961643631093551 \n",
      "Training Accuracy: 96.99077819123119%\n",
      "Validation Loss: 0.09865076212003077 \n",
      "Validation Accuracy: 96.99077819123119%\n",
      "=======================================================================\n",
      "Validation Loss Decreased(0.100337--->0.098651) \n",
      "Saving The Model\n",
      "=======================================================================\n"
     ]
    },
    {
     "name": "stderr",
     "output_type": "stream",
     "text": [
      " 67%|██████▋   | 20/30 [38:10<19:03, 114.36s/it]"
     ]
    },
    {
     "name": "stdout",
     "output_type": "stream",
     "text": [
      "Epoch 20\n",
      "Training Loss: 0.08382440775931267 \n",
      "Training Accuracy: 97.0393140268565%\n",
      "Validation Loss: 0.09013932396703489 \n",
      "Validation Accuracy: 97.120207086232%\n",
      "=======================================================================\n",
      "Validation Loss Decreased(0.098651--->0.090139) \n",
      "Saving The Model\n",
      "=======================================================================\n"
     ]
    },
    {
     "name": "stderr",
     "output_type": "stream",
     "text": [
      " 70%|███████   | 21/30 [40:04<17:08, 114.25s/it]"
     ]
    },
    {
     "name": "stdout",
     "output_type": "stream",
     "text": [
      "Epoch 21\n",
      "Training Loss: 0.09954665608442984 \n",
      "Training Accuracy: 96.5296877527908%\n",
      "Validation Loss: 0.14634219781244148 \n",
      "Validation Accuracy: 95.32438116809578%\n",
      "=======================================================================\n"
     ]
    },
    {
     "name": "stderr",
     "output_type": "stream",
     "text": [
      " 73%|███████▎  | 22/30 [41:58<15:13, 114.21s/it]"
     ]
    },
    {
     "name": "stdout",
     "output_type": "stream",
     "text": [
      "Epoch 22\n",
      "Training Loss: 0.07733391044879193 \n",
      "Training Accuracy: 97.40333279404626%\n",
      "Validation Loss: 0.2742250991193457 \n",
      "Validation Accuracy: 91.86215822682414%\n",
      "=======================================================================\n"
     ]
    },
    {
     "name": "stderr",
     "output_type": "stream",
     "text": [
      " 77%|███████▋  | 23/30 [43:52<13:19, 114.19s/it]"
     ]
    },
    {
     "name": "stdout",
     "output_type": "stream",
     "text": [
      "Epoch 23\n",
      "Training Loss: 0.0743620502284201 \n",
      "Training Accuracy: 97.54894030092218%\n",
      "Validation Loss: 0.08643695422344738 \n",
      "Validation Accuracy: 97.39524348810872%\n",
      "=======================================================================\n",
      "Validation Loss Decreased(0.090139--->0.086437) \n",
      "Saving The Model\n",
      "=======================================================================\n"
     ]
    },
    {
     "name": "stderr",
     "output_type": "stream",
     "text": [
      " 80%|████████  | 24/30 [45:46<11:25, 114.21s/it]"
     ]
    },
    {
     "name": "stdout",
     "output_type": "stream",
     "text": [
      "Epoch 24\n",
      "Training Loss: 0.0545813854209518 \n",
      "Training Accuracy: 98.20417408186377%\n",
      "Validation Loss: 0.10853611325826472 \n",
      "Validation Accuracy: 96.55395567060346%\n",
      "=======================================================================\n"
     ]
    },
    {
     "name": "stderr",
     "output_type": "stream",
     "text": [
      " 83%|████████▎ | 25/30 [47:41<09:30, 114.17s/it]"
     ]
    },
    {
     "name": "stdout",
     "output_type": "stream",
     "text": [
      "Epoch 25\n",
      "Training Loss: 0.08036379410869632 \n",
      "Training Accuracy: 97.36288626435852%\n",
      "Validation Loss: 0.0850684615956061 \n",
      "Validation Accuracy: 97.38715418217117%\n",
      "=======================================================================\n",
      "Validation Loss Decreased(0.086437--->0.085068) \n",
      "Saving The Model\n",
      "=======================================================================\n"
     ]
    },
    {
     "name": "stderr",
     "output_type": "stream",
     "text": [
      " 87%|████████▋ | 26/30 [49:35<07:36, 114.18s/it]"
     ]
    },
    {
     "name": "stdout",
     "output_type": "stream",
     "text": [
      "Epoch 26\n",
      "Training Loss: 0.06276839776223318 \n",
      "Training Accuracy: 98.09901310467562%\n",
      "Validation Loss: 0.05782540044906725 \n",
      "Validation Accuracy: 98.32551367092704%\n",
      "=======================================================================\n",
      "Validation Loss Decreased(0.085068--->0.057825) \n",
      "Saving The Model\n",
      "=======================================================================\n"
     ]
    },
    {
     "name": "stderr",
     "output_type": "stream",
     "text": [
      " 90%|█████████ | 27/30 [51:29<05:42, 114.22s/it]"
     ]
    },
    {
     "name": "stdout",
     "output_type": "stream",
     "text": [
      "Epoch 27\n",
      "Training Loss: 0.06183996602025928 \n",
      "Training Accuracy: 97.8239767027989%\n",
      "Validation Loss: 0.14686114753858795 \n",
      "Validation Accuracy: 95.17877366121986%\n",
      "=======================================================================\n"
     ]
    },
    {
     "name": "stderr",
     "output_type": "stream",
     "text": [
      " 93%|█████████▎| 28/30 [53:23<03:48, 114.15s/it]"
     ]
    },
    {
     "name": "stdout",
     "output_type": "stream",
     "text": [
      "Epoch 28\n",
      "Training Loss: 0.06892703807472374 \n",
      "Training Accuracy: 97.71881572561074%\n",
      "Validation Loss: 0.05868526232870746 \n",
      "Validation Accuracy: 98.13945963436338%\n",
      "=======================================================================\n"
     ]
    },
    {
     "name": "stderr",
     "output_type": "stream",
     "text": [
      " 97%|█████████▋| 29/30 [55:17<01:54, 114.09s/it]"
     ]
    },
    {
     "name": "stdout",
     "output_type": "stream",
     "text": [
      "Epoch 29\n",
      "Training Loss: 0.052612463926213 \n",
      "Training Accuracy: 98.24462061155153%\n",
      "Validation Loss: 0.07212585435065114 \n",
      "Validation Accuracy: 97.7754408671736%\n",
      "=======================================================================\n"
     ]
    },
    {
     "name": "stderr",
     "output_type": "stream",
     "text": [
      "100%|██████████| 30/30 [57:11<00:00, 114.38s/it]"
     ]
    },
    {
     "name": "stdout",
     "output_type": "stream",
     "text": [
      "Epoch 30\n",
      "Training Loss: 0.053385695963267726 \n",
      "Training Accuracy: 98.14754894030092%\n",
      "Validation Loss: 0.11631534595535202 \n",
      "Validation Accuracy: 95.99579356091247%\n",
      "=======================================================================\n"
     ]
    },
    {
     "name": "stderr",
     "output_type": "stream",
     "text": [
      "\n"
     ]
    }
   ],
   "source": [
    "epochs = 30\n",
    "patience = 5\n",
    "model_filename = 'densenet_pret.pth'\n",
    "densenet_model, total_loss_train, total_loss_val, total_acc_train, total_acc_val = Model_functions.train_and_validate_model(\n",
    "                        model_des, train_loader, val_loader,test_loader, criterion,patience, optimizer, device, epochs, model_filename,verbose=True)"
   ]
  },
  {
   "cell_type": "code",
   "execution_count": 26,
   "metadata": {},
   "outputs": [
    {
     "name": "stdout",
     "output_type": "stream",
     "text": [
      "Total training and validation time for Pretrainned Densenet model: 57.34 minutes\n"
     ]
    }
   ],
   "source": [
    "end_time = time.time()\n",
    "total_time = end_time - start_time\n",
    "print(f\"Total training and validation time for Pretrainned Densenet model: {total_time/60:.2f} minutes\")"
   ]
  },
  {
   "cell_type": "code",
   "execution_count": 27,
   "metadata": {},
   "outputs": [
    {
     "data": {
      "image/png": "[encoded data removed]",
      "text/plain": [
       "<Figure size 2000x1600 with 2 Axes>"
      ]
     },
     "metadata": {},
     "output_type": "display_data"
    }
   ],
   "source": [
    "fig = plt.figure(num=2, figsize=(20, 16))  \n",
    "fig1 = fig.add_subplot(2, 1, 1)\n",
    "fig2 = fig.add_subplot(2, 1, 2)\n",
    "\n",
    "fig1.plot(total_loss_train, label='Training Loss')\n",
    "fig1.plot(total_loss_val, label='Validation Loss')\n",
    "fig1.set_ylim([0, 1])\n",
    "fig1.set_title('Loss for Pretrainned Densenet model', fontsize=14)  \n",
    "fig1.legend()\n",
    "fig2.plot(total_acc_train, label='Training Accuracy')\n",
    "fig2.plot(total_acc_val, label='Validation Accuracy')\n",
    "fig2.set_ylim([0, 100])\n",
    "fig2.set_title('Accuracy for Pretrainned Densenet model', fontsize=14)  \n",
    "fig2.legend()\n",
    "plt.show()"
   ]
  },
  {
   "cell_type": "code",
   "execution_count": 28,
   "metadata": {},
   "outputs": [
    {
     "data": {
      "image/png": "[encoded data removed]",
      "text/plain": [
       "<Figure size 2400x1000 with 4 Axes>"
      ]
     },
     "metadata": {},
     "output_type": "display_data"
    },
    {
     "name": "stdout",
     "output_type": "stream",
     "text": [
      "-------------------------------------------------------\n",
      "Classification Report:\n",
      "\n",
      "              precision    recall  f1-score   support\n",
      "\n",
      "       akiec       0.98      0.96      0.97       878\n",
      "         bcc       0.98      0.95      0.96       877\n",
      "         bkl       1.00      1.00      1.00       872\n",
      "          df       0.95      0.99      0.97       873\n",
      "         mel       1.00      1.00      1.00       871\n",
      "          nv       1.00      1.00      1.00       891\n",
      "        vasc       0.99      1.00      0.99       919\n",
      "\n",
      "    accuracy                           0.99      6181\n",
      "   macro avg       0.99      0.99      0.99      6181\n",
      "weighted avg       0.99      0.99      0.99      6181\n",
      "\n",
      "-------------------------------------------------------\n"
     ]
    }
   ],
   "source": [
    "Model_functions.conf_report(densenet_model, test_loader, 'densenet_conf_mat')\n",
    "# Model_functions.conf_report(model_des, test_loader, 'densenet_conf_mat')"
   ]
  },
  {
   "cell_type": "code",
   "execution_count": 29,
   "metadata": {},
   "outputs": [
    {
     "name": "stdout",
     "output_type": "stream",
     "text": [
      "-------------------------------------------------------\n",
      "Best models accuracy 98.5762821549911\n",
      "-------------------------------------------------------\n"
     ]
    }
   ],
   "source": [
    "best_model_state = torch.load('densenet_pret.pth',map_location='cpu')\n",
    "device = torch.device('cpu')\n",
    "model_des.load_state_dict(best_model_state)\n",
    "model_des.to(device)\n",
    "test_accuracy = Model_functions.test_model(model_des, test_loader, device)\n",
    "print('-------------------------------------------------------')\n",
    "print(f'Best models accuracy {test_accuracy}')\n",
    "print('-------------------------------------------------------')"
   ]
  },
  {
   "cell_type": "code",
   "execution_count": null,
   "metadata": {},
   "outputs": [],
   "source": []
  }
 ],
 "metadata": {
  "kernelspec": {
   "display_name": "base",
   "language": "python",
   "name": "python3"
  },
  "language_info": {
   "codemirror_mode": {
    "name": "ipython",
    "version": 3
   },
   "file_extension": ".py",
   "mimetype": "text/x-python",
   "name": "python",
   "nbconvert_exporter": "python",
   "pygments_lexer": "ipython3",
   "version": "3.11.5"
  }
 },
 "nbformat": 4,
 "nbformat_minor": 2
}
